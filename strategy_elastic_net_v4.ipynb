{
 "cells": [
  {
   "cell_type": "markdown",
   "metadata": {},
   "source": [
    "### Description"
   ]
  },
  {
   "cell_type": "code",
   "execution_count": 1,
   "metadata": {},
   "outputs": [],
   "source": [
    "### This code ingests a df of cleaned output and input variables and runs code to decide\n",
    "### which calibration of Elastic Net vs. amended fused lasso works best."
   ]
  },
  {
   "cell_type": "markdown",
   "metadata": {},
   "source": [
    "### Imports"
   ]
  },
  {
   "cell_type": "code",
   "execution_count": 2,
   "metadata": {},
   "outputs": [],
   "source": [
    "import pandas as pd\n",
    "\n",
    "import numpy as np\n",
    "from datetime import datetime\n",
    "import xlsxwriter\n",
    "import string\n",
    "import os\n",
    "import re\n",
    "import matplotlib.pyplot as plt\n",
    "from statsmodels.tsa.stattools import adfuller\n",
    "import statsmodels.api as sm\n",
    "from scipy import stats\n",
    "from numpy.random import seed\n",
    "from numpy.random import randn\n",
    "from scipy.stats import shapiro\n",
    "from sklearn.neighbors import KernelDensity\n",
    "import seaborn as sns\n",
    "import cvxpy as cp\n",
    "from scipy.optimize import minimize"
   ]
  },
  {
   "cell_type": "code",
   "execution_count": 3,
   "metadata": {},
   "outputs": [],
   "source": [
    "from scipy.optimize import minimize"
   ]
  },
  {
   "cell_type": "markdown",
   "metadata": {},
   "source": [
    "## Specify parameters [1]"
   ]
  },
  {
   "cell_type": "code",
   "execution_count": 63,
   "metadata": {},
   "outputs": [],
   "source": [
    "window_range = [1,2,3,4,5,6]+list(7*np.array(range(1,25)))\n",
    "shift_range = range(1,14)\n",
    "\n",
    "\n",
    "### Specify what indicators to use\n",
    "### These variables should be iterable based on either a shift or a rolling window.It may be iterable multiple times\n",
    "\n",
    "    \n",
    "alph_high_range = [0.6,0.7,0.8,0.9,0.95]\n",
    "alph_low_range = [0.1,0.2,0.3,0.4,0.5]\n",
    "x_variables = ['rolling_avg_pct_change','momentum','ema_diff','RSI']\n",
    "y_variables = ['forward_opportunity_binary']\n",
    "dep_var = ['forward_21_opportunity_pct_size']\n",
    "\n",
    "\n",
    "file_path = r\"C:\\Users\\hugo.lu\\repos\\repos_backup\\Strategy-creation\\cleaned_matrices\\technical_indicator_clean.csv\"\n",
    "pricing_data_string = r\"C:\\Users\\hugo.lu\\repos\\repos_backup\\Strategy-creation\\Raw data\\EURUSD\\2020-05-05_EURUSD_MIDPOINT_10 Y_1 day.csv\""
   ]
  },
  {
   "cell_type": "markdown",
   "metadata": {},
   "source": [
    "## Specify data"
   ]
  },
  {
   "cell_type": "code",
   "execution_count": 6,
   "metadata": {},
   "outputs": [],
   "source": [
    "data_in = pd.read_csv(filepath_or_buffer = file_path, index_col = 0)"
   ]
  },
  {
   "cell_type": "code",
   "execution_count": 7,
   "metadata": {},
   "outputs": [],
   "source": [
    "pricing_data = pd.read_csv(filepath_or_buffer = pricing_data_string, index_col = 0)"
   ]
  },
  {
   "cell_type": "code",
   "execution_count": 8,
   "metadata": {},
   "outputs": [],
   "source": [
    "failure_list = []\n",
    "for item in list(data_in.columns):\n",
    "    try:\n",
    "        data_in[item] = data_in[item].astype(\"float64\")\n",
    "    except:\n",
    "        failure_list.append(item)"
   ]
  },
  {
   "cell_type": "code",
   "execution_count": 9,
   "metadata": {},
   "outputs": [
    {
     "name": "stdout",
     "output_type": "stream",
     "text": [
      "Cast succeeded\n"
     ]
    }
   ],
   "source": [
    "if  len(failure_list) == 0:\n",
    "    print(\"Cast succeeded\")\n",
    "else:\n",
    "    print(\"failed items: \" + str(len(failure_list)))"
   ]
  },
  {
   "cell_type": "code",
   "execution_count": 10,
   "metadata": {},
   "outputs": [],
   "source": [
    "failure_list = []\n",
    "for item in list(data_in.columns):\n",
    "    try:\n",
    "        data_in[item] = data_in[item].astype(\"float64\")\n",
    "    except:\n",
    "        failure_list.append(item)"
   ]
  },
  {
   "cell_type": "code",
   "execution_count": 11,
   "metadata": {},
   "outputs": [
    {
     "name": "stdout",
     "output_type": "stream",
     "text": [
      "Cast succeeded\n"
     ]
    }
   ],
   "source": [
    "if  len(failure_list) == 0:\n",
    "    print(\"Cast succeeded\")\n",
    "else:\n",
    "    print(\"failed items: \" + str(len(failure_list)))"
   ]
  },
  {
   "cell_type": "markdown",
   "metadata": {},
   "source": [
    "## Clean pricing data"
   ]
  },
  {
   "cell_type": "code",
   "execution_count": 12,
   "metadata": {},
   "outputs": [],
   "source": [
    "data_columns = list(pricing_data.columns)\n",
    "pricing_data_copy = pricing_data.copy(deep = True)\n",
    "pricing_data_copy = pricing_data_copy.rename( columns = {\n",
    "    \n",
    "    'date': 'date',\n",
    "    'close':'price',\n",
    "    #'Ticker':'ticker'\n",
    "    \n",
    "})\n",
    "pricing_data_copy['ticker'] = \"EURUSD\"\n",
    "## Cast all relevant objects to floats\n",
    "\n",
    "float_list = ['price','open']\n",
    "\n",
    "for item in float_list:\n",
    "    pricing_data_copy[item] = pricing_data_copy[item].astype('float64')\n",
    "    ## Cast all relevant objects to dates\n",
    "\n",
    "float_list = ['date']\n",
    "for item in float_list:\n",
    "    pricing_data_copy[item] = pd.to_datetime(pricing_data_copy[item])"
   ]
  },
  {
   "cell_type": "code",
   "execution_count": 13,
   "metadata": {},
   "outputs": [
    {
     "data": {
      "text/html": [
       "<div>\n",
       "<style scoped>\n",
       "    .dataframe tbody tr th:only-of-type {\n",
       "        vertical-align: middle;\n",
       "    }\n",
       "\n",
       "    .dataframe tbody tr th {\n",
       "        vertical-align: top;\n",
       "    }\n",
       "\n",
       "    .dataframe thead th {\n",
       "        text-align: right;\n",
       "    }\n",
       "</style>\n",
       "<table border=\"1\" class=\"dataframe\">\n",
       "  <thead>\n",
       "    <tr style=\"text-align: right;\">\n",
       "      <th></th>\n",
       "      <th>date</th>\n",
       "      <th>open</th>\n",
       "      <th>high</th>\n",
       "      <th>low</th>\n",
       "      <th>close</th>\n",
       "      <th>volume</th>\n",
       "      <th>average</th>\n",
       "      <th>barCount</th>\n",
       "    </tr>\n",
       "  </thead>\n",
       "  <tbody>\n",
       "    <tr>\n",
       "      <th>0</th>\n",
       "      <td>2010-05-10</td>\n",
       "      <td>1.290875</td>\n",
       "      <td>1.309450</td>\n",
       "      <td>1.27595</td>\n",
       "      <td>1.2787</td>\n",
       "      <td>-1</td>\n",
       "      <td>-1.0</td>\n",
       "      <td>-1</td>\n",
       "    </tr>\n",
       "    <tr>\n",
       "      <th>1</th>\n",
       "      <td>2010-05-11</td>\n",
       "      <td>1.278325</td>\n",
       "      <td>1.280325</td>\n",
       "      <td>1.26565</td>\n",
       "      <td>1.2662</td>\n",
       "      <td>-1</td>\n",
       "      <td>-1.0</td>\n",
       "      <td>-1</td>\n",
       "    </tr>\n",
       "  </tbody>\n",
       "</table>\n",
       "</div>"
      ],
      "text/plain": [
       "         date      open      high      low   close  volume  average  barCount\n",
       "0  2010-05-10  1.290875  1.309450  1.27595  1.2787      -1     -1.0        -1\n",
       "1  2010-05-11  1.278325  1.280325  1.26565  1.2662      -1     -1.0        -1"
      ]
     },
     "execution_count": 13,
     "metadata": {},
     "output_type": "execute_result"
    }
   ],
   "source": [
    "pricing_data.head(2)"
   ]
  },
  {
   "cell_type": "markdown",
   "metadata": {},
   "source": [
    "### Calculate properties of FD"
   ]
  },
  {
   "cell_type": "code",
   "execution_count": 14,
   "metadata": {},
   "outputs": [],
   "source": [
    "\n",
    "first_difference = pricing_data_copy['price'] - pricing_data_copy['price'].shift(1)"
   ]
  },
  {
   "cell_type": "code",
   "execution_count": 15,
   "metadata": {},
   "outputs": [],
   "source": [
    "first_difference = first_difference.dropna()"
   ]
  },
  {
   "cell_type": "code",
   "execution_count": 16,
   "metadata": {},
   "outputs": [],
   "source": [
    "first_difference.reset_index(inplace = True, drop = True)"
   ]
  },
  {
   "cell_type": "code",
   "execution_count": 17,
   "metadata": {},
   "outputs": [],
   "source": [
    "## 1. Calculate mean and variance"
   ]
  },
  {
   "cell_type": "code",
   "execution_count": 18,
   "metadata": {},
   "outputs": [],
   "source": [
    "mean = first_difference.mean()\n",
    "std = first_difference.std()\n",
    "skew = first_difference.skew()\n",
    "kurtosis = first_difference.kurtosis()"
   ]
  },
  {
   "cell_type": "code",
   "execution_count": 19,
   "metadata": {},
   "outputs": [
    {
     "data": {
      "text/plain": [
       "<matplotlib.axes._subplots.AxesSubplot at 0x280ab7c1e10>"
      ]
     },
     "execution_count": 19,
     "metadata": {},
     "output_type": "execute_result"
    },
    {
     "data": {
      "image/png": "[encoded data removed]",
      "text/plain": [
       "<Figure size 432x288 with 1 Axes>"
      ]
     },
     "metadata": {
      "needs_background": "light"
     },
     "output_type": "display_data"
    }
   ],
   "source": [
    "first_difference.hist(bins = 20)"
   ]
  },
  {
   "cell_type": "code",
   "execution_count": 20,
   "metadata": {},
   "outputs": [
    {
     "data": {
      "text/plain": [
       "2.0037033577421424"
      ]
     },
     "execution_count": 20,
     "metadata": {},
     "output_type": "execute_result"
    }
   ],
   "source": [
    "kurtosis"
   ]
  },
  {
   "cell_type": "code",
   "execution_count": 21,
   "metadata": {},
   "outputs": [
    {
     "name": "stdout",
     "output_type": "stream",
     "text": [
      "Statistics=0.977, p=0.000\n",
      "Sample does not look Gaussian (reject H0)\n"
     ]
    }
   ],
   "source": [
    "\n",
    "# seed the random number generator\n",
    "\n",
    "stat, p = shapiro(first_difference)\n",
    "print('Statistics=%.3f, p=%.3f' % (stat, p))\n",
    "# interpret\n",
    "alpha = 0.05\n",
    "if p > alpha:\n",
    "\tprint('Sample looks Gaussian (fail to reject H0)')\n",
    "else:\n",
    "\tprint('Sample does not look Gaussian (reject H0)')"
   ]
  },
  {
   "cell_type": "code",
   "execution_count": 22,
   "metadata": {},
   "outputs": [
    {
     "data": {
      "text/plain": [
       "(432.20546343738715, 0.0)"
      ]
     },
     "execution_count": 22,
     "metadata": {},
     "output_type": "execute_result"
    }
   ],
   "source": [
    "### Test skewness and kurtosis\n",
    "stats.jarque_bera(first_difference)\n"
   ]
  },
  {
   "cell_type": "code",
   "execution_count": 23,
   "metadata": {},
   "outputs": [],
   "source": [
    "### Instead let's try KDE"
   ]
  },
  {
   "cell_type": "code",
   "execution_count": 24,
   "metadata": {},
   "outputs": [
    {
     "data": {
      "text/plain": [
       "[<matplotlib.lines.Line2D at 0x280ab958400>]"
      ]
     },
     "execution_count": 24,
     "metadata": {},
     "output_type": "execute_result"
    },
    {
     "data": {
      "image/png": "[encoded data removed]",
      "text/plain": [
       "<Figure size 432x288 with 1 Axes>"
      ]
     },
     "metadata": {
      "needs_background": "light"
     },
     "output_type": "display_data"
    }
   ],
   "source": [
    "x_d = np.linspace(-0.05, 0.05, 1000)\n",
    "x = np.array(first_difference)\n",
    "# instantiate and fit the KDE model\n",
    "kde = KernelDensity(bandwidth=0.003, kernel='gaussian')\n",
    "kde.fit(x[:, None])\n",
    "\n",
    "# score_samples returns the log of the probability density\n",
    "logprob = kde.score_samples(x_d[:, None])\n",
    "\n",
    "plt.fill_between(x_d, np.exp(logprob), alpha=0.5)\n",
    "plt.plot(x, np.full_like(x, -0.01), '|k', markeredgewidth=1)\n"
   ]
  },
  {
   "cell_type": "code",
   "execution_count": 25,
   "metadata": {},
   "outputs": [
    {
     "data": {
      "text/plain": [
       "<matplotlib.axes._subplots.AxesSubplot at 0x280ab9b9940>"
      ]
     },
     "execution_count": 25,
     "metadata": {},
     "output_type": "execute_result"
    },
    {
     "data": {
      "image/png": "[encoded data removed]",
      "text/plain": [
       "<Figure size 432x288 with 1 Axes>"
      ]
     },
     "metadata": {
      "needs_background": "light"
     },
     "output_type": "display_data"
    }
   ],
   "source": [
    "#Visualisation:\n",
    "sns.distplot(first_difference, hist=True, kde=True, \n",
    "             bins=int(round((len(first_difference)/60))), color = 'darkblue', \n",
    "             hist_kws={'edgecolor':'black'},\n",
    "             kde_kws={'linewidth': 4})"
   ]
  },
  {
   "cell_type": "code",
   "execution_count": 26,
   "metadata": {},
   "outputs": [
    {
     "data": {
      "image/png": "[encoded data removed]",
      "text/plain": [
       "<Figure size 432x288 with 1 Axes>"
      ]
     },
     "metadata": {
      "needs_background": "light"
     },
     "output_type": "display_data"
    }
   ],
   "source": [
    "\n",
    "x = np.array(first_difference)\n",
    "xs = np.linspace(-0.05,0.05,1000)\n",
    "# expects n x p matrix with p features\n",
    "x.shape = (len(x), 1)\n",
    "xs.shape = (len(xs), 1)\n",
    "#### Question@ is this the correct KDE to use? Probably can be refined and generalised....\n",
    "kde = KernelDensity(bandwidth=0.003).fit(x)\n",
    "dens = np.exp(kde.score_samples(xs))\n",
    "plt.plot(xs, dens)\n",
    "pass"
   ]
  },
  {
   "cell_type": "code",
   "execution_count": 27,
   "metadata": {},
   "outputs": [],
   "source": [
    "probs = dens / sum(dens)\n",
    "xs_comma = np.reshape(xs,newshape = (len(xs),))"
   ]
  },
  {
   "cell_type": "code",
   "execution_count": 28,
   "metadata": {},
   "outputs": [],
   "source": [
    "mc = np.random.choice(xs_comma, size=10000, replace=True, p=probs)"
   ]
  },
  {
   "cell_type": "code",
   "execution_count": 29,
   "metadata": {},
   "outputs": [
    {
     "data": {
      "text/plain": [
       "<matplotlib.axes._subplots.AxesSubplot at 0x280abd4c3c8>"
      ]
     },
     "execution_count": 29,
     "metadata": {},
     "output_type": "execute_result"
    },
    {
     "data": {
      "image/png": "[encoded data removed]",
      "text/plain": [
       "<Figure size 432x288 with 1 Axes>"
      ]
     },
     "metadata": {
      "needs_background": "light"
     },
     "output_type": "display_data"
    }
   ],
   "source": [
    "#Visualisation:\n",
    "sns.distplot(mc, hist=True, kde=True, \n",
    "             bins=int(round((len(first_difference)/60))), color = 'darkblue', \n",
    "             hist_kws={'edgecolor':'black'},\n",
    "             kde_kws={'linewidth': 4})"
   ]
  },
  {
   "cell_type": "code",
   "execution_count": 30,
   "metadata": {},
   "outputs": [],
   "source": [
    "new_df = pd.DataFrame(mc)\n",
    "###########"
   ]
  },
  {
   "cell_type": "code",
   "execution_count": 31,
   "metadata": {},
   "outputs": [
    {
     "data": {
      "text/plain": [
       "0   -0.000013\n",
       "dtype: float64"
      ]
     },
     "execution_count": 31,
     "metadata": {},
     "output_type": "execute_result"
    }
   ],
   "source": [
    "new_df.mean()#####"
   ]
  },
  {
   "cell_type": "code",
   "execution_count": 32,
   "metadata": {},
   "outputs": [
    {
     "name": "stderr",
     "output_type": "stream",
     "text": [
      "C:\\Users\\hugo.lu\\Anaconda3\\lib\\site-packages\\pandas\\core\\indexing.py:190: SettingWithCopyWarning: \n",
      "A value is trying to be set on a copy of a slice from a DataFrame\n",
      "\n",
      "See the caveats in the documentation: http://pandas.pydata.org/pandas-docs/stable/indexing.html#indexing-view-versus-copy\n",
      "  self._setitem_with_indexer(indexer, value)\n"
     ]
    }
   ],
   "source": [
    "new_df.iloc[0] = 0#\n",
    "new_df['price'] = 0##\n",
    "new_df['price'].iloc[0] = 1#\n",
    "new_df['price_calc'] = new_df['price'].cumsum() + new_df[0].cumsum()#"
   ]
  },
  {
   "cell_type": "code",
   "execution_count": 33,
   "metadata": {},
   "outputs": [
    {
     "data": {
      "text/plain": [
       "[<matplotlib.lines.Line2D at 0x280ab90d080>]"
      ]
     },
     "execution_count": 33,
     "metadata": {},
     "output_type": "execute_result"
    },
    {
     "data": {
      "image/png": "[encoded data removed]",
      "text/plain": [
       "<Figure size 432x288 with 1 Axes>"
      ]
     },
     "metadata": {
      "needs_background": "light"
     },
     "output_type": "display_data"
    }
   ],
   "source": [
    "plt.plot(new_df['price_calc'],c=\"g\")\n",
    "plt.plot(pricing_data_copy['price'],c=\"r\")"
   ]
  },
  {
   "cell_type": "markdown",
   "metadata": {},
   "source": [
    "### Calculate indicators"
   ]
  },
  {
   "cell_type": "code",
   "execution_count": 64,
   "metadata": {},
   "outputs": [],
   "source": [
    "## Form of function = \"calc_\"+ indicator name in x / y variables.\n",
    "def self_reference(f):\n",
    "    f.__defaults__ = f.__defaults__[:-1] + (f,)\n",
    "    return f\n",
    "\n",
    "@self_reference\n",
    "def calc_momentum(df,price,window,self=None):\n",
    "    df['last_%s_momentum' % window] = (df[price] / df[price].shift(window))-1\n",
    "    string = 'last_%s_momentum' % window\n",
    "    return df,string\n",
    "\n",
    "@self_reference\n",
    "def calc_rolling_avg_pct_change(df,price,window,shift,self=None):\n",
    "    string = \"rolling_\"+str(window)+\"_avg_\"+str(shift)+\"_period_pct_change\"\n",
    "    df[string] = df[price].rolling(window).mean()\n",
    "    df[string] = (df[string]/df[string].shift(shift))-1\n",
    "    \n",
    "    return df,string\n",
    "\n",
    "@self_reference\n",
    "def calc_rolling_avg(df,price,window,self=None):\n",
    "    df['rolling_%s_avg_price' % window] = df[price].rolling(window).mean()\n",
    "    string = 'rolling_%s_avg_price' % window\n",
    "    return df,string\n",
    " \n",
    "@self_reference    \n",
    "def calc_rolling_avg_price_dif(df,price,window,self=None):\n",
    "    df['rolling_%s_avg_price_dif' % window] = df[price] - df[price].rolling(window).mean()\n",
    "    string = 'rolling_%s_avg_price_dif' % window\n",
    "    return df,string\n",
    "\n",
    "@self_reference\n",
    "def calc_RSI(df,price,window,self=None):\n",
    "    window = max(window,14)\n",
    "    random = df.copy(deep = True)\n",
    "    random['status'] = random[price] - random[price].shift(1)\n",
    "    random['status'] = random['status'].apply(lambda x: \"Up\" if x > 0 else \"Down\")\n",
    "    random['average_for_up'] = random['status'].apply(lambda x: 1 if x == \"Up\" else 0)\n",
    "    random['average_for_down'] = random['status'].apply(lambda x: 0 if x == \"Up\" else 1)\n",
    "    random['average_price_up'] = (random['price']-random['price'].shift(1)) * random['average_for_up']\n",
    "    random['average_price_down'] = (random['price']-random['price'].shift(1))* random['average_for_down']*-1\n",
    "    random['average_price_up'] = random['average_price_up'].apply(lambda x: None if x ==  0 else x )\n",
    "    random['average_price_down'] = random['average_price_down'].apply(lambda x: None if x == 0 else x )\n",
    "    random['last_%s_RSI' % window] = random['average_price_up'].rolling(window, min_periods =1).sum() / random['average_price_down'].rolling(window, min_periods =1).sum()\n",
    "    df['last_%s_RSI' % window] = 1 - 1/(1+random['last_%s_RSI' % window])\n",
    "    for item in range(0,window): ## Formula above will not give NANs for the first (window-1) terms as min_periods = 1.\n",
    "        df.at[item,'last_%s_RSI' % window] = None\n",
    "    output_string = \"last_\" + str(window)+\"_RSI\"\n",
    "\n",
    "    return df,output_string\n",
    "    \n",
    "\n",
    "@self_reference\n",
    "def calc_forward_opportunity(df,price,window,self=None):\n",
    "    df['forward_%s_opportunity' % window] = df[price].rolling(window).max()\n",
    "    df['forward_%s_opportunity' % window] = df['forward_%s_opportunity' % window].shift(-window) - df[price]\n",
    "    string = 'forward_%s_opportunity' % window\n",
    "    return df,string \n",
    "\n",
    "@self_reference\n",
    "def calc_forward_opportunity_pct_sign(df,price,window,self=None):\n",
    "    df['forward_%s_opportunity_pct_sign' % window] = df[price].rolling(window).max()\n",
    "    df['forward_%s_opportunity_pct_sign' % window] = (df['forward_%s_opportunity_pct_sign' % window].shift(-window) - df[price])/df[price]\n",
    "    df['forward_%s_opportunity_pct_sign' % window] = df['forward_%s_opportunity_pct_sign' % window].apply(lambda x: 0 if x<0 else 1)\n",
    "    string = 'forward_%s_opportunity_pct_sign' % window\n",
    "    return df,string \n",
    "\n",
    "@self_reference\n",
    "def calc_forward_opportunity_pct_size(df,price,window,self=None):\n",
    "    df['forward_%s_opportunity_pct_size' % window] = df[price].rolling(window).max()\n",
    "    df['forward_%s_opportunity_pct_size' % window] = (df['forward_%s_opportunity_pct_size' % window].shift(-window) - df[price])/df[price]\n",
    "    df['forward_%s_opportunity_pct_size' % window] = df['forward_%s_opportunity_pct_size' % window].apply(lambda x: -x if x<0 else x)\n",
    "    string = 'forward_%s_opportunity_pct_size' % window\n",
    "    return df,string \n",
    "\n",
    "\n",
    "@self_reference\n",
    "def calc_forward_opportunity_binary(df,price,window,self=None):\n",
    "    rider = df.copy(deep = True)\n",
    "    string = \"calc_forward_%s_opportunity_binary\" % window\n",
    "    \n",
    "    rider['change'] = (rider[price]/rider[price].shift(1))-1 ## this will typically be stationary\n",
    "    rider['mean'] = rider['change'].rolling(250).mean() # a list\n",
    "    rider['std'] = rider['change'].rolling(250).std() # a list\n",
    "    rider['standard'] = (rider['change'] - rider['mean'])/rider['std']\n",
    "    #rider['standard'] = rider['standard'].apply(lambda x: -x if x <0 else x)\n",
    "    rider['standard'] = rider['standard'].apply(lambda x: 1 if x >= 1.5 else 0)\n",
    "    df[string] = rider['standard']\n",
    "    return df,string\n",
    "\n",
    "### specify function list; must be ordered:\n",
    "@self_reference\n",
    "def calc_ema(df,price,alph,self = None):\n",
    "    df['last_%s_EMA' % window ] = df[price].ewm(alpha=alph).mean()\n",
    "    string = 'last_%s_EMA' % window \n",
    "    return df,string\n",
    "\n",
    "@self_reference\n",
    "def calc_ema_cross(df,price,alph_high,alph_low,self = None):\n",
    "    rider = df.copy(deep = True)\n",
    "    rider['high'] =  rider[price].ewm(alpha=alph_high).mean()\n",
    "    rider['low'] = rider[price].ewm(alpha = alph_low).mean()\n",
    "    rider['dif'] = rider['high'] - rider['low']\n",
    "    rider['dif'] = rider['dif'].apply(lambda x: 1 if x>0 else 0)\n",
    "    rider['dif_lag'] = rider['dif'].shift(1)\n",
    "    rider['dif_lag'] = rider['dif_lag'].apply(lambda x: 1 if x>0 else 0)\n",
    "    rider['signal'] = rider['dif'] - rider['dif_lag']\n",
    "    \n",
    "    \n",
    "    string = str(alph_high) + \"_high_\" + str(alph_low) + \"_low_ema_cross\"\n",
    "    df[string] = rider['signal']\n",
    "    return df,string\n",
    "\n",
    "@self_reference\n",
    "def calc_ema_diff(df,price,alph_high,alph_low,self = None):\n",
    "    rider = df.copy(deep = True)\n",
    "    rider['high'] =  rider[price].ewm(alpha=alph_high).mean()\n",
    "    rider['low'] = rider[price].ewm(alpha = alph_low).mean()\n",
    "    rider['dif'] = rider['high'] - rider['low']\n",
    "    #print(\"xx\")\n",
    "    \n",
    "    string = str(alph_high) + \"_high_\" + str(alph_low) + \"_low_ema_dif\"\n",
    "    df[string] = rider['dif']\n",
    "    return df,string\n",
    "\n",
    "\n",
    "calc_momentum.type = \"window\"\n",
    "calc_rolling_avg_pct_change.type = \"window_shift\"\n",
    "calc_rolling_avg.type = \"window\"\n",
    "calc_rolling_avg_price_dif.type = \"window\"\n",
    "calc_RSI.type=\"window\"\n",
    "calc_forward_opportunity.type = \"window\"\n",
    "calc_ema.type = \"window\"\n",
    "calc_ema_cross.type = \"alpha\"\n",
    "calc_ema_diff.type = \"alpha\"\n",
    "calc_forward_opportunity_pct_size.type = \"window\"\n",
    "calc_forward_opportunity_pct_sign.type = \"window\"\n",
    "calc_forward_opportunity_binary.type = \"window\""
   ]
  },
  {
   "cell_type": "code",
   "execution_count": 65,
   "metadata": {},
   "outputs": [],
   "source": [
    "### Specify what indicators to use\n",
    "\n",
    "all_variables = x_variables + y_variables\n",
    "x_dic = {}\n",
    "for item in x_variables:\n",
    "    x_dic[item] = eval(\"calc_\"+str(item))\n",
    "    \n",
    "y_dic = {}\n",
    "for item in y_variables:\n",
    "    y_dic[item] = eval(\"calc_\"+str(item))"
   ]
  },
  {
   "cell_type": "code",
   "execution_count": 66,
   "metadata": {},
   "outputs": [
    {
     "name": "stdout",
     "output_type": "stream",
     "text": [
      "forward_opportunity_binary\n",
      "<function calc_forward_opportunity_binary at 0x00000280AC0DB1E0>\n",
      "rolling_avg_pct_change\n",
      "<function calc_rolling_avg_pct_change at 0x00000280AC076D90>\n",
      "momentum\n",
      "<function calc_momentum at 0x00000280AC060D90>\n",
      "ema_diff\n",
      "<function calc_ema_diff at 0x00000280AC0DB378>\n",
      "RSI\n",
      "<function calc_RSI at 0x00000280AC076F28>\n"
     ]
    }
   ],
   "source": [
    "for a,b in y_dic.items():\n",
    "    print(a)\n",
    "    print(b)\n",
    "for a,b in x_dic.items():\n",
    "    print(a)\n",
    "    print(b)"
   ]
  },
  {
   "cell_type": "code",
   "execution_count": 67,
   "metadata": {},
   "outputs": [],
   "source": [
    "def calc_indicators(new_df,x_dic,y_dic,window_range,shift_range,alph_high_range,alph_low_range):\n",
    "    \n",
    "    x_variables_actual = []\n",
    "    y_variables_actual = []\n",
    "    print(\"Calculating x variables\")\n",
    "    for key,value in x_dic.items():\n",
    "        #print(\"calculating indicators for: \" + str(key))\n",
    "        if value.type == \"window\":\n",
    "            for item in window_range:\n",
    "\n",
    "                [new_df,b] = value(new_df,'price',item)\n",
    "                x_variables_actual.append(b)\n",
    "        elif value.type == \"window_shift\":\n",
    "            for item in window_range:\n",
    "                for jtem in shift_range:\n",
    "                    [new_df,b] = value(new_df,'price',item,jtem)\n",
    "                    x_variables_actual.append(b)\n",
    "        elif value.type == \"alpha\":\n",
    "                for a in alph_high_range:\n",
    "                    for c in alph_low_range:\n",
    "                        [new_df,b] = value(new_df,'price',a,c)\n",
    "                        x_variables_actual.append(b)\n",
    "        else:\n",
    "            print(\"Functions specified incorrectly\")\n",
    "            break\n",
    "\n",
    "    print(\"Calculating y variables\")\n",
    "    for key,value in y_dic.items():\n",
    "        #print(\"calculating indicators for: \" + str(key))\n",
    "        if value.type == \"window\":\n",
    "            for item in window_range:\n",
    "\n",
    "                [new_df,b] = value(new_df,'price',item)\n",
    "                y_variables_actual.append(b)\n",
    "        elif value.type == \"window_shift\":\n",
    "            for jtem in shift_range:\n",
    "                for item in window_range:\n",
    "                    [new_df,b] = value(new_df,'price',item,jtem)\n",
    "                    y_variables_actual.append(b)\n",
    "        else:\n",
    "            print(\"Functions specified incorrectly\")\n",
    "            break\n",
    "    return new_df,x_variables_actual,y_variables_actual"
   ]
  },
  {
   "cell_type": "code",
   "execution_count": 68,
   "metadata": {},
   "outputs": [],
   "source": [
    "def normalise_data(df,var_list):\n",
    "    rider = df.copy(deep = True)\n",
    "    data_mean = list(rider.mean())\n",
    "    data_std = list(rider.std())\n",
    "    rider = (rider - data_mean)/data_std\n",
    "    rider = rider[var_list]\n",
    "    df.loc[:,var_list] = rider.loc[:,var_list]\n",
    "    return df"
   ]
  },
  {
   "cell_type": "code",
   "execution_count": 69,
   "metadata": {},
   "outputs": [],
   "source": [
    "def delete_non_stationary_variables(df,x_variables_actual,y_variables_actual):\n",
    "    stationary_vars = []\n",
    "    \n",
    "    for item in list(df.columns):\n",
    "        #print(item)\n",
    "        if item == 'price':\n",
    "            print(\"Skip\")\n",
    "        else:\n",
    "            X = df[item].dropna()\n",
    "            result = adfuller(X)\n",
    "            try:\n",
    "                #print('ADF Statistic: %f' % result[0])\n",
    "                #print('p-value: %f' % result[1])\n",
    "                #print('Critical Values:')\n",
    "                #for key, value in result[4].items():\n",
    "                #    print('\\t%s: %.3f' % (key, value))\n",
    "                if result[0] < -3.434:\n",
    "                    #print(\"Stationary for: \" + str(item))\n",
    "                    stationary_vars.append(item)\n",
    "                else:\n",
    "                    #print(\"Non stationary for: \" + str(item))\n",
    "                    try:\n",
    "                        x_variables_actual.remove(item)\n",
    "                    except:\n",
    "                        y_variables_actual.remove(item)\n",
    "            except:\n",
    "                print(item)\n",
    "    return df[stationary_vars],x_variables_actual,y_variables_actual"
   ]
  },
  {
   "cell_type": "code",
   "execution_count": 70,
   "metadata": {},
   "outputs": [],
   "source": [
    "### Lasso\n",
    "\n",
    "def loss_fn_lasso(X, Y, beta):\n",
    "    return cp.norm2(X @ beta - Y)**2\n",
    "\n",
    "def regularizer_lasso(beta):\n",
    "    return cp.norm1(beta)\n",
    "\n",
    "def objective_fn_lasso(X, Y, beta, lambd):\n",
    "    return loss_fn_lasso(X, Y, beta) + lambd * regularizer_lasso(beta)\n",
    "\n",
    "def mse_lasso(X, Y, beta):\n",
    "    return (1.0 / X.shape[0]) * loss_fn_lasso(X, Y, beta).value\n",
    "\n",
    "## Ridge\n",
    "\n",
    "def loss_fn_ridge(X, Y, beta):\n",
    "    return cp.pnorm(X @ beta - Y, p=2)**2\n",
    "\n",
    "def regularizer_ridge(beta):\n",
    "    return cp.pnorm(beta, p=2)**2\n",
    "\n",
    "def objective_fn_ridge(X, Y, beta, lambd):\n",
    "    return loss_fn_ridge(X, Y, beta) + lambd * regularizer_ridge(beta)\n",
    "\n",
    "def mse_ridge(X, Y, beta):\n",
    "    return (1.0 / X.shape[0]) * loss_fn_ridge(X, Y, beta).value\n",
    "\n",
    "\n",
    "## Elastic net\n",
    "\n",
    "def loss_fn_elastic_net(X, Y, beta):\n",
    "    return cp.pnorm(Y - X @ beta , p=2)**2\n",
    "\n",
    "def regularizer_elastic_net(beta,lambd,lambd2):\n",
    "    return (lambd2)*cp.pnorm(beta, p=2)**2 + (lambd)*cp.norm1(beta) \n",
    "\n",
    "\n",
    "def objective_fn_elastic_net(X, Y, beta, lambd,lambd2):\n",
    "    return loss_fn_elastic_net(X, Y, beta) + regularizer_elastic_net(beta,lambd,lambd2)\n",
    "\n",
    "def mse_elastic_net(X, Y, beta):\n",
    "    return (1.0 / X.shape[0]) * loss_fn_elastic_net(X, Y, beta).value\n",
    "\n",
    "\n",
    "\n"
   ]
  },
  {
   "cell_type": "code",
   "execution_count": 71,
   "metadata": {},
   "outputs": [],
   "source": [
    "def plot_regularization_path(lambd_values, beta_values):\n",
    "    num_coeffs = len(beta_values[0])\n",
    "    for i in range(num_coeffs):\n",
    "        plt.plot(lambd_values, [wi[i] for wi in beta_values])\n",
    "    plt.xlabel(r\"$\\lambda$\", fontsize=16)\n",
    "    plt.xscale(\"log\")\n",
    "    plt.title(\"Regularization Path\")\n",
    "    plt.show()\n",
    "\n",
    "def plot_train_test_errors(train_errors, test_errors, lambd_values):\n",
    "    plt.plot(lambd_values, train_errors, label=\"Train error\")\n",
    "    plt.plot(lambd_values, test_errors, label=\"Test error\")\n",
    "    plt.xscale(\"log\")\n",
    "    plt.legend(loc=\"upper left\")\n",
    "    plt.xlabel(r\"$\\lambda$\", fontsize=16)\n",
    "    plt.title(\"Mean Squared Error (MSE)\")\n",
    "    plt.show()\n"
   ]
  },
  {
   "cell_type": "code",
   "execution_count": 72,
   "metadata": {},
   "outputs": [],
   "source": [
    "def conduct_lasso(data_copy,x_variables_actual,dep_var):\n",
    "    x_variables_actual = list(set(x_variables_actual))\n",
    "    \n",
    "    regression_data = data_copy.copy(deep = True)\n",
    "    regression_data = regression_data[x_variables_actual+dep_var]\n",
    "    regression_data = regression_data.dropna()\n",
    "    regression_data = (regression_data-regression_data.mean())/regression_data.std()\n",
    "\n",
    "    m = len(regression_data)\n",
    "    n = len(x_variables_actual)\n",
    "    alpha = 0 ##Nests Lasso\n",
    "    X = np.array(regression_data[x_variables_actual])\n",
    "    if dep_var_type == \"sign\":\n",
    "        Y = np.array(regression_data[dep_var].iloc[:,0].apply(lambda x: 1 if x > 0 else 0))\n",
    "    else:    \n",
    "        Y = np.array(regression_data[dep_var].iloc[:,0].apply(lambda x: -x if x<0 else x))\n",
    "        Y = (Y - Y.mean())/Y.std()\n",
    "    X_train = X[:int(m/2),:]\n",
    "    Y_train = Y[:int(m/2)]\n",
    "    X_test = X[int(m/2):,:]\n",
    "    Y_test = Y[int(m/2):]\n",
    "\n",
    "    beta = cp.Variable(n)\n",
    "    lambd = cp.Parameter(nonneg=True)\n",
    "    lambd2 = cp.Parameter(nonneg=True)\n",
    "    print(\"a\")\n",
    "    problem = cp.Problem(cp.Minimize(objective_fn_elastic_net(X_train, Y_train, beta, lambd,lambd2)))\n",
    "    print(\"b\")\n",
    "    lambd_values = np.logspace(-2, 3, 50) ## Changing the lambda is equivalent to changing the t in order to observe different levels of regularisation\n",
    "    ## alpha = l2/(l1+l2)\n",
    "    ## so l2 = l1*alpha/(1-alpha)\n",
    "    lambd2_values = lambd_values*(alpha/(1-alpha))\n",
    "\n",
    "    train_errors = []\n",
    "    test_errors = []\n",
    "    beta_values = []\n",
    "    counter = 0\n",
    "    print(\"c\")\n",
    "    for count,v in enumerate(lambd_values):\n",
    "        lambd.value = v\n",
    "        lambd2.value = lambd2_values[count]\n",
    "        print(\"Values remaining: \" +str(len(lambd_values)-count))\n",
    "        problem.solve()\n",
    "        test_error = mse_elastic_net(X_test, Y_test, beta)\n",
    "        train_errors.append(mse_elastic_net(X_train, Y_train, beta))\n",
    "        test_errors.append(test_error)\n",
    "        beta_values.append(beta.value)\n",
    "        \n",
    "\n",
    "\n",
    "    opt_lambda = lambd_values[test_errors.index(min(test_errors))]\n",
    "    opt_beta = beta_values[test_errors.index(min(test_errors))]\n",
    "    y_pred = X_test@opt_beta\n",
    "    avg_ss = sum(((Y_test - Y_test.mean())**2)**(0.5))\n",
    "    pred_ss = sum(((Y_test - y_pred)**2)**(0.5))\n",
    "    r_squared = 1- (pred_ss/avg_ss)\n",
    "    plot_train_test_errors(train_errors, test_errors, lambd_values)\n",
    "    plot_regularization_path(lambd_values, beta_values)\n",
    "    return r_squared,opt_lambda,opt_beta"
   ]
  },
  {
   "cell_type": "code",
   "execution_count": 73,
   "metadata": {},
   "outputs": [],
   "source": [
    "\n",
    "\n",
    "def perform_mc_kde(x_values,probs,size,iterations):\n",
    "    output_params = pd.DataFrame(index= range(0,iterations))\n",
    "    output_values = pd.DataFrame()\n",
    "    output_params['mean'] = None\n",
    "    output_params['std'] = None\n",
    "    output_params['skew'] = None\n",
    "    output_params['kurtosis'] = None\n",
    "\n",
    "    for i in range(0,iterations):\n",
    "        mc = np.random.choice(x_values, size=size, replace=True, p=probs)\n",
    "        new_df = pd.DataFrame(mc)\n",
    "        ## Calculate params\n",
    "        mean = new_df[0].mean()\n",
    "        std = new_df[0].std()\n",
    "        skew = new_df[0].skew()\n",
    "        kurtosis = new_df[0].kurtosis()\n",
    "        output_params.at[i,'mean'] = mean\n",
    "        output_params.at[i,'std'] = std\n",
    "        output_params.at[i,'skew'] = skew\n",
    "        output_params.at[i,'kurtosis'] = kurtosis\n",
    "        ## Calculate values\n",
    "        new_df.iloc[0] = 0\n",
    "        new_df['price'] = 0\n",
    "        new_df['price'].iloc[0] = 1\n",
    "        new_df['price_calc'] = new_df['price'].cumsum() + new_df[0].cumsum()\n",
    "        output_values['price'] = new_df['price_calc']\n",
    "        print(\"Completed simulation: \" + str(i))\n",
    "    \n",
    "    return output_params,output_values"
   ]
  },
  {
   "cell_type": "code",
   "execution_count": 329,
   "metadata": {},
   "outputs": [
    {
     "name": "stdout",
     "output_type": "stream",
     "text": [
      "Completed simulation: 0\n"
     ]
    },
    {
     "name": "stderr",
     "output_type": "stream",
     "text": [
      "C:\\Users\\hugo.lu\\Anaconda3\\lib\\site-packages\\pandas\\core\\indexing.py:190: SettingWithCopyWarning: \n",
      "A value is trying to be set on a copy of a slice from a DataFrame\n",
      "\n",
      "See the caveats in the documentation: http://pandas.pydata.org/pandas-docs/stable/indexing.html#indexing-view-versus-copy\n",
      "  self._setitem_with_indexer(indexer, value)\n"
     ]
    }
   ],
   "source": [
    "[properties,data]=perform_mc_kde(xs_comma,probs,10000,1)"
   ]
  },
  {
   "cell_type": "code",
   "execution_count": 330,
   "metadata": {},
   "outputs": [],
   "source": [
    "data_copy = data.copy(deep = True)"
   ]
  },
  {
   "cell_type": "code",
   "execution_count": 331,
   "metadata": {},
   "outputs": [
    {
     "name": "stdout",
     "output_type": "stream",
     "text": [
      "Calculating x variables\n",
      "Calculating y variables\n"
     ]
    }
   ],
   "source": [
    "[out,x_var_list,y_var_list] = calc_indicators(data_copy\n",
    "                                              ,x_dic,y_dic,window_range,shift_range,alph_high_range,alph_low_range)"
   ]
  },
  {
   "cell_type": "code",
   "execution_count": 332,
   "metadata": {},
   "outputs": [],
   "source": [
    "## Use this to decide whether or not the KDE has yielded good results. To be honest, the kurtosis and skew differences\n",
    "## do not look great. Let's press on in any case."
   ]
  },
  {
   "cell_type": "code",
   "execution_count": 333,
   "metadata": {},
   "outputs": [],
   "source": [
    "out = out[list(set(x_var_list)) + y_var_list]"
   ]
  },
  {
   "cell_type": "code",
   "execution_count": 334,
   "metadata": {
    "scrolled": false
   },
   "outputs": [],
   "source": [
    "[out,x_var_list,y_var_list] = delete_non_stationary_variables(out,x_var_list,y_var_list)"
   ]
  },
  {
   "cell_type": "code",
   "execution_count": 335,
   "metadata": {},
   "outputs": [],
   "source": [
    "## Perform feature selection\n",
    "def calc_covariance_matrix(df,x_var_list):\n",
    "    df = df[x_var_list]\n",
    "    df = df.dropna()\n",
    "    df.reset_index(inplace = True, drop = True)\n",
    "    \n",
    "    \n",
    "    df = df - df.mean()\n",
    "    df = np.array(df)\n",
    "    cov = df.T.dot(df)\n",
    "    return cov\n",
    "def cov2corr(cov):\n",
    "    # Derive the correlation matrix from a covariance matrix\n",
    "    std=np.sqrt(np.diag(cov))\n",
    "    corr=cov/np.outer(std,std)\n",
    "    corr[corr<-1],corr[corr>1]=-1,1 # numerical error\n",
    "    return corr\n",
    "\n",
    "def perform_feature_selection(df): ## performs feature selection on a set of variables. Cannot contain NaNs\n",
    "    if df != df.dropna():\n",
    "        return \"Not correctly specified\"\n",
    "    else:\n",
    "        return\n",
    "        "
   ]
  },
  {
   "cell_type": "code",
   "execution_count": 336,
   "metadata": {},
   "outputs": [],
   "source": [
    "covariance = calc_covariance_matrix(out,x_var_list)"
   ]
  },
  {
   "cell_type": "code",
   "execution_count": 337,
   "metadata": {},
   "outputs": [
    {
     "data": {
      "text/plain": [
       "<matplotlib.axes._subplots.AxesSubplot at 0x280afc3acf8>"
      ]
     },
     "execution_count": 337,
     "metadata": {},
     "output_type": "execute_result"
    },
    {
     "data": {
      "image/png": "[encoded data removed]",
      "text/plain": [
       "<Figure size 432x288 with 2 Axes>"
      ]
     },
     "metadata": {
      "needs_background": "light"
     },
     "output_type": "display_data"
    }
   ],
   "source": [
    "sns.heatmap(pd.DataFrame(covariance), cmap = \"viridis\")"
   ]
  },
  {
   "cell_type": "code",
   "execution_count": 338,
   "metadata": {},
   "outputs": [],
   "source": [
    "correlation = cov2corr(covariance)"
   ]
  },
  {
   "cell_type": "code",
   "execution_count": 339,
   "metadata": {},
   "outputs": [
    {
     "data": {
      "text/plain": [
       "<matplotlib.axes._subplots.AxesSubplot at 0x280b5dd12b0>"
      ]
     },
     "execution_count": 339,
     "metadata": {},
     "output_type": "execute_result"
    },
    {
     "data": {
      "image/png": "[encoded data removed]",
      "text/plain": [
       "<Figure size 432x288 with 2 Axes>"
      ]
     },
     "metadata": {
      "needs_background": "light"
     },
     "output_type": "display_data"
    }
   ],
   "source": [
    "sns.heatmap(pd.DataFrame(correlation), cmap = \"viridis\")"
   ]
  },
  {
   "cell_type": "markdown",
   "metadata": {},
   "source": [
    "## PCA"
   ]
  },
  {
   "cell_type": "code",
   "execution_count": 340,
   "metadata": {},
   "outputs": [],
   "source": [
    "out_dna = out.dropna()\n",
    "out_demean = out_dna - out_dna.mean()"
   ]
  },
  {
   "cell_type": "code",
   "execution_count": 341,
   "metadata": {},
   "outputs": [],
   "source": [
    "x_vars = out_demean[list(set(x_var_list))]"
   ]
  },
  {
   "cell_type": "code",
   "execution_count": 342,
   "metadata": {},
   "outputs": [],
   "source": [
    "x_vars.reset_index(drop = True, inplace = True)\n",
    "#clean data"
   ]
  },
  {
   "cell_type": "code",
   "execution_count": 343,
   "metadata": {},
   "outputs": [],
   "source": [
    "#calculate covariance matrix and get eigenvalues for pca\n",
    "n= len(x_vars)\n",
    "cx = np.array(x_vars.T)@(np.array(x_vars))/n\n",
    "eVec=np.linalg.eigh(cx)\n",
    "pca  = x_vars@eVec[1]"
   ]
  },
  {
   "cell_type": "code",
   "execution_count": 344,
   "metadata": {},
   "outputs": [],
   "source": [
    "#total variance before pca\n",
    "total_variance = np.trace(cx)"
   ]
  },
  {
   "cell_type": "code",
   "execution_count": 345,
   "metadata": {},
   "outputs": [
    {
     "data": {
      "text/plain": [
       "468"
      ]
     },
     "execution_count": 345,
     "metadata": {},
     "output_type": "execute_result"
    }
   ],
   "source": [
    "len(eVec[1])"
   ]
  },
  {
   "cell_type": "code",
   "execution_count": 346,
   "metadata": {},
   "outputs": [
    {
     "data": {
      "text/plain": [
       "<matplotlib.collections.PathCollection at 0x280bedfd7f0>"
      ]
     },
     "execution_count": 346,
     "metadata": {},
     "output_type": "execute_result"
    },
    {
     "data": {
      "image/png": "[encoded data removed]",
      "text/plain": [
       "<Figure size 432x288 with 1 Axes>"
      ]
     },
     "metadata": {
      "needs_background": "light"
     },
     "output_type": "display_data"
    }
   ],
   "source": [
    "# Look at variance along first two pca\n",
    "plt.scatter(pca.iloc[:,len(eVec[1])-2],pca.iloc[:,len(eVec[1])-1])"
   ]
  },
  {
   "cell_type": "code",
   "execution_count": 347,
   "metadata": {},
   "outputs": [
    {
     "name": "stdout",
     "output_type": "stream",
     "text": [
      "The variance % retained for PCA 1 is 0.6087397630468748\n",
      "The variance % retained for PCA 2 is 0.7922751235698494\n",
      "The variance % retained for PCA 3 is 0.8587864873977396\n",
      "The variance % retained for PCA 4 is 0.890227338450893\n",
      "The variance % retained for PCA 5 is 0.9089461933296336\n",
      "The variance % retained for PCA 6 is 0.9232171371655463\n",
      "The variance % retained for PCA 7 is 0.9356791912512629\n",
      "The variance % retained for PCA 8 is 0.9463876464765159\n",
      "The variance % retained for PCA 9 is 0.9543262934549235\n"
     ]
    }
   ],
   "source": [
    "#See how many PC necessary to retain variance\n",
    "for item in range(1,10):\n",
    "    n = len(list(pca.columns))\n",
    "    rider = pca.iloc[:,n-item:n]\n",
    "    rider_cov = np.array(rider).T@np.array(rider)/len(rider)\n",
    "    rider_var = np.trace(rider_cov)\n",
    "    print(\"The variance % retained for PCA \" + str(item) + \" is \" + str (rider_var/total_variance))"
   ]
  },
  {
   "cell_type": "code",
   "execution_count": 349,
   "metadata": {},
   "outputs": [
    {
     "data": {
      "text/plain": [
       "9820"
      ]
     },
     "execution_count": 349,
     "metadata": {},
     "output_type": "execute_result"
    }
   ],
   "source": [
    "len(pca)"
   ]
  },
  {
   "cell_type": "code",
   "execution_count": 350,
   "metadata": {},
   "outputs": [],
   "source": [
    "independent_vars = pca.iloc[:,n-9:n]"
   ]
  },
  {
   "cell_type": "code",
   "execution_count": 351,
   "metadata": {},
   "outputs": [],
   "source": [
    "dependent_vars = (out_demean['calc_forward_3_opportunity_binary'])"
   ]
  },
  {
   "cell_type": "code",
   "execution_count": 352,
   "metadata": {},
   "outputs": [],
   "source": [
    "dependent_vars = dependent_vars.round().apply(lambda x: 0 if x<1 else 1 )"
   ]
  },
  {
   "cell_type": "markdown",
   "metadata": {},
   "source": [
    "### Test bagging classifier on principle components"
   ]
  },
  {
   "cell_type": "code",
   "execution_count": 372,
   "metadata": {},
   "outputs": [
    {
     "name": "stdout",
     "output_type": "stream",
     "text": [
      "accuracy :\n",
      "0.910087675503274\n"
     ]
    }
   ],
   "source": [
    "from sklearn import model_selection \n",
    "from sklearn.ensemble import BaggingClassifier \n",
    "from sklearn.tree import DecisionTreeClassifier \n",
    "import pandas as pd \n",
    "  \n",
    "# load the data \n",
    "\n",
    "X = np.array(independent_vars)\n",
    "Y = np.array(dependent_vars)\n",
    "#Y = np.reshape(Y,newshape = (len(Y),1))\n",
    "  \n",
    "seed = 8\n",
    "kfold = model_selection.KFold(n_splits = 3, \n",
    "                       random_state = seed) \n",
    "  \n",
    "# initialize the base classifier \n",
    "base_cls = DecisionTreeClassifier(min_samples_split = 10) \n",
    "  \n",
    "# no. of base classifier \n",
    "num_trees = 500\n",
    "  \n",
    "# bagging classifier \n",
    "model = BaggingClassifier(base_estimator = base_cls, \n",
    "                          n_estimators = num_trees, \n",
    "                          random_state = seed,\n",
    "                         max_samples = 6000,\n",
    "                         bootstrap = True)\n",
    "fit = model.fit(X,Y)\n",
    "  \n",
    "results = model_selection.cross_val_score(model, X, Y, cv = kfold) \n",
    "print(\"accuracy :\") \n",
    "print(results.mean()) "
   ]
  },
  {
   "cell_type": "code",
   "execution_count": 373,
   "metadata": {},
   "outputs": [],
   "source": [
    "predictions = ((fit.predict(X)))"
   ]
  },
  {
   "cell_type": "code",
   "execution_count": 374,
   "metadata": {},
   "outputs": [
    {
     "data": {
      "text/plain": [
       "85"
      ]
     },
     "execution_count": 374,
     "metadata": {},
     "output_type": "execute_result"
    }
   ],
   "source": [
    "sum(predictions)"
   ]
  },
  {
   "cell_type": "code",
   "execution_count": 375,
   "metadata": {},
   "outputs": [],
   "source": [
    "output = pd.DataFrame()\n",
    "output['y_hat'] = predictions\n",
    "output['y'] = Y\n",
    "output['true_positives'] = None\n",
    "output.at[(output['y'] ==1) & (output['y_hat']==1),'true_positives'] = 1"
   ]
  },
  {
   "cell_type": "code",
   "execution_count": 376,
   "metadata": {},
   "outputs": [
    {
     "data": {
      "text/plain": [
       "y_hat              85.0\n",
       "y                 588.0\n",
       "true_positives     85.0\n",
       "dtype: float64"
      ]
     },
     "execution_count": 376,
     "metadata": {},
     "output_type": "execute_result"
    }
   ],
   "source": [
    "output.sum()"
   ]
  },
  {
   "cell_type": "code",
   "execution_count": 377,
   "metadata": {},
   "outputs": [
    {
     "name": "stdout",
     "output_type": "stream",
     "text": [
      "the true positive rate is:1.0\n"
     ]
    }
   ],
   "source": [
    "output.sum()\n",
    "print(\"the true positive rate is:\"+str(output['true_positives'].sum()/output['y_hat'].sum()))"
   ]
  },
  {
   "cell_type": "code",
   "execution_count": null,
   "metadata": {},
   "outputs": [],
   "source": []
  }
 ],
 "metadata": {
  "kernelspec": {
   "display_name": "Python 3",
   "language": "python",
   "name": "python3"
  },
  "language_info": {
   "codemirror_mode": {
    "name": "ipython",
    "version": 3
   },
   "file_extension": ".py",
   "mimetype": "text/x-python",
   "name": "python",
   "nbconvert_exporter": "python",
   "pygments_lexer": "ipython3",
   "version": "3.7.3"
  }
 },
 "nbformat": 4,
 "nbformat_minor": 2
}
