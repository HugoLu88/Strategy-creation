{
 "cells": [
  {
   "cell_type": "markdown",
   "metadata": {},
   "source": [
    "## Data science practice questions"
   ]
  },
  {
   "cell_type": "code",
   "execution_count": 10,
   "metadata": {},
   "outputs": [
    {
     "name": "stdout",
     "output_type": "stream",
     "text": [
      "0.9777777777777777\n"
     ]
    }
   ],
   "source": [
    "import numpy as np\n",
    "from sklearn import datasets\n",
    "from sklearn.model_selection import train_test_split\n",
    "from sklearn import metrics\n",
    "from sklearn import model_selection \n",
    "from sklearn.ensemble import BaggingClassifier \n",
    "from sklearn.tree import DecisionTreeClassifier \n",
    "import pandas as pd \n",
    "\n",
    "def train_and_predict(train_input_features, train_outputs, prediction_features):\n",
    "    \"\"\"\n",
    "    :param train_input_features: (numpy.array) A two-dimensional NumPy array where each element\n",
    "                        is an array that contains: sepal length, sepal width, petal length, and petal width   \n",
    "    :param train_outputs: (numpy.array) A one-dimensional NumPy array where each element\n",
    "                        is a number representing the species of iris which is described in\n",
    "                        the same row of train_input_features. 0 represents Iris setosa,\n",
    "                        1 represents Iris versicolor, and 2 represents Iris virginica.\n",
    "    :param prediction_features: (numpy.array) A two-dimensional NumPy array where each element\n",
    "                        is an array that contains: sepal length, sepal width, petal length, and petal width\n",
    "    :returns: (list) The function should return an iterable (like list or numpy.ndarray) of the predicted \n",
    "                        iris species, one for each item in prediction_features\n",
    "    \"\"\"   \n",
    "    \n",
    "    X = np.array(train_input_features)\n",
    "    Y = np.array(train_outputs)\n",
    "    #Y = np.reshape(Y,newshape = (len(Y),1))\n",
    "\n",
    "    seed = 8\n",
    "    kfold = model_selection.KFold(n_splits = 3, \n",
    "                           random_state = seed) \n",
    "\n",
    "    # initialize the base classifier \n",
    "    base_cls = DecisionTreeClassifier(min_samples_split = 5) \n",
    "\n",
    "    # no. of base classifier \n",
    "    num_trees = 100\n",
    "\n",
    "    # bagging classifier \n",
    "    model = BaggingClassifier(base_estimator = base_cls, \n",
    "                              n_estimators = num_trees, \n",
    "                              random_state = seed,\n",
    "                             max_samples = 50,\n",
    "                             bootstrap = True)\n",
    "    fit = model.fit(X,Y)\n",
    "\n",
    "    results = model_selection.cross_val_score(model, X, Y, cv = kfold) \n",
    "    return fit.predict(prediction_features)\n",
    "\n",
    "iris = datasets.load_iris()\n",
    "X_train, X_test, y_train, y_test = train_test_split(iris.data, iris.target,\n",
    "                                                    test_size=0.3, random_state=0)\n",
    "\n",
    "y_pred = train_and_predict(X_train, y_train, X_test)\n",
    "if y_pred is not None:\n",
    "    print(metrics.accuracy_score(y_test, y_pred))"
   ]
  },
  {
   "cell_type": "code",
   "execution_count": 13,
   "metadata": {},
   "outputs": [
    {
     "name": "stdout",
     "output_type": "stream",
     "text": [
      "   Id        Login\n",
      "0   1      JohnDoe\n",
      "1   2  AnnFranklin\n"
     ]
    }
   ],
   "source": [
    "import pandas as pd\n",
    "import numpy as np\n",
    "\n",
    "def login_table(id_name_verified, id_password):\n",
    "    \"\"\"\n",
    "    :param id_name_verified: (DataFrame) DataFrame with columns: Id, Login, Verified.   \n",
    "    :param id_password: (numpy.array) Two-dimensional NumPy array where each element\n",
    "                        is an array that contains: Id and Password\n",
    "    :returns: (None) The function should modify id_name_verified DataFrame in-place. \n",
    "              It should not return anything.\n",
    "    \"\"\"   \n",
    "    id_name_verified.drop([\"Verified\"],axis=1,inplace = True)\n",
    "    \n",
    "    pass\n",
    "\n",
    "id_name_verified = pd.DataFrame([[1, \"JohnDoe\", True], [2, \"AnnFranklin\", False]], columns=[\"Id\", \"Login\", \"Verified\"])\n",
    "id_password = np.array([[1, 987340123], [2, 187031122]], np.int32)\n",
    "login_table(id_name_verified, id_password)\n",
    "print(id_name_verified)"
   ]
  },
  {
   "cell_type": "code",
   "execution_count": 1,
   "metadata": {},
   "outputs": [
    {
     "name": "stdout",
     "output_type": "stream",
     "text": [
      "None\n"
     ]
    }
   ],
   "source": [
    "import pandas as pd\n",
    "import numpy as np\n",
    "\n",
    "def most_corr(prices):\n",
    "    \"\"\"\n",
    "    :param prices: (pandas.DataFrame) A dataframe containing each ticker's \n",
    "                   daily closing prices.\n",
    "    :returns: (container of strings) A container, containing the two tickers that \n",
    "              are the most highly (linearly) correlated by daily percentage change.\n",
    "    \"\"\"\n",
    "    return None\n",
    "\n",
    "#For example, the code below should print: ('FB', 'MSFT')\n",
    "print(most_corr(pd.DataFrame.from_dict({\n",
    "    'GOOG' : [\n",
    "        742.66, 738.40, 738.22, 741.16,\n",
    "        739.98, 747.28, 746.22, 741.80,\n",
    "        745.33, 741.29, 742.83, 750.50\n",
    "    ],\n",
    "    'FB' : [\n",
    "        108.40, 107.92, 109.64, 112.22,\n",
    "        109.57, 113.82, 114.03, 112.24,\n",
    "        114.68, 112.92, 113.28, 115.40\n",
    "    ],\n",
    "    'MSFT' : [\n",
    "        55.40, 54.63, 54.98, 55.88,\n",
    "        54.12, 59.16, 58.14, 55.97,\n",
    "        61.20, 57.14, 56.62, 59.25\n",
    "    ],\n",
    "    'AAPL' : [\n",
    "        106.00, 104.66, 104.87, 105.69,\n",
    "        104.22, 110.16, 109.84, 108.86,\n",
    "        110.14, 107.66, 108.08, 109.90\n",
    "    ]\n",
    "})))"
   ]
  },
  {
   "cell_type": "code",
   "execution_count": 4,
   "metadata": {},
   "outputs": [],
   "source": [
    "prices = pd.DataFrame.from_dict({\n",
    "    'GOOG' : [\n",
    "        742.66, 738.40, 738.22, 741.16,\n",
    "        739.98, 747.28, 746.22, 741.80,\n",
    "        745.33, 741.29, 742.83, 750.50\n",
    "    ],\n",
    "    'FB' : [\n",
    "        108.40, 107.92, 109.64, 112.22,\n",
    "        109.57, 113.82, 114.03, 112.24,\n",
    "        114.68, 112.92, 113.28, 115.40\n",
    "    ],\n",
    "    'MSFT' : [\n",
    "        55.40, 54.63, 54.98, 55.88,\n",
    "        54.12, 59.16, 58.14, 55.97,\n",
    "        61.20, 57.14, 56.62, 59.25\n",
    "    ],\n",
    "    'AAPL' : [\n",
    "        106.00, 104.66, 104.87, 105.69,\n",
    "        104.22, 110.16, 109.84, 108.86,\n",
    "        110.14, 107.66, 108.08, 109.90\n",
    "    ]\n",
    "})"
   ]
  },
  {
   "cell_type": "code",
   "execution_count": 12,
   "metadata": {},
   "outputs": [],
   "source": [
    "col_list = []\n",
    "for col in list(prices.columns):\n",
    "    prices[col+\"_pct\"] = (prices[col]/prices[col].shift(1))-1\n",
    "    col_list.append(col+\"_pct\")\n",
    "corr = prices[col_list]\n",
    "corr = corr.dropna()\n",
    "corr.reset_index(inplace = True, drop = True)\n",
    "demean = corr - corr.mean()\n",
    "n = len(demean)\n",
    "cov = np.array(demean.T)@np.array(demean)/n\n",
    "def cov2corr(cov):\n",
    "    # Derive the correlation matrix from a covariance matrix\n",
    "    std=np.sqrt(np.diag(cov))\n",
    "    corr=cov/np.outer(std,std)\n",
    "    corr[corr<-1],corr[corr>1]=-1,1 # numerical error\n",
    "    return corr\n",
    "correlation = cov2corr(cov)\n",
    "\n",
    "np.fill_diagonal(correlation,0)\n",
    "idx = np.unravel_index(np.argmax(correlation, axis=None), correlation.shape)\n",
    "string = (list(prices.columns)[idx[0]],list(prices.columns)[idx[1]])"
   ]
  },
  {
   "cell_type": "code",
   "execution_count": 27,
   "metadata": {},
   "outputs": [
    {
     "name": "stdout",
     "output_type": "stream",
     "text": [
      "GOOG\n",
      "FB\n",
      "MSFT\n",
      "AAPL\n",
      "    GOOG_pct    FB_pct  MSFT_pct  AAPL_pct\n",
      "0  -0.006707 -0.010306 -0.021208 -0.016135\n",
      "1  -0.001214  0.010060 -0.000902 -0.001487\n",
      "2   0.003012  0.017654  0.009061  0.004326\n",
      "3  -0.002563 -0.029492 -0.038805 -0.017402\n",
      "4   0.008895  0.032910  0.085818  0.053502\n",
      "5  -0.002389 -0.004033 -0.024550 -0.006398\n",
      "6  -0.006894 -0.021576 -0.044632 -0.012415\n",
      "7   0.003788  0.015861  0.086134  0.008265\n",
      "8  -0.006391 -0.021225 -0.073649 -0.026010\n",
      "9   0.001107 -0.002690 -0.016409  0.000408\n",
      "10  0.009355  0.012837  0.039141  0.013346\n",
      "    GOOG_pct    FB_pct  MSFT_pct  AAPL_pct\n",
      "0  -0.005736 -0.004428 -0.013899 -0.012642\n",
      "1  -0.000244  0.015938  0.006407  0.002006\n",
      "2   0.003983  0.023532  0.016370  0.007819\n",
      "3  -0.001592 -0.023614 -0.031496 -0.013909\n",
      "4   0.009865  0.038788  0.093126  0.056995\n",
      "5  -0.001418  0.001845 -0.017241 -0.002905\n",
      "6  -0.005923 -0.015698 -0.037324 -0.008922\n",
      "7   0.004759  0.021739  0.093443  0.011758\n",
      "8  -0.005420 -0.015347 -0.066340 -0.022517\n",
      "9   0.002077  0.003188 -0.009100  0.003901\n",
      "10  0.010325  0.018715  0.046450  0.016839\n",
      "('FB', 'MSFT')\n"
     ]
    }
   ],
   "source": [
    "import pandas as pd\n",
    "import numpy as np\n",
    "def cov2corr(cov):\n",
    "    # Derive the correlation matrix from a covariance matrix\n",
    "    std=np.sqrt(np.diag(cov))\n",
    "    corr=cov/np.outer(std,std)\n",
    "    corr[corr<-1],corr[corr>1]=-1,1 # numerical error\n",
    "    return corr\n",
    "def most_corr(prices):\n",
    "    col_list = []\n",
    "    for col in list(prices.columns):\n",
    "        prices[col+\"_pct\"] = (prices[col]/prices[col].shift(1))-1\n",
    "        col_list.append(col+\"_pct\")\n",
    "        corr = prices[col_list]\n",
    "        print(col)\n",
    "    corr = corr.dropna()\n",
    "    corr.reset_index(inplace = True, drop = True)\n",
    "    demean = corr - corr.mean()\n",
    "    n = len(demean)\n",
    "    cov = np.array(demean.T)@np.array(demean)/n\n",
    "    print(demean)\n",
    "    \n",
    "    correlation = cov2corr(cov)\n",
    "    print(corr)\n",
    "\n",
    "    np.fill_diagonal(correlation,0)\n",
    "    idx = np.unravel_index(np.argmax(correlation, axis=None), correlation.shape)\n",
    "    string = (list(prices.columns)[idx[0]],list(prices.columns)[idx[1]])\n",
    "    return string\n",
    "\n",
    "#For example, the code below should print: ('FB', 'MSFT')\n",
    "print(most_corr(pd.DataFrame.from_dict({\n",
    "    'GOOG' : [\n",
    "        742.66, 738.40, 738.22, 741.16,\n",
    "        739.98, 747.28, 746.22, 741.80,\n",
    "        745.33, 741.29, 742.83, 750.50\n",
    "    ],\n",
    "    'FB' : [\n",
    "        108.40, 107.92, 109.64, 112.22,\n",
    "        109.57, 113.82, 114.03, 112.24,\n",
    "        114.68, 112.92, 113.28, 115.40\n",
    "    ],\n",
    "    'MSFT' : [\n",
    "        55.40, 54.63, 54.98, 55.88,\n",
    "        54.12, 59.16, 58.14, 55.97,\n",
    "        61.20, 57.14, 56.62, 59.25\n",
    "    ],\n",
    "    'AAPL' : [\n",
    "        106.00, 104.66, 104.87, 105.69,\n",
    "        104.22, 110.16, 109.84, 108.86,\n",
    "        110.14, 107.66, 108.08, 109.90\n",
    "    ]\n",
    "})))"
   ]
  },
  {
   "cell_type": "code",
   "execution_count": 28,
   "metadata": {},
   "outputs": [
    {
     "name": "stdout",
     "output_type": "stream",
     "text": [
      "None\n"
     ]
    }
   ],
   "source": [
    "import numpy as np\n",
    "from sklearn import linear_model\n",
    "\n",
    "def desired_marketing_expenditure(marketing_expenditure, units_sold, desired_units_sold):\n",
    "    \"\"\"\n",
    "    :param marketing_expenditure: (list) A list of integers with the expenditure for each previous campaign.\n",
    "    :param units_sold: (list) A list of integers with the number of units sold for each previous campaign.\n",
    "    :param desired_units_sold: (integer) Target number of units to sell in the new campaign.\n",
    "    :returns: (float) Required amount of money to be invested.\n",
    "    \"\"\"\n",
    "    return None\n",
    "\n",
    "#For example, with the parameters below, the function should return 250000.0\n",
    "print(desired_marketing_expenditure(\n",
    "    [300000, 200000, 400000, 300000, 100000],\n",
    "    [60000, 50000, 90000, 80000, 30000],\n",
    "    60000))"
   ]
  },
  {
   "cell_type": "code",
   "execution_count": 30,
   "metadata": {},
   "outputs": [],
   "source": [
    "X,Y = [300000, 200000, 400000, 300000, 100000],[60000, 50000, 90000, 80000, 30000], "
   ]
  },
  {
   "cell_type": "code",
   "execution_count": 33,
   "metadata": {},
   "outputs": [],
   "source": [
    "import statsmodels.api as sm\n"
   ]
  },
  {
   "cell_type": "markdown",
   "metadata": {},
   "source": [
    "### X = sm.add_constant(X)\n",
    "model = sm.OLS(Y,X)\n",
    "results = model.fit()\n",
    "print(results.summary())"
   ]
  }
 ],
 "metadata": {
  "kernelspec": {
   "display_name": "Python 3",
   "language": "python",
   "name": "python3"
  },
  "language_info": {
   "codemirror_mode": {
    "name": "ipython",
    "version": 3
   },
   "file_extension": ".py",
   "mimetype": "text/x-python",
   "name": "python",
   "nbconvert_exporter": "python",
   "pygments_lexer": "ipython3",
   "version": "3.7.3"
  }
 },
 "nbformat": 4,
 "nbformat_minor": 2
}
