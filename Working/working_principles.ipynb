{
 "cells": [
  {
   "cell_type": "markdown",
   "metadata": {},
   "source": [
    "### Description"
   ]
  },
  {
   "cell_type": "code",
   "execution_count": 80,
   "metadata": {},
   "outputs": [],
   "source": [
    "### This code simulates examples to test some ideas such as:\n",
    "## 1. Double check that normalising data does not affect model predictability\n",
    "## 2. Double check KDE simulation is effective"
   ]
  },
  {
   "cell_type": "markdown",
   "metadata": {},
   "source": [
    "### Imports"
   ]
  },
  {
   "cell_type": "code",
   "execution_count": 81,
   "metadata": {},
   "outputs": [],
   "source": [
    "import pandas as pd\n",
    "\n",
    "import numpy as np\n",
    "from datetime import datetime\n",
    "import xlsxwriter\n",
    "import string\n",
    "import os\n",
    "import re\n",
    "import matplotlib.pyplot as plt\n",
    "from statsmodels.tsa.stattools import adfuller\n",
    "import statsmodels.api as sm\n",
    "from scipy import stats\n",
    "from numpy.random import seed\n",
    "from numpy.random import randn\n",
    "from scipy.stats import shapiro\n",
    "from sklearn.neighbors import KernelDensity\n",
    "import seaborn as sns\n",
    "import cvxpy as cp"
   ]
  },
  {
   "cell_type": "markdown",
   "metadata": {},
   "source": [
    "### Principle component analysis"
   ]
  },
  {
   "cell_type": "markdown",
   "metadata": {},
   "source": [
    "### Functions"
   ]
  },
  {
   "cell_type": "code",
   "execution_count": 82,
   "metadata": {},
   "outputs": [],
   "source": [
    "def mpPDF(var,q,pts):\n",
    "    # Marcenko-Pastur pdf\n",
    "    # q=T/N\n",
    "    eMin,eMax=var*(1-(1./q)**.5)**2,var*(1+(1./q)**.5)**2\n",
    "    eVal=np.linspace(eMin,eMax,pts)\n",
    "    pdf=q/(2*np.pi*var*eVal)*((eMax-eVal)*(eVal-eMin))**.5\n",
    "    #print(pdf)\n",
    "    #print(type(pdf))\n",
    "    #print(np.shape(pdf))\n",
    "    #print(np.shape(np.reshape(pdf, newshape = 1000)))\n",
    "    #print(q)\n",
    "    #print(eVal)\n",
    "    #print(len(pdf))\n",
    "    \n",
    "    pdf=pd.Series(np.reshape(pdf,1000),index=np.reshape(eVal,len(eVal))) ## necessary to reshape array from (R,1) to (R,)\n",
    "    return pdf\n",
    "\n",
    "def getPCA(matrix):\n",
    "    # Get eVal,eVec from a Hermitian matrix\n",
    "    eVal,eVec=np.linalg.eigh(matrix)\n",
    "    indices=eVal.argsort()[::-1] # arguments for sorting eVal desc\n",
    "    eVal,eVec=eVal[indices],eVec[:,indices]\n",
    "    eVal=np.diagflat(eVal)\n",
    "    return eVal,eVec\n",
    "#- - - - - - - -- - - - - - - - - - - - -- - - - - - - - - - - - - -- - - - - - - - - - - - -- - -\n",
    "def fitKDE(obs,bWidth=.25,kernel='gaussian',x=None):\n",
    "    # Fit kernel to a series of obs, and derive the prob of obs\n",
    "    # x is the array of values on which the fit KDE will be evaluated\n",
    "    if len(obs.shape)==1:obs=obs.reshape(-1,1)\n",
    "    kde=KernelDensity(kernel=kernel,bandwidth=bWidth).fit(obs)\n",
    "    if x is None:x=np.unique(obs).reshape(-1,1)\n",
    "    if len(x.shape)==1:x=x.reshape(-1,1)\n",
    "    logProb=kde.score_samples(x) # log(density)\n",
    "    pdf=pd.Series(np.exp(logProb),index=x.flatten())\n",
    "    return pdf\n",
    "\n",
    "def getRndCov(nCols,nFacts):\n",
    "    w=np.random.normal(size=(nCols,nFacts))\n",
    "    cov=np.dot(w,w.T) # random cov matrix, however not full rank\n",
    "    cov+=np.diag(np.random.uniform(size=nCols)) # full rank cov\n",
    "    return cov\n",
    "#- - - - - - - -- - - - - - - - - - - - -- - - - - - - - - - - - - -- - - - - - - - - - - - -- - -\n",
    "def cov2corr(cov):\n",
    "    # Derive the correlation matrix from a covariance matrix\n",
    "    std=np.sqrt(np.diag(cov))\n",
    "    corr=cov/np.outer(std,std)\n",
    "    corr[corr<-1],corr[corr>1]=-1,1 # numerical error\n",
    "    return corr\n",
    "#- - - - - - - -- - - - - - - - - - - - -- - - - - - - - - - - - - -- - - - - - - - - - - - -- - -\n",
    "def errPDFs(var,eVal,q,bWidth,pts=1000):\n",
    "    # Fit error\n",
    "    pdf0=mpPDF(var,q,pts) # theoretical pdf\n",
    "    pdf1=fitKDE(eVal,bWidth,x=pdf0.index.values) # empirical pdf\n",
    "    sse=np.sum((pdf1-pdf0)**2)\n",
    "    #return pdf0\n",
    "    return sse\n",
    "#- - - - - - - -- - - - - - - - - - - - -- - - - - - - - - - - - - -- - - - - - - - - - - - -- - -\n",
    "def findMaxEval(eVal,q,bWidth):\n",
    "    # Find max random eVal by fitting Marcenko’s dist\n",
    "    #fun = errPDFs(x,eVal,q,bWidth)\n",
    "    #out=minimize(fun(eVal,q,bWidth))\n",
    "    out=minimize(lambda *x:errPDFs(*x),.5,args=(eVal,q,bWidth),bounds=((1E-5,1-1E-5),))\n",
    "    if out['success']:\n",
    "        var=out['x'][0]\n",
    "    else:\n",
    "        var=1\n",
    "    eMax=var*(1+(1./q)**.5)**2\n",
    "    return eMax,var\n",
    "\n",
    "def denoisedCorr(eVal,eVec,nFacts):\n",
    "    # Remove noise from corr by fixing random eigenvalues\n",
    "    eVal_=np.diag(eVal).copy()\n",
    "    eVal_[nFacts:]=eVal_[nFacts:].sum()/float(eVal_.shape[0]-nFacts)\n",
    "    eVal_=np.diag(eVal_)\n",
    "    corr1=np.dot(eVec,eVal_).dot(eVec.T)\n",
    "    corr1=cov2corr(corr1)\n",
    "    return corr1\n",
    "\n",
    "def denoisedCorr2(eVal,eVec,nFacts,alpha=0):\n",
    "# Remove noise from corr through targeted shrinkage\n",
    "    eValL,eVecL=eVal[:nFacts,:nFacts],eVec[:,:nFacts]\n",
    "    eValR,eVecR=eVal[nFacts:,nFacts:],eVec[:,nFacts:]\n",
    "    corr0=np.dot(eVecL,eValL).dot(eVecL.T)\n",
    "    corr1=np.dot(eVecR,eValR).dot(eVecR.T)\n",
    "    corr2=corr0+alpha*corr1+(1-alpha)*np.diag(np.diag(corr1))\n",
    "    return corr2\n",
    "\n",
    "def formBlockMatrix(nBlocks,bSize,bCorr):\n",
    "    block=np.ones((bSize,bSize))*bCorr\n",
    "    block[range(bSize),range(bSize)]=1\n",
    "    corr=block_diag(*([block]*nBlocks))\n",
    "    return corr\n",
    "#- - - - - - - -- - - - - - - - - - - - -- - - - - - - - - - - - - -- - - - - - - - - - - - -- - -\n",
    "def formTrueMatrix(nBlocks,bSize,bCorr):\n",
    "    corr0=formBlockMatrix(nBlocks,bSize,bCorr)\n",
    "    corr0=pd.DataFrame(corr0)\n",
    "    cols=corr0.columns.tolist()\n",
    "    np.random.shuffle(cols)\n",
    "    corr0=corr0[cols].loc[cols].copy(deep=True)\n",
    "    std0=np.random.uniform(.05,.2,corr0.shape[0])\n",
    "    cov0=corr2cov(corr0,std0)\n",
    "    mu0=np.random.normal(std0,std0,cov0.shape[0]).reshape(-1,1)\n",
    "    return mu0,cov0\n",
    "#- - - - - - - -- - - - - - - - - - - - -- - - - - - - - - - - - - -- - - - - - - - - - - - -- - -\n",
    "def corr2cov(corr,std):\n",
    "    cov=corr*np.outer(std,std)\n",
    "    return cov\n",
    "#- - - - - - - -- - - - - - - - - - - - -- - - - - - - - - - - - - -- - - - - - - - - - - - -- - -\n",
    "def deNoiseCov(cov0,q,bWidth):\n",
    "    corr0=cov2corr(cov0)\n",
    "    eVal0,eVec0=getPCA(corr0)\n",
    "    eMax0,var0=findMaxEval(np.diag(eVal0),q,bWidth)\n",
    "    nFacts0=eVal0.shape[0]-np.diag(eVal0)[::-1].searchsorted(eMax0)\n",
    "    corr1=denoisedCorr(eVal0,eVec0,nFacts0)\n",
    "    cov1=corr2cov(corr1,np.diag(cov0)**.5)\n",
    "    return cov1\n",
    "\n",
    "def simCovMu(mu0,cov0,nObs,shrink=False): # When shrink=True, the function performs a Ledoit–Wolf shrinkage of the empirical covariance matrix.\n",
    "    x=np.random.multivariate_normal(mu0.flatten(),cov0,size=nObs)\n",
    "    mu1=x.mean(axis=0).reshape(-1,1)-\n",
    "    if shrink:cov1=LedoitWolf().fit(x).covariance_\n",
    "    else:cov1=np.cov(x,rowvar=0)\n",
    "    return mu1,cov1\n",
    "\n",
    "\n",
    "def optPort(cov,mu=None):\n",
    "    inv=np.linalg.inv(cov)\n",
    "    ones=np.ones(shape=(inv.shape[0],1))\n",
    "    if mu is None:mu=ones\n",
    "    w=np.dot(inv,mu)\n",
    "    w/=np.dot(ones.T,w)\n",
    "    return w"
   ]
  },
  {
   "cell_type": "code",
   "execution_count": 85,
   "metadata": {},
   "outputs": [],
   "source": [
    "#Suppose we have an mxn matrix with m measurements or indicators and n samples.\n",
    "#Our plan is to recognize that any symmetric matrix A is diagonalized by an orthogonal matrix of its eigenvectors\n",
    "# So if we construct a covariance matrix, then it will be diagonalised (thus preserving variance while eliminating covariance)\n",
    "# we can perform PCA."
   ]
  },
  {
   "cell_type": "code",
   "execution_count": 86,
   "metadata": {},
   "outputs": [],
   "source": [
    "pricing_data_string = r\"C:\\Users\\hugo.lu\\repos\\repos_backup\\Strategy-creation\\Raw data\\EURUSD\\2020-05-05_EURUSD_MIDPOINT_10 Y_1 day.csv\"\n",
    "pricing_data = pd.read_csv(filepath_or_buffer = pricing_data_string, index_col = 0)"
   ]
  },
  {
   "cell_type": "code",
   "execution_count": 103,
   "metadata": {},
   "outputs": [],
   "source": [
    "x = pricing_data.loc[:,['close']].copy(deep = True)"
   ]
  },
  {
   "cell_type": "code",
   "execution_count": 104,
   "metadata": {},
   "outputs": [],
   "source": [
    "var_list = []\n",
    "for item in range(1,100):\n",
    "    x['momentum_%s' % item] = (x['close']/x['close'].shift(item))-1\n",
    "    var_list.append('momentum_%s' % item)\n",
    "    "
   ]
  },
  {
   "cell_type": "code",
   "execution_count": 105,
   "metadata": {},
   "outputs": [],
   "source": [
    "x_na = x.dropna()"
   ]
  },
  {
   "cell_type": "code",
   "execution_count": 106,
   "metadata": {},
   "outputs": [
    {
     "data": {
      "text/html": [
       "<div>\n",
       "<style scoped>\n",
       "    .dataframe tbody tr th:only-of-type {\n",
       "        vertical-align: middle;\n",
       "    }\n",
       "\n",
       "    .dataframe tbody tr th {\n",
       "        vertical-align: top;\n",
       "    }\n",
       "\n",
       "    .dataframe thead th {\n",
       "        text-align: right;\n",
       "    }\n",
       "</style>\n",
       "<table border=\"1\" class=\"dataframe\">\n",
       "  <thead>\n",
       "    <tr style=\"text-align: right;\">\n",
       "      <th></th>\n",
       "      <th>momentum_1</th>\n",
       "      <th>momentum_2</th>\n",
       "      <th>momentum_3</th>\n",
       "      <th>momentum_4</th>\n",
       "      <th>momentum_5</th>\n",
       "      <th>momentum_6</th>\n",
       "      <th>momentum_7</th>\n",
       "      <th>momentum_8</th>\n",
       "      <th>momentum_9</th>\n",
       "      <th>momentum_10</th>\n",
       "      <th>...</th>\n",
       "      <th>momentum_90</th>\n",
       "      <th>momentum_91</th>\n",
       "      <th>momentum_92</th>\n",
       "      <th>momentum_93</th>\n",
       "      <th>momentum_94</th>\n",
       "      <th>momentum_95</th>\n",
       "      <th>momentum_96</th>\n",
       "      <th>momentum_97</th>\n",
       "      <th>momentum_98</th>\n",
       "      <th>momentum_99</th>\n",
       "    </tr>\n",
       "  </thead>\n",
       "  <tbody>\n",
       "    <tr>\n",
       "      <th>0</th>\n",
       "      <td>0.013387</td>\n",
       "      <td>0.006527</td>\n",
       "      <td>0.017265</td>\n",
       "      <td>0.033056</td>\n",
       "      <td>0.034006</td>\n",
       "      <td>0.031733</td>\n",
       "      <td>0.037046</td>\n",
       "      <td>0.038123</td>\n",
       "      <td>0.047349</td>\n",
       "      <td>0.064201</td>\n",
       "      <td>...</td>\n",
       "      <td>0.073365</td>\n",
       "      <td>0.080629</td>\n",
       "      <td>0.086787</td>\n",
       "      <td>0.105780</td>\n",
       "      <td>0.088562</td>\n",
       "      <td>0.091755</td>\n",
       "      <td>0.076447</td>\n",
       "      <td>0.069727</td>\n",
       "      <td>0.065629</td>\n",
       "      <td>0.055212</td>\n",
       "    </tr>\n",
       "    <tr>\n",
       "      <th>1</th>\n",
       "      <td>-0.002853</td>\n",
       "      <td>0.010496</td>\n",
       "      <td>0.003655</td>\n",
       "      <td>0.014362</td>\n",
       "      <td>0.030108</td>\n",
       "      <td>0.031055</td>\n",
       "      <td>0.028789</td>\n",
       "      <td>0.034087</td>\n",
       "      <td>0.035161</td>\n",
       "      <td>0.044361</td>\n",
       "      <td>...</td>\n",
       "      <td>0.087496</td>\n",
       "      <td>0.070302</td>\n",
       "      <td>0.077545</td>\n",
       "      <td>0.083686</td>\n",
       "      <td>0.102625</td>\n",
       "      <td>0.085456</td>\n",
       "      <td>0.088640</td>\n",
       "      <td>0.073376</td>\n",
       "      <td>0.066675</td>\n",
       "      <td>0.062589</td>\n",
       "    </tr>\n",
       "  </tbody>\n",
       "</table>\n",
       "<p>2 rows × 99 columns</p>\n",
       "</div>"
      ],
      "text/plain": [
       "   momentum_1  momentum_2  momentum_3  momentum_4  momentum_5  momentum_6  \\\n",
       "0    0.013387    0.006527    0.017265    0.033056    0.034006    0.031733   \n",
       "1   -0.002853    0.010496    0.003655    0.014362    0.030108    0.031055   \n",
       "\n",
       "   momentum_7  momentum_8  momentum_9  momentum_10  ...  momentum_90  \\\n",
       "0    0.037046    0.038123    0.047349     0.064201  ...     0.073365   \n",
       "1    0.028789    0.034087    0.035161     0.044361  ...     0.087496   \n",
       "\n",
       "   momentum_91  momentum_92  momentum_93  momentum_94  momentum_95  \\\n",
       "0     0.080629     0.086787     0.105780     0.088562     0.091755   \n",
       "1     0.070302     0.077545     0.083686     0.102625     0.085456   \n",
       "\n",
       "   momentum_96  momentum_97  momentum_98  momentum_99  \n",
       "0     0.076447     0.069727     0.065629     0.055212  \n",
       "1     0.088640     0.073376     0.066675     0.062589  \n",
       "\n",
       "[2 rows x 99 columns]"
      ]
     },
     "execution_count": 106,
     "metadata": {},
     "output_type": "execute_result"
    }
   ],
   "source": [
    "x_na = x_na[var_list]\n",
    "x_na.reset_index(inplace = True, drop = True)\n",
    "x_na.head(2)"
   ]
  },
  {
   "cell_type": "code",
   "execution_count": 108,
   "metadata": {},
   "outputs": [],
   "source": [
    "#- - - - - - - -- - - - - - - - - - - - -- - - - - - - - - - - - - -- - - - - - - - - - - - -- - -\n",
    "\n",
    "eVal0,eVec0=getPCA(np.corrcoef(x_na,rowvar=0))\n"
   ]
  },
  {
   "cell_type": "code",
   "execution_count": 110,
   "metadata": {},
   "outputs": [],
   "source": [
    "## De mean data\n",
    "x_demeaned = x_na - x_na.mean()"
   ]
  },
  {
   "cell_type": "code",
   "execution_count": 111,
   "metadata": {},
   "outputs": [],
   "source": [
    "n= len(x_demeaned)"
   ]
  },
  {
   "cell_type": "code",
   "execution_count": 128,
   "metadata": {},
   "outputs": [],
   "source": [
    "cx = np.array(x_demeaned.T)@(np.array(x_demeaned))/n"
   ]
  },
  {
   "cell_type": "code",
   "execution_count": 117,
   "metadata": {},
   "outputs": [
    {
     "data": {
      "text/plain": [
       "(99, 99)"
      ]
     },
     "execution_count": 117,
     "metadata": {},
     "output_type": "execute_result"
    }
   ],
   "source": [
    "np.shape(eVec0) ##  the eigenvectors are in columns, so the first 99 rows = eigenvector for var 1"
   ]
  },
  {
   "cell_type": "code",
   "execution_count": 129,
   "metadata": {},
   "outputs": [],
   "source": [
    "eVec=np.linalg.eigh(cx)"
   ]
  },
  {
   "cell_type": "code",
   "execution_count": 130,
   "metadata": {},
   "outputs": [
    {
     "data": {
      "text/plain": [
       "(99, 99)"
      ]
     },
     "execution_count": 130,
     "metadata": {},
     "output_type": "execute_result"
    }
   ],
   "source": [
    "np.shape(eVec[1])"
   ]
  },
  {
   "cell_type": "code",
   "execution_count": 131,
   "metadata": {},
   "outputs": [],
   "source": [
    "diagonal = eVec[1].T@cx@eVec[1]"
   ]
  },
  {
   "cell_type": "code",
   "execution_count": 133,
   "metadata": {},
   "outputs": [
    {
     "data": {
      "text/plain": [
       "<matplotlib.axes._subplots.AxesSubplot at 0x23f00b5c588>"
      ]
     },
     "execution_count": 133,
     "metadata": {},
     "output_type": "execute_result"
    },
    {
     "data": {
      "image/png": "[encoded data removed]",
      "text/plain": [
       "<Figure size 432x288 with 2 Axes>"
      ]
     },
     "metadata": {
      "needs_background": "light"
     },
     "output_type": "display_data"
    }
   ],
   "source": [
    "sns.heatmap(diagonal, cmap = \"viridis\")"
   ]
  },
  {
   "cell_type": "code",
   "execution_count": 138,
   "metadata": {},
   "outputs": [],
   "source": [
    "check = (np.array(x_demeaned)@eVec[1])"
   ]
  },
  {
   "cell_type": "code",
   "execution_count": 139,
   "metadata": {},
   "outputs": [],
   "source": [
    "check_covariance = check.T@check\n"
   ]
  },
  {
   "cell_type": "code",
   "execution_count": 140,
   "metadata": {},
   "outputs": [
    {
     "data": {
      "text/plain": [
       "<matplotlib.axes._subplots.AxesSubplot at 0x23f00c227f0>"
      ]
     },
     "execution_count": 140,
     "metadata": {},
     "output_type": "execute_result"
    },
    {
     "data": {
      "image/png": "[encoded data removed]",
      "text/plain": [
       "<Figure size 432x288 with 2 Axes>"
      ]
     },
     "metadata": {
      "needs_background": "light"
     },
     "output_type": "display_data"
    }
   ],
   "source": [
    "sns.heatmap(check_covariance, cmap = \"viridis\")"
   ]
  },
  {
   "cell_type": "code",
   "execution_count": 147,
   "metadata": {},
   "outputs": [
    {
     "data": {
      "text/plain": [
       "<matplotlib.axes._subplots.AxesSubplot at 0x23f00e0aeb8>"
      ]
     },
     "execution_count": 147,
     "metadata": {},
     "output_type": "execute_result"
    },
    {
     "data": {
      "image/png": "[encoded data removed]",
      "text/plain": [
       "<Figure size 432x288 with 2 Axes>"
      ]
     },
     "metadata": {
      "needs_background": "light"
     },
     "output_type": "display_data"
    }
   ],
   "source": [
    "sns.heatmap(cx, cmap = \"viridis\")"
   ]
  },
  {
   "cell_type": "code",
   "execution_count": null,
   "metadata": {},
   "outputs": [],
   "source": [
    "## So here we can see that by applying PCA we can get the eigenvectors of the covariance matrix. If we then apply these\n",
    "## Eigenvectors as a linear transform to x, we can get a covariance matrix that focusses on the best point of signal. Now, \n",
    "## use monte carlo simulations to see what the best estimators are:h                                                                                                                                                                                                                                                                                                                                                                                                                                                                                                                                                                                                                                                                                                                                                                                                                                                                                                                                                                                                                                                                                                                                                                                                                                                                                                                                                                                                                                                                                                                                                                                                                                                                                                                                                                                                                                                                                                                                                                                                                                                                                                                                                                                                                                                                                                                                                                                                                                                                                                                                                                                                                                                                                                                                                                                                                                                                                                                                                                                                                                                                                                                                                                                                                                                                                                                                                                                                                                                                                                                                                                                                                                                                                                                                                                                                                                                                                                                                                                                                                                                                                                                                                                                                                                                                                                                                                                                                                                                                                                                                                                                                                                                                                                                                                                                                                                                                                                                                                                                                                                                                                                                                                                                                                                                                                                                                                                                                                                                                                                                                                                                                                                                                                                                                                                                                                                                                                                                                                                                                                                                                                                                                                                                                                                                                                                                                                                                                                                                                                                                                                                                                                                                                                                                                                                                                                                                                                                                                                                                                                                                                                                                                                                                                                                                                                                                                                                                                                                                                                                                                                                                                                                                                                                                                                                                                                                                                                                                                                                                                                                                                                                                                                                                                                                                                                                                                                                                                                                                                                                                                                                                                                                                                                                                                                                                                                                                                                                                                                                                                                                                                                                                                                                                                                                                                                                                                                                                                                                                                                                                                                                                                                                                                                                                                                                                                                                                                                                                                                                                                                                                                                                                                                                                                                                                                                                                                                                                                                                                                                                                                                                                                                                                                                                                                                                                                                                                                                                                                                                                                                                                                                                                                                                                                                                                                                                                                                                                                                                                                                                                                                                                                                                                                                                                                                                                                                                                                                                                                                                                                                                                                                                                                                                                                                                                                                                                                                                                                                                                                                                                                                                                                                                                                                                                                                                                                                                                                                                                                                                                                                                                                                                                                                                                                                                                                                                                                                                                                                                                                                                                                                                                                                                                                                                                                                                                                                                                                                                                                                                                                                                                                                                                                                                                                                                                                                                                                                                                                                                                                                                                                                                                                                                                                                                                                                                                                                                                                                                                                                                                                                                                                                                                                                                                                                                                                                                                                                                                                                                                                                                                                                                                                                                                                                                                                                                                                                                                                                                                                                                                                                                                                                                                                                                                                                                                                                                                                                                                                                                                                                                                                                                                                                                                                                                                                                                                                                                                                                                                                                                                                                                                                                                                                                                                                                                                                                                                                                                                                                                                                                                                                                                                                                                                                                                                                                                                                                                                                                                                                                                                                                                                                                                                                                                                                                                                                                                                                                                                                                                                                                                                                                                                                                                                                                                                                                                                                                                                                                                                                                                                                                                                                                                                                                                                                                                                                                                                                                                                                                                                                                                                "
   ]
  },
  {
   "cell_type": "code",
   "execution_count": 157,
   "metadata": {},
   "outputs": [
    {
     "data": {
      "text/plain": [
       "[<matplotlib.lines.Line2D at 0x23f019a4080>]"
      ]
     },
     "execution_count": 157,
     "metadata": {},
     "output_type": "execute_result"
    },
    {
     "data": {
      "image/png": "[encoded data removed]",
      "text/plain": [
       "<Figure size 432x288 with 1 Axes>"
      ]
     },
     "metadata": {
      "needs_background": "light"
     },
     "output_type": "display_data"
    }
   ],
   "source": [
    "plt.plot(pd.DataFrame(check)[98])"
   ]
  },
  {
   "cell_type": "code",
   "execution_count": 160,
   "metadata": {},
   "outputs": [
    {
     "data": {
      "text/plain": [
       "(2494,)"
      ]
     },
     "execution_count": 160,
     "metadata": {},
     "output_type": "execute_result"
    }
   ],
   "source": [
    "np.shape(check[:,98])"
   ]
  },
  {
   "cell_type": "code",
   "execution_count": 151,
   "metadata": {},
   "outputs": [
    {
     "data": {
      "text/plain": [
       "[<matplotlib.lines.Line2D at 0x23f0193ac50>]"
      ]
     },
     "execution_count": 151,
     "metadata": {},
     "output_type": "execute_result"
    },
    {
     "data": {
      "image/png": "[encoded data removed]",
      "text/plain": [
       "<Figure size 432x288 with 1 Axes>"
      ]
     },
     "metadata": {
      "needs_background": "light"
     },
     "output_type": "display_data"
    }
   ],
   "source": [
    "plt.plot(x_demeaned['momentum_99'])"
   ]
  },
  {
   "cell_type": "markdown",
   "metadata": {},
   "source": [
    "# and indeed the correlation is high:\n",
    "np.corrcoef(np.array(x_demeaned['momentum_99']),check[:,98])"
   ]
  },
  {
   "cell_type": "markdown",
   "metadata": {},
   "source": [
    "### Functions"
   ]
  },
  {
   "cell_type": "code",
   "execution_count": 10,
   "metadata": {},
   "outputs": [],
   "source": [
    "### Lasso\n",
    "\n",
    "def loss_fn_lasso(X, Y, beta):\n",
    "    return cp.norm2(X @ beta - Y)**2\n",
    "\n",
    "def regularizer_lasso(beta):\n",
    "    return cp.norm1(beta)\n",
    "\n",
    "def objective_fn_lasso(X, Y, beta, lambd):\n",
    "    return loss_fn_lasso(X, Y, beta) + lambd * regularizer_lasso(beta)\n",
    "\n",
    "def mse_lasso(X, Y, beta):\n",
    "    return (1.0 / X.shape[0]) * loss_fn_lasso(X, Y, beta).value\n",
    "\n",
    "## Ridge\n",
    "\n",
    "def loss_fn_ridge(X, Y, beta):\n",
    "    return cp.pnorm(X @ beta - Y, p=2)**2\n",
    "\n",
    "def regularizer_ridge(beta):\n",
    "    return cp.pnorm(beta, p=2)**2\n",
    "\n",
    "def objective_fn_ridge(X, Y, beta, lambd):\n",
    "    return loss_fn_ridge(X, Y, beta) + lambd * regularizer_ridge(beta)\n",
    "\n",
    "def mse_ridge(X, Y, beta):\n",
    "    return (1.0 / X.shape[0]) * loss_fn_ridge(X, Y, beta).value\n",
    "\n",
    "\n",
    "## Elastic net\n",
    "\n",
    "def loss_fn_elastic_net(X, Y, beta):\n",
    "    return cp.pnorm(Y - X @ beta , p=2)**2\n",
    "\n",
    "def regularizer_elastic_net(beta,lambd,lambd2):\n",
    "    return (lambd2)*cp.pnorm(beta, p=2)**2 + (lambd)*cp.norm1(beta) \n",
    "\n",
    "\n",
    "def objective_fn_elastic_net(X, Y, beta, lambd,lambd2):\n",
    "    return loss_fn_elastic_net(X, Y, beta) + regularizer_elastic_net(beta,lambd,lambd2)\n",
    "\n",
    "def mse_elastic_net(X, Y, beta):\n",
    "    return (1.0 / X.shape[0]) * loss_fn_elastic_net(X, Y, beta).value\n",
    "\n",
    "\n",
    "\n"
   ]
  },
  {
   "cell_type": "code",
   "execution_count": 331,
   "metadata": {},
   "outputs": [],
   "source": [
    "def plot_regularization_path(lambd_values, beta_values):\n",
    "    num_coeffs = len(beta_values[0])\n",
    "    for i in range(num_coeffs):\n",
    "        plt.plot(lambd_values, [wi[i] for wi in beta_values])\n",
    "    plt.xlabel(r\"$\\lambda$\", fontsize=16)\n",
    "    plt.xscale(\"log\")\n",
    "    plt.title(\"Regularization Path\")\n",
    "    plt.show()\n",
    "\n",
    "def plot_train_test_errors(train_errors, test_errors, lambd_values):\n",
    "    plt.plot(lambd_values, train_errors, label=\"Train error\")\n",
    "    plt.plot(lambd_values, test_errors, label=\"Test error\")\n",
    "    plt.xscale(\"log\")\n",
    "    plt.legend(loc=\"upper left\")\n",
    "    plt.xlabel(r\"$\\lambda$\", fontsize=16)\n",
    "    plt.title(\"Mean Squared Error (MSE)\")\n",
    "    plt.show()\n"
   ]
  },
  {
   "cell_type": "markdown",
   "metadata": {},
   "source": [
    "## Test normalisation"
   ]
  },
  {
   "cell_type": "code",
   "execution_count": 378,
   "metadata": {},
   "outputs": [],
   "source": [
    "X1 = np.random.normal(1,0.5,1000)\n",
    "error = np.random.normal(0,3,1000)                 \n",
    "X2 = 0.3*X1 \n",
    "\n",
    "Y = 2*X1+error+0.2*X2+100\n",
    "## Normalise \n",
    "Y = (Y - Y.mean())/Y.std()\n",
    "X1 = (X1 - X1.mean())/X1.std()\n",
    "X2 = (X2 - X2.mean())/X2.std()"
   ]
  },
  {
   "cell_type": "code",
   "execution_count": 379,
   "metadata": {},
   "outputs": [
    {
     "data": {
      "text/plain": [
       "<matplotlib.collections.PathCollection at 0x220dc46d400>"
      ]
     },
     "execution_count": 379,
     "metadata": {},
     "output_type": "execute_result"
    },
    {
     "data": {
      "image/png": "[encoded data removed]",
      "text/plain": [
       "<Figure size 432x288 with 1 Axes>"
      ]
     },
     "metadata": {
      "needs_background": "light"
     },
     "output_type": "display_data"
    }
   ],
   "source": [
    "plt.scatter(X1,Y)"
   ]
  },
  {
   "cell_type": "code",
   "execution_count": 380,
   "metadata": {},
   "outputs": [
    {
     "data": {
      "text/plain": [
       "(1000,)"
      ]
     },
     "execution_count": 380,
     "metadata": {},
     "output_type": "execute_result"
    }
   ],
   "source": [
    "np.shape(X1)"
   ]
  },
  {
   "cell_type": "code",
   "execution_count": 381,
   "metadata": {},
   "outputs": [
    {
     "data": {
      "text/plain": [
       "(1000, 2)"
      ]
     },
     "execution_count": 381,
     "metadata": {},
     "output_type": "execute_result"
    }
   ],
   "source": [
    "np.shape(X)"
   ]
  },
  {
   "cell_type": "code",
   "execution_count": 382,
   "metadata": {},
   "outputs": [
    {
     "name": "stdout",
     "output_type": "stream",
     "text": [
      "a\n",
      "b\n",
      "c\n"
     ]
    }
   ],
   "source": [
    "X1 = np.reshape(X1, newshape = (len(X1),1))\n",
    "X2 = np.reshape(X2, newshape = (len(X2),1))\n",
    "X = np.hstack((X1,X2))\n",
    "m = len(X)\n",
    "n = 2\n",
    "\n",
    "X_train = X[:int(m/2),:]\n",
    "Y_train = Y[:int(m/2)]\n",
    "X_test = X[int(m/2):,:]\n",
    "Y_test = Y[int(m/2):]\n",
    "alpha = 0\n",
    "beta = cp.Variable(n)\n",
    "lambd = cp.Parameter(nonneg=True)\n",
    "lambd2 = cp.Parameter(nonneg=True)\n",
    "print(\"a\")\n",
    "problem = cp.Problem(cp.Minimize(objective_fn_elastic_net(X_train, Y_train, beta, lambd,lambd2)))\n",
    "print(\"b\")\n",
    "lambd_values = np.logspace(-2, 3, 50) ## Changing the lambda is equivalent to changing the t in order to observe different levels of regularisation\n",
    "## alpha = l2/(l1+l2)\n",
    "## so l2 = l1*alpha/(1-alpha)\n",
    "lambd2_values = lambd_values*(alpha/(1-alpha))\n",
    "\n",
    "train_errors = []\n",
    "test_errors = []\n",
    "beta_values = []\n",
    "counter = 0\n",
    "print(\"c\")\n",
    "for count,v in enumerate(lambd_values):\n",
    "    lambd.value = v\n",
    "    lambd2.value = lambd2_values[count]\n",
    "    #print(\"Values remaining: \" +str(len(lambd_values)-count))\n",
    "    problem.solve()\n",
    "    test_error = mse_elastic_net(X_test, Y_test, beta)\n",
    "    train_errors.append(mse_elastic_net(X_train, Y_train, beta))\n",
    "    test_errors.append(test_error)\n",
    "    beta_values.append(beta.value)\n",
    "\n",
    "\n",
    "\n",
    "opt_lambda = lambd_values[test_errors.index(min(test_errors))]\n",
    "opt_beta = beta_values[test_errors.index(min(test_errors))]\n",
    "y_pred = X_test@opt_beta\n",
    "avg_ss = sum(((Y_test - Y_test.mean())**2)**(0.5))\n",
    "pred_ss = sum(((Y_test - y_pred)**2)**(0.5))\n",
    "r_squared = 1- (pred_ss/avg_ss)\n"
   ]
  },
  {
   "cell_type": "code",
   "execution_count": 383,
   "metadata": {},
   "outputs": [
    {
     "data": {
      "text/plain": [
       "array([0.17366576, 0.17366576])"
      ]
     },
     "execution_count": 383,
     "metadata": {},
     "output_type": "execute_result"
    }
   ],
   "source": [
    "opt_beta\n",
    "## From this - we can see that the Lasso effectively recovers the coefficient although the regression is high due to the large \n",
    "## amount of noise"
   ]
  },
  {
   "cell_type": "code",
   "execution_count": 384,
   "metadata": {},
   "outputs": [
    {
     "data": {
      "text/plain": [
       "0.0672858281786104"
      ]
     },
     "execution_count": 384,
     "metadata": {},
     "output_type": "execute_result"
    }
   ],
   "source": [
    "r_squared"
   ]
  },
  {
   "cell_type": "code",
   "execution_count": 385,
   "metadata": {},
   "outputs": [
    {
     "data": {
      "image/png": "[encoded data removed]",
      "text/plain": [
       "<Figure size 432x288 with 1 Axes>"
      ]
     },
     "metadata": {
      "needs_background": "light"
     },
     "output_type": "display_data"
    },
    {
     "data": {
      "image/png": "[encoded data removed]",
      "text/plain": [
       "<Figure size 432x288 with 1 Axes>"
      ]
     },
     "metadata": {
      "needs_background": "light"
     },
     "output_type": "display_data"
    }
   ],
   "source": [
    "plot_train_test_errors(train_errors, test_errors, lambd_values)\n",
    "plot_regularization_path(lambd_values, beta_values)"
   ]
  },
  {
   "cell_type": "markdown",
   "metadata": {},
   "source": [
    "#### Test vs normalised variables"
   ]
  },
  {
   "cell_type": "code",
   "execution_count": 277,
   "metadata": {},
   "outputs": [],
   "source": [
    "## Now, see if normalisation makes a difference\n",
    "X1 = np.random.normal(10,0.5,10000\n",
    "                    )\n",
    "X2 = np.random.uniform(0,0.1,10000)\n",
    "error = np.random.normal(0,0.4,10000)\n",
    "Y = X1+0.2*X2\n",
    "X1_mean = X1.mean()\n",
    "X1_std = X1.std()\n",
    "X2_mean = X2.mean()\n",
    "X2_std = X2.std()\n",
    "X1 = (X1-X1_mean)#/X1_std\n",
    "X2 = (X2-X2_mean)#/X2_std\n",
    "Y = Y - Y.mean()"
   ]
  },
  {
   "cell_type": "code",
   "execution_count": 278,
   "metadata": {},
   "outputs": [
    {
     "name": "stdout",
     "output_type": "stream",
     "text": [
      "a\n",
      "b\n",
      "c\n"
     ]
    }
   ],
   "source": [
    "X1 = np.reshape(X1, newshape = (len(X1),1))\n",
    "X2 = np.reshape(X2, newshape = (len(X2),1))\n",
    "X = np.hstack((X1,X2))\n",
    "m = len(X)\n",
    "n = 2\n",
    "\n",
    "X_train = X[:int(m/2),:]\n",
    "Y_train = Y[:int(m/2)]\n",
    "X_test = X[int(m/2):,:]\n",
    "Y_test = Y[int(m/2):]\n",
    "alpha = 0\n",
    "beta = cp.Variable(n)\n",
    "lambd = cp.Parameter(nonneg=True)\n",
    "lambd2 = cp.Parameter(nonneg=True)\n",
    "print(\"a\")\n",
    "problem = cp.Problem(cp.Minimize(objective_fn_elastic_net(X_train, Y_train, beta, lambd,lambd2)))\n",
    "print(\"b\")\n",
    "lambd_values = np.logspace(-2, 3, 50) ## Changing the lambda is equivalent to changing the t in order to observe different levels of regularisation\n",
    "## alpha = l2/(l1+l2)\n",
    "## so l2 = l1*alpha/(1-alpha)\n",
    "lambd2_values = lambd_values*(alpha/(1-alpha))\n",
    "\n",
    "train_errors = []\n",
    "test_errors = []\n",
    "beta_values = []\n",
    "counter = 0\n",
    "print(\"c\")\n",
    "for count,v in enumerate(lambd_values):\n",
    "    lambd.value = v\n",
    "    lambd2.value = lambd2_values[count]\n",
    "    #print(\"Values remaining: \" +str(len(lambd_values)-count))\n",
    "    problem.solve()\n",
    "    test_error = mse_elastic_net(X_test, Y_test, beta)\n",
    "    train_errors.append(mse_elastic_net(X_train, Y_train, beta))\n",
    "    test_errors.append(test_error)\n",
    "    beta_values.append(beta.value)\n",
    "\n",
    "\n",
    "\n",
    "opt_lambda = lambd_values[test_errors.index(min(test_errors))]\n",
    "opt_beta = beta_values[test_errors.index(min(test_errors))]\n",
    "y_pred = X_test@opt_beta\n",
    "avg_ss = sum(((Y_test - Y_test.mean())**2)**(0.5))\n",
    "pred_ss = sum(((Y_test - y_pred)**2)**(0.5))\n",
    "r_squared = 1- (pred_ss/avg_ss)\n"
   ]
  },
  {
   "cell_type": "code",
   "execution_count": 279,
   "metadata": {
    "scrolled": true
   },
   "outputs": [
    {
     "data": {
      "image/png": "[encoded data removed]",
      "text/plain": [
       "<Figure size 432x288 with 1 Axes>"
      ]
     },
     "metadata": {
      "needs_background": "light"
     },
     "output_type": "display_data"
    },
    {
     "data": {
      "image/png": "[encoded data removed]",
      "text/plain": [
       "<Figure size 432x288 with 1 Axes>"
      ]
     },
     "metadata": {
      "needs_background": "light"
     },
     "output_type": "display_data"
    }
   ],
   "source": [
    "plot_train_test_errors(train_errors, test_errors, lambd_values)\n",
    "plot_regularization_path(lambd_values, beta_values)"
   ]
  },
  {
   "cell_type": "code",
   "execution_count": 280,
   "metadata": {
    "scrolled": true
   },
   "outputs": [
    {
     "name": "stdout",
     "output_type": "stream",
     "text": [
      "[0.99999406 0.19877535]\n",
      "0.9999241610144813\n"
     ]
    }
   ],
   "source": [
    "print(opt_beta)\n",
    "print(r_squared)"
   ]
  },
  {
   "cell_type": "markdown",
   "metadata": {},
   "source": [
    "### Conclusion"
   ]
  },
  {
   "cell_type": "code",
   "execution_count": null,
   "metadata": {},
   "outputs": [],
   "source": [
    "## Due to the need to regularise data before use, the lasso will fail if there is or are one of the following:\n",
    "## 1. an normalised item\n",
    "## 2. a constant relationship in the presence of nothing being normalised\n",
    "\n",
    "## without normalisation, the propensity to under-fit the test set is very high. This is because the ability to \n",
    "## train well on the training set will be limited since there is no constant term to aid the Lasso. As the lambda\n",
    "## term increases, the betas that are already struggling to work will be shrunk even further, so the model will\n",
    "## just get worse.\n",
    "## When these ill-fit parameters are applied on the test set, due to the inability to train properly, these may fit the\n",
    "## test set even worse / better; but worse ex-hypothesi when the test and training set look similar.\n",
    "## hence, as the lambdas increase, the model will become better at predicting since the parameters are so ill fit, \n",
    "## and the regularisaiton term also will decrease.\n",
    "\n",
    "## The flow is: model misspecification causes inability to train on training set\n",
    "## Ill-fitted parameters mean regularisation strictly decreases test set error through both dimensions (X/Y and reg.)\n"
   ]
  },
  {
   "cell_type": "markdown",
   "metadata": {},
   "source": [
    "# Kernel density estimate"
   ]
  },
  {
   "cell_type": "code",
   "execution_count": 281,
   "metadata": {},
   "outputs": [],
   "source": [
    "### This is going to test to see if KDE does actually accurately reproduce pricing data"
   ]
  },
  {
   "cell_type": "code",
   "execution_count": 283,
   "metadata": {},
   "outputs": [],
   "source": [
    "\n",
    "    \n",
    "file_path = r\"C:\\Users\\hugo.lu\\repos\\repos_backup\\Strategy-creation\\cleaned_matrices\\technical_indicator_clean.csv\"\n",
    "pricing_data_string = r\"C:\\Users\\hugo.lu\\repos\\repos_backup\\Strategy-creation\\Raw data\\EURUSD\\2020-05-05_EURUSD_MIDPOINT_10 Y_1 day.csv\""
   ]
  },
  {
   "cell_type": "code",
   "execution_count": 284,
   "metadata": {},
   "outputs": [],
   "source": [
    "pricing_data = pd.read_csv(filepath_or_buffer = pricing_data_string, index_col = 0)"
   ]
  },
  {
   "cell_type": "code",
   "execution_count": 291,
   "metadata": {},
   "outputs": [],
   "source": [
    "close = pricing_data['close']\n",
    "first_difference =(close- close.shift(1)).dropna()"
   ]
  },
  {
   "cell_type": "code",
   "execution_count": 294,
   "metadata": {},
   "outputs": [
    {
     "data": {
      "text/plain": [
       "<matplotlib.axes._subplots.AxesSubplot at 0x220dc52b208>"
      ]
     },
     "execution_count": 294,
     "metadata": {},
     "output_type": "execute_result"
    },
    {
     "data": {
      "image/png": "[encoded data removed]",
      "text/plain": [
       "<Figure size 432x288 with 1 Axes>"
      ]
     },
     "metadata": {
      "needs_background": "light"
     },
     "output_type": "display_data"
    }
   ],
   "source": [
    "first_difference.hist()"
   ]
  },
  {
   "cell_type": "code",
   "execution_count": 293,
   "metadata": {},
   "outputs": [
    {
     "data": {
      "text/plain": [
       "[<matplotlib.lines.Line2D at 0x220db0c6da0>]"
      ]
     },
     "execution_count": 293,
     "metadata": {},
     "output_type": "execute_result"
    },
    {
     "data": {
      "image/png": "[encoded data removed]",
      "text/plain": [
       "<Figure size 432x288 with 1 Axes>"
      ]
     },
     "metadata": {
      "needs_background": "light"
     },
     "output_type": "display_data"
    }
   ],
   "source": [
    "\n",
    "x = np.array(first_difference)\n",
    "xs = np.linspace(-0.05,0.05,1000)\n",
    "# expects n x p matrix with p features\n",
    "x.shape = (len(x), 1)\n",
    "xs.shape = (len(xs), 1)\n",
    "#### Question@ is this the correct KDE to use? Probably can be refined and generalised....\n",
    "kde = KernelDensity(bandwidth=0.003).fit(x)\n",
    "dens = np.exp(kde.score_samples(xs))\n",
    "plt.plot(xs, dens)\n"
   ]
  },
  {
   "cell_type": "code",
   "execution_count": 295,
   "metadata": {},
   "outputs": [],
   "source": [
    "probs = dens / sum(dens)\n",
    "xs_comma = np.reshape(xs,newshape = (len(xs),))"
   ]
  },
  {
   "cell_type": "code",
   "execution_count": 296,
   "metadata": {},
   "outputs": [],
   "source": [
    "mc = np.random.choice(xs_comma, size=10000, replace=True, p=probs)"
   ]
  },
  {
   "cell_type": "code",
   "execution_count": 300,
   "metadata": {},
   "outputs": [
    {
     "data": {
      "text/plain": [
       "(array([3.000e+00, 1.100e+01, 1.800e+01, 3.500e+01, 7.000e+01, 1.490e+02,\n",
       "        2.880e+02, 6.230e+02, 1.189e+03, 1.871e+03, 2.149e+03, 1.697e+03,\n",
       "        1.010e+03, 4.810e+02, 2.170e+02, 1.120e+02, 3.900e+01, 2.700e+01,\n",
       "        9.000e+00, 2.000e+00]),\n",
       " array([-0.03658659, -0.03306306, -0.02953954, -0.02601602, -0.02249249,\n",
       "        -0.01896897, -0.01544545, -0.01192192, -0.0083984 , -0.00487487,\n",
       "        -0.00135135,  0.00217217,  0.0056957 ,  0.00921922,  0.01274274,\n",
       "         0.01626627,  0.01978979,  0.02331331,  0.02683684,  0.03036036,\n",
       "         0.03388388]),\n",
       " <a list of 20 Patch objects>)"
      ]
     },
     "execution_count": 300,
     "metadata": {},
     "output_type": "execute_result"
    },
    {
     "data": {
      "image/png": "[encoded data removed]",
      "text/plain": [
       "<Figure size 432x288 with 1 Axes>"
      ]
     },
     "metadata": {
      "needs_background": "light"
     },
     "output_type": "display_data"
    }
   ],
   "source": [
    "plt.hist(mc,bins = 20)"
   ]
  },
  {
   "cell_type": "code",
   "execution_count": 305,
   "metadata": {},
   "outputs": [
    {
     "data": {
      "text/plain": [
       "<matplotlib.axes._subplots.AxesSubplot at 0x220ddbe3a90>"
      ]
     },
     "execution_count": 305,
     "metadata": {},
     "output_type": "execute_result"
    },
    {
     "data": {
      "image/png": "[encoded data removed]",
      "text/plain": [
       "<Figure size 432x288 with 1 Axes>"
      ]
     },
     "metadata": {
      "needs_background": "light"
     },
     "output_type": "display_data"
    }
   ],
   "source": [
    "#Visualisation:\n",
    "sns.distplot(mc, hist=True, kde=True, \n",
    "             bins=int(round((len(first_difference)/60))), color = 'darkblue', \n",
    "             hist_kws={'edgecolor':'black'},\n",
    "             kde_kws={'linewidth': 4})"
   ]
  },
  {
   "cell_type": "code",
   "execution_count": 393,
   "metadata": {},
   "outputs": [
    {
     "data": {
      "text/plain": [
       "[<matplotlib.lines.Line2D at 0x220e17e1518>]"
      ]
     },
     "execution_count": 393,
     "metadata": {},
     "output_type": "execute_result"
    },
    {
     "data": {
      "image/png": "[encoded data removed]",
      "text/plain": [
       "<Figure size 432x288 with 1 Axes>"
      ]
     },
     "metadata": {
      "needs_background": "light"
     },
     "output_type": "display_data"
    }
   ],
   "source": [
    "plt.plot(first_difference.rolling(120).std())"
   ]
  },
  {
   "cell_type": "code",
   "execution_count": 392,
   "metadata": {},
   "outputs": [
    {
     "name": "stdout",
     "output_type": "stream",
     "text": [
      "Stationary for: \n"
     ]
    }
   ],
   "source": [
    "result = adfuller(first_difference)\n",
    "    #print('ADF Statistic: %f' % result[0])\n",
    "#print('p-value: %f' % result[1])\n",
    "#print('Critical Values:')\n",
    "#for key, value in result[4].items():\n",
    "#    print('\\t%s: %.3f' % (key, value))\n",
    "if result[0] < -3.434:\n",
    "    print(\"Stationary for: \" )\n",
    "    \n",
    "else:\n",
    "    print(\"Non stationary for: \" )\n"
   ]
  },
  {
   "cell_type": "code",
   "execution_count": 394,
   "metadata": {},
   "outputs": [
    {
     "data": {
      "text/plain": [
       "(-51.68564000589435,\n",
       " 0.0,\n",
       " 0,\n",
       " 2591,\n",
       " {'1%': -3.4328763567780456,\n",
       "  '5%': -2.8626561482371278,\n",
       "  '10%': -2.5673641660121183},\n",
       " -18347.333943882724)"
      ]
     },
     "execution_count": 394,
     "metadata": {},
     "output_type": "execute_result"
    }
   ],
   "source": [
    "#### although the parameters are changing significantly, it is not significant enough to reject stationarity.\n",
    "result"
   ]
  },
  {
   "cell_type": "code",
   "execution_count": 397,
   "metadata": {},
   "outputs": [],
   "source": [
    "forward_opportunity = close.rolling(21).max()\n",
    "forward_opportunity = forward_opportunity.shift(-21)\n",
    "forward_opportunity = forward_opportunity.dropna() "
   ]
  },
  {
   "cell_type": "code",
   "execution_count": 398,
   "metadata": {},
   "outputs": [
    {
     "name": "stdout",
     "output_type": "stream",
     "text": [
      "Non stationary for: \n"
     ]
    }
   ],
   "source": [
    "result = adfuller(forward_opportunity)\n",
    "    #print('ADF Statistic: %f' % result[0])\n",
    "#print('p-value: %f' % result[1])\n",
    "#print('Critical Values:')\n",
    "#for key, value in result[4].items():\n",
    "#    print('\\t%s: %.3f' % (key, value))\n",
    "if result[0] < -3.434:\n",
    "    print(\"Stationary for: \" )\n",
    "    \n",
    "else:\n",
    "    print(\"Non stationary for: \" )\n"
   ]
  },
  {
   "cell_type": "code",
   "execution_count": 399,
   "metadata": {},
   "outputs": [
    {
     "data": {
      "text/plain": [
       "(-1.166282956572105,\n",
       " 0.6879292288746389,\n",
       " 11,\n",
       " 2560,\n",
       " {'1%': -3.4329069801374077,\n",
       "  '5%': -2.862669671881199,\n",
       "  '10%': -2.5673713661193847},\n",
       " -22332.784690983186)"
      ]
     },
     "execution_count": 399,
     "metadata": {},
     "output_type": "execute_result"
    }
   ],
   "source": [
    "result"
   ]
  },
  {
   "cell_type": "markdown",
   "metadata": {},
   "source": [
    "### Regularisation"
   ]
  },
  {
   "cell_type": "code",
   "execution_count": 1,
   "metadata": {},
   "outputs": [],
   "source": [
    "## Consider a random numpy array"
   ]
  },
  {
   "cell_type": "code",
   "execution_count": 36,
   "metadata": {},
   "outputs": [],
   "source": [
    "import numpy as np\n",
    "import pandas as pd\n",
    "import matplotlib as plt"
   ]
  },
  {
   "cell_type": "code",
   "execution_count": 62,
   "metadata": {},
   "outputs": [],
   "source": [
    "array = np.random.normal(0,3,1000)"
   ]
  },
  {
   "cell_type": "code",
   "execution_count": 63,
   "metadata": {},
   "outputs": [
    {
     "data": {
      "text/plain": [
       "(array([ 11.,  28., 101., 175., 205., 255., 131.,  63.,  23.,   8.]),\n",
       " array([-8.8960871 , -7.03530575, -5.17452441, -3.31374306, -1.45296171,\n",
       "         0.40781964,  2.26860098,  4.12938233,  5.99016368,  7.85094503,\n",
       "         9.71172637]),\n",
       " <a list of 10 Patch objects>)"
      ]
     },
     "execution_count": 63,
     "metadata": {},
     "output_type": "execute_result"
    },
    {
     "data": {
      "image/png": "[encoded data removed]",
      "text/plain": [
       "<Figure size 432x288 with 1 Axes>"
      ]
     },
     "metadata": {
      "needs_background": "light"
     },
     "output_type": "display_data"
    }
   ],
   "source": [
    "plt.pyplot.hist(array)"
   ]
  },
  {
   "cell_type": "code",
   "execution_count": 64,
   "metadata": {},
   "outputs": [],
   "source": [
    "## Suppose we regularise, and then apply a function, and then regularise again"
   ]
  },
  {
   "cell_type": "code",
   "execution_count": 65,
   "metadata": {},
   "outputs": [],
   "source": [
    "reg1 = (array - array.mean())/array.std()\n",
    "#reg1 = reg1/array.std()"
   ]
  },
  {
   "cell_type": "code",
   "execution_count": 66,
   "metadata": {},
   "outputs": [
    {
     "data": {
      "text/plain": [
       "(array([ 11.,  28., 101., 175., 205., 255., 131.,  63.,  23.,   8.]),\n",
       " array([-2.90518971, -2.30246483, -1.69973996, -1.09701509, -0.49429021,\n",
       "         0.10843466,  0.71115953,  1.31388441,  1.91660928,  2.51933416,\n",
       "         3.12205903]),\n",
       " <a list of 10 Patch objects>)"
      ]
     },
     "execution_count": 66,
     "metadata": {},
     "output_type": "execute_result"
    },
    {
     "data": {
      "image/png": "[encoded data removed]",
      "text/plain": [
       "<Figure size 432x288 with 1 Axes>"
      ]
     },
     "metadata": {
      "needs_background": "light"
     },
     "output_type": "display_data"
    }
   ],
   "source": [
    "plt.pyplot.hist(reg1)"
   ]
  },
  {
   "cell_type": "code",
   "execution_count": 67,
   "metadata": {},
   "outputs": [
    {
     "data": {
      "image/png": "[encoded data removed]",
      "text/plain": [
       "<Figure size 432x288 with 1 Axes>"
      ]
     },
     "metadata": {
      "needs_background": "light"
     },
     "output_type": "display_data"
    }
   ],
   "source": [
    "reg1 = pd.DataFrame(reg1)\n",
    "reg1 = reg1.iloc[:,0]\n",
    "reg1 = reg1.apply(lambda x: -x if x < 0 else x)\n",
    "plt.pyplot.hist(reg1)\n",
    "reg1 = (reg1 - reg1.mean())/reg1.std()\n"
   ]
  },
  {
   "cell_type": "code",
   "execution_count": 68,
   "metadata": {},
   "outputs": [
    {
     "data": {
      "text/plain": [
       "<matplotlib.axes._subplots.AxesSubplot at 0x23f4bc23ba8>"
      ]
     },
     "execution_count": 68,
     "metadata": {},
     "output_type": "execute_result"
    },
    {
     "data": {
      "image/png": "[encoded data removed]",
      "text/plain": [
       "<Figure size 432x288 with 1 Axes>"
      ]
     },
     "metadata": {
      "needs_background": "light"
     },
     "output_type": "display_data"
    }
   ],
   "source": [
    "reg1.hist()"
   ]
  },
  {
   "cell_type": "code",
   "execution_count": 69,
   "metadata": {},
   "outputs": [],
   "source": [
    "## Suppose instead, we apply the function first and then regularise\n",
    "reg2 = array"
   ]
  },
  {
   "cell_type": "code",
   "execution_count": 70,
   "metadata": {},
   "outputs": [
    {
     "data": {
      "image/png": "[encoded data removed]",
      "text/plain": [
       "<Figure size 432x288 with 1 Axes>"
      ]
     },
     "metadata": {
      "needs_background": "light"
     },
     "output_type": "display_data"
    }
   ],
   "source": [
    "reg2 = pd.DataFrame(reg2)\n",
    "reg2 = reg2.iloc[:,0]\n",
    "reg2 = reg2.apply(lambda x: -x if x < 0 else x)\n",
    "plt.pyplot.hist(reg2)\n",
    "reg2 = (reg2 - reg2.mean())/reg2.std()"
   ]
  },
  {
   "cell_type": "code",
   "execution_count": 71,
   "metadata": {},
   "outputs": [
    {
     "data": {
      "text/plain": [
       "<matplotlib.axes._subplots.AxesSubplot at 0x23f4bd6a860>"
      ]
     },
     "execution_count": 71,
     "metadata": {},
     "output_type": "execute_result"
    },
    {
     "data": {
      "image/png": "[encoded data removed]",
      "text/plain": [
       "<Figure size 432x288 with 1 Axes>"
      ]
     },
     "metadata": {
      "needs_background": "light"
     },
     "output_type": "display_data"
    }
   ],
   "source": [
    "reg2.hist()"
   ]
  },
  {
   "cell_type": "code",
   "execution_count": 78,
   "metadata": {},
   "outputs": [
    {
     "data": {
      "text/plain": [
       "39.018079459193345"
      ]
     },
     "execution_count": 78,
     "metadata": {},
     "output_type": "execute_result"
    }
   ],
   "source": [
    "sum(np.absolute(reg1-reg2)) ## So the two are not equivalent."
   ]
  }
 ],
 "metadata": {
  "kernelspec": {
   "display_name": "Python 3",
   "language": "python",
   "name": "python3"
  },
  "language_info": {
   "codemirror_mode": {
    "name": "ipython",
    "version": 3
   },
   "file_extension": ".py",
   "mimetype": "text/x-python",
   "name": "python",
   "nbconvert_exporter": "python",
   "pygments_lexer": "ipython3",
   "version": "3.7.3"
  }
 },
 "nbformat": 4,
 "nbformat_minor": 2
}
