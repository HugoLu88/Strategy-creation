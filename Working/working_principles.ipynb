{
 "cells": [
  {
   "cell_type": "markdown",
   "metadata": {},
   "source": [
    "### Description"
   ]
  },
  {
   "cell_type": "code",
   "execution_count": 1,
   "metadata": {},
   "outputs": [],
   "source": [
    "### This code simulates examples to test some ideas such as:\n",
    "## 1. Double check that normalising data does not affect model predictability\n",
    "## 2. Double check KDE simulation is effective"
   ]
  },
  {
   "cell_type": "markdown",
   "metadata": {},
   "source": [
    "### Imports"
   ]
  },
  {
   "cell_type": "code",
   "execution_count": 1,
   "metadata": {},
   "outputs": [],
   "source": [
    "import pandas as pd\n",
    "\n",
    "import numpy as np\n",
    "from datetime import datetime\n",
    "import xlsxwriter\n",
    "import string\n",
    "import os\n",
    "import re\n",
    "import matplotlib.pyplot as plt\n",
    "from statsmodels.tsa.stattools import adfuller\n",
    "import statsmodels.api as sm\n",
    "from scipy import stats\n",
    "from numpy.random import seed\n",
    "from numpy.random import randn\n",
    "from scipy.stats import shapiro\n",
    "from sklearn.neighbors import KernelDensity\n",
    "import seaborn as sns\n",
    "import cvxpy as cp"
   ]
  },
  {
   "cell_type": "markdown",
   "metadata": {},
   "source": [
    "### Functions"
   ]
  },
  {
   "cell_type": "code",
   "execution_count": 10,
   "metadata": {},
   "outputs": [],
   "source": [
    "### Lasso\n",
    "\n",
    "def loss_fn_lasso(X, Y, beta):\n",
    "    return cp.norm2(X @ beta - Y)**2\n",
    "\n",
    "def regularizer_lasso(beta):\n",
    "    return cp.norm1(beta)\n",
    "\n",
    "def objective_fn_lasso(X, Y, beta, lambd):\n",
    "    return loss_fn_lasso(X, Y, beta) + lambd * regularizer_lasso(beta)\n",
    "\n",
    "def mse_lasso(X, Y, beta):\n",
    "    return (1.0 / X.shape[0]) * loss_fn_lasso(X, Y, beta).value\n",
    "\n",
    "## Ridge\n",
    "\n",
    "def loss_fn_ridge(X, Y, beta):\n",
    "    return cp.pnorm(X @ beta - Y, p=2)**2\n",
    "\n",
    "def regularizer_ridge(beta):\n",
    "    return cp.pnorm(beta, p=2)**2\n",
    "\n",
    "def objective_fn_ridge(X, Y, beta, lambd):\n",
    "    return loss_fn_ridge(X, Y, beta) + lambd * regularizer_ridge(beta)\n",
    "\n",
    "def mse_ridge(X, Y, beta):\n",
    "    return (1.0 / X.shape[0]) * loss_fn_ridge(X, Y, beta).value\n",
    "\n",
    "\n",
    "## Elastic net\n",
    "\n",
    "def loss_fn_elastic_net(X, Y, beta):\n",
    "    return cp.pnorm(Y - X @ beta , p=2)**2\n",
    "\n",
    "def regularizer_elastic_net(beta,lambd,lambd2):\n",
    "    return (lambd2)*cp.pnorm(beta, p=2)**2 + (lambd)*cp.norm1(beta) \n",
    "\n",
    "\n",
    "def objective_fn_elastic_net(X, Y, beta, lambd,lambd2):\n",
    "    return loss_fn_elastic_net(X, Y, beta) + regularizer_elastic_net(beta,lambd,lambd2)\n",
    "\n",
    "def mse_elastic_net(X, Y, beta):\n",
    "    return (1.0 / X.shape[0]) * loss_fn_elastic_net(X, Y, beta).value\n",
    "\n",
    "\n",
    "\n"
   ]
  },
  {
   "cell_type": "code",
   "execution_count": 64,
   "metadata": {},
   "outputs": [],
   "source": [
    "def plot_regularization_path(lambd_values, beta_values):\n",
    "    num_coeffs = len(beta_values[0])\n",
    "    for i in range(num_coeffs):\n",
    "        plt.plot(lambd_values, [wi[i] for wi in beta_values])\n",
    "    plt.xlabel(r\"$\\lambda$\", fontsize=16)\n",
    "    plt.xscale(\"log\")\n",
    "    plt.title(\"Regularization Path\")\n",
    "    plt.show()\n",
    "\n",
    "def plot_train_test_errors(train_errors, test_errors, lambd_values):\n",
    "    plt.plot(lambd_values, train_errors, label=\"Train error\")\n",
    "    plt.plot(lambd_values, test_errors, label=\"Test error\")\n",
    "    plt.xscale(\"log\")\n",
    "    plt.legend(loc=\"upper left\")\n",
    "    plt.xlabel(r\"$\\lambda$\", fontsize=16)\n",
    "    plt.title(\"Mean Squared Error (MSE)\")\n",
    "    plt.show()\n"
   ]
  },
  {
   "cell_type": "markdown",
   "metadata": {},
   "source": [
    "## Test normalisation"
   ]
  },
  {
   "cell_type": "code",
   "execution_count": 135,
   "metadata": {},
   "outputs": [],
   "source": [
    "X1 = np.random.normal(1,0.5,1000\n",
    "                    )\n",
    "X2 = np.random.uniform(2,0.1,1000)\n",
    "error = np.random.normal(0,0.4,1000)\n",
    "Y = 2*X1+error+0.2*X2"
   ]
  },
  {
   "cell_type": "code",
   "execution_count": 136,
   "metadata": {},
   "outputs": [
    {
     "data": {
      "text/plain": [
       "<matplotlib.collections.PathCollection at 0x220ddce9c88>"
      ]
     },
     "execution_count": 136,
     "metadata": {},
     "output_type": "execute_result"
    },
    {
     "data": {
      "image/png": "[encoded data removed]",
      "text/plain": [
       "<Figure size 432x288 with 1 Axes>"
      ]
     },
     "metadata": {
      "needs_background": "light"
     },
     "output_type": "display_data"
    }
   ],
   "source": [
    "plt.scatter(X1,Y)"
   ]
  },
  {
   "cell_type": "code",
   "execution_count": 137,
   "metadata": {},
   "outputs": [
    {
     "data": {
      "text/plain": [
       "(1000,)"
      ]
     },
     "execution_count": 137,
     "metadata": {},
     "output_type": "execute_result"
    }
   ],
   "source": [
    "np.shape(X1)"
   ]
  },
  {
   "cell_type": "code",
   "execution_count": 138,
   "metadata": {},
   "outputs": [
    {
     "data": {
      "text/plain": [
       "(2000,)"
      ]
     },
     "execution_count": 138,
     "metadata": {},
     "output_type": "execute_result"
    }
   ],
   "source": [
    "### Results of a normal Lasso\n",
    "np.shape(np.concatenate((X2,X1),axis = 0))"
   ]
  },
  {
   "cell_type": "code",
   "execution_count": 139,
   "metadata": {},
   "outputs": [
    {
     "data": {
      "text/plain": [
       "(1000, 2)"
      ]
     },
     "execution_count": 139,
     "metadata": {},
     "output_type": "execute_result"
    }
   ],
   "source": [
    "np.shape(X)"
   ]
  },
  {
   "cell_type": "code",
   "execution_count": 140,
   "metadata": {},
   "outputs": [
    {
     "name": "stdout",
     "output_type": "stream",
     "text": [
      "a\n",
      "b\n",
      "c\n"
     ]
    }
   ],
   "source": [
    "X1 = np.reshape(X1, newshape = (1000,1))\n",
    "X2 = np.reshape(X2, newshape = (1000,1))\n",
    "X = np.hstack((X1,X2))\n",
    "m = len(X)\n",
    "n = 2\n",
    "\n",
    "X_train = X[:int(m/2),:]\n",
    "Y_train = Y[:int(m/2)]\n",
    "X_test = X[int(m/2):,:]\n",
    "Y_test = Y[int(m/2):]\n",
    "alpha = 0\n",
    "beta = cp.Variable(n)\n",
    "lambd = cp.Parameter(nonneg=True)\n",
    "lambd2 = cp.Parameter(nonneg=True)\n",
    "print(\"a\")\n",
    "problem = cp.Problem(cp.Minimize(objective_fn_elastic_net(X_train, Y_train, beta, lambd,lambd2)))\n",
    "print(\"b\")\n",
    "lambd_values = np.logspace(-2, 3, 50) ## Changing the lambda is equivalent to changing the t in order to observe different levels of regularisation\n",
    "## alpha = l2/(l1+l2)\n",
    "## so l2 = l1*alpha/(1-alpha)\n",
    "lambd2_values = lambd_values*(alpha/(1-alpha))\n",
    "\n",
    "train_errors = []\n",
    "test_errors = []\n",
    "beta_values = []\n",
    "counter = 0\n",
    "print(\"c\")\n",
    "for count,v in enumerate(lambd_values):\n",
    "    lambd.value = v\n",
    "    lambd2.value = lambd2_values[count]\n",
    "    #print(\"Values remaining: \" +str(len(lambd_values)-count))\n",
    "    problem.solve()\n",
    "    test_error = mse_elastic_net(X_test, Y_test, beta)\n",
    "    train_errors.append(mse_elastic_net(X_train, Y_train, beta))\n",
    "    test_errors.append(test_error)\n",
    "    beta_values.append(beta.value)\n",
    "\n",
    "\n",
    "\n",
    "opt_lambda = lambd_values[test_errors.index(min(test_errors))]\n",
    "opt_beta = beta_values[test_errors.index(min(test_errors))]\n",
    "y_pred = X_test@opt_beta\n",
    "avg_ss = sum(((Y_test - Y_test.mean())**2)**(0.5))\n",
    "pred_ss = sum(((Y_test - y_pred)**2)**(0.5))\n",
    "r_squared = 1- (pred_ss/avg_ss)\n"
   ]
  },
  {
   "cell_type": "code",
   "execution_count": 141,
   "metadata": {},
   "outputs": [
    {
     "data": {
      "text/plain": [
       "array([2.00204612, 0.18087911])"
      ]
     },
     "execution_count": 141,
     "metadata": {},
     "output_type": "execute_result"
    }
   ],
   "source": [
    "opt_beta\n",
    "## From this - we can see that the Lasso effectively recovers the coefficient although the regression is high due to the large \n",
    "## amount of noise"
   ]
  },
  {
   "cell_type": "code",
   "execution_count": 142,
   "metadata": {},
   "outputs": [
    {
     "data": {
      "text/plain": [
       "0.6268710575676635"
      ]
     },
     "execution_count": 142,
     "metadata": {},
     "output_type": "execute_result"
    }
   ],
   "source": [
    "r_squared"
   ]
  },
  {
   "cell_type": "code",
   "execution_count": 143,
   "metadata": {},
   "outputs": [
    {
     "data": {
      "image/png": "[encoded data removed]",
      "text/plain": [
       "<Figure size 432x288 with 1 Axes>"
      ]
     },
     "metadata": {
      "needs_background": "light"
     },
     "output_type": "display_data"
    },
    {
     "data": {
      "image/png": "[encoded data removed]",
      "text/plain": [
       "<Figure size 432x288 with 1 Axes>"
      ]
     },
     "metadata": {
      "needs_background": "light"
     },
     "output_type": "display_data"
    }
   ],
   "source": [
    "plot_train_test_errors(train_errors, test_errors, lambd_values)\n",
    "plot_regularization_path(lambd_values, beta_values)"
   ]
  },
  {
   "cell_type": "code",
   "execution_count": 204,
   "metadata": {},
   "outputs": [],
   "source": [
    "## Now, see if normalisation makes a difference\n",
    "X1 = np.random.normal(10,0.5,1000\n",
    "                    )\n",
    "X2 = np.random.uniform(0,0.1,1000)\n",
    "error = np.random.normal(0,0.4,1000)\n",
    "Y = X1+error+0.2*X2\n",
    "X1_mean = X1.mean()\n",
    "X1_std = X1.std()\n",
    "X2_mean = X2.mean()\n",
    "X2_std = X2.std()\n",
    "X1 = (X1-X1_mean)#/X1_std\n",
    "X2 = (X2-X2_mean)#/X2_std\n",
    "Y = Y - Y.mean()"
   ]
  },
  {
   "cell_type": "code",
   "execution_count": null,
   "metadata": {},
   "outputs": [],
   "source": []
  },
  {
   "cell_type": "code",
   "execution_count": 205,
   "metadata": {},
   "outputs": [
    {
     "name": "stdout",
     "output_type": "stream",
     "text": [
      "a\n",
      "b\n",
      "c\n"
     ]
    }
   ],
   "source": [
    "X1 = np.reshape(X1, newshape = (1000,1))\n",
    "X2 = np.reshape(X2, newshape = (1000,1))\n",
    "X = np.hstack((X1,X2))\n",
    "m = len(X)\n",
    "n = 2\n",
    "\n",
    "X_train = X[:int(m/2),:]\n",
    "Y_train = Y[:int(m/2)]\n",
    "X_test = X[int(m/2):,:]\n",
    "Y_test = Y[int(m/2):]\n",
    "alpha = 0\n",
    "beta = cp.Variable(n)\n",
    "lambd = cp.Parameter(nonneg=True)\n",
    "lambd2 = cp.Parameter(nonneg=True)\n",
    "print(\"a\")\n",
    "problem = cp.Problem(cp.Minimize(objective_fn_elastic_net(X_train, Y_train, beta, lambd,lambd2)))\n",
    "print(\"b\")s\n",
    "lambd_values = np.logspace(-2, 3, 50) ## Changing the lambda is equivalent to changing the t in order to observe different levels of regularisation\n",
    "## alpha = l2/(l1+l2)\n",
    "## so l2 = l1*alpha/(1-alpha)\n",
    "lambd2_values = lambd_values*(alpha/(1-alpha))\n",
    "\n",
    "train_errors = []\n",
    "test_errors = []\n",
    "beta_values = []\n",
    "counter = 0\n",
    "print(\"c\")\n",
    "for count,v in enumerate(lambd_values):\n",
    "    lambd.value = v\n",
    "    lambd2.value = lambd2_values[count]\n",
    "    #print(\"Values remaining: \" +str(len(lambd_values)-count))\n",
    "    problem.solve()\n",
    "    test_error = mse_elastic_net(X_test, Y_test, beta)\n",
    "    train_errors.append(mse_elastic_net(X_train, Y_train, beta))\n",
    "    test_errors.append(test_error)\n",
    "    beta_values.append(beta.value)\n",
    "\n",
    "\n",
    "\n",
    "opt_lambda = lambd_values[test_errors.index(min(test_errors))]\n",
    "opt_beta = beta_values[test_errors.index(min(test_errors))]\n",
    "y_pred = X_test@opt_beta\n",
    "avg_ss = sum(((Y_test - Y_test.mean())**2)**(0.5))\n",
    "pred_ss = sum(((Y_test - y_pred)**2)**(0.5))\n",
    "r_squared = 1- (pred_ss/avg_ss)\n"
   ]
  },
  {
   "cell_type": "code",
   "execution_count": 206,
   "metadata": {},
   "outputs": [
    {
     "data": {
      "image/png": "[encoded data removed]",
      "text/plain": [
       "<Figure size 432x288 with 1 Axes>"
      ]
     },
     "metadata": {
      "needs_background": "light"
     },
     "output_type": "display_data"
    },
    {
     "data": {
      "image/png": "[encoded data removed]",
      "text/plain": [
       "<Figure size 432x288 with 1 Axes>"
      ]
     },
     "metadata": {
      "needs_background": "light"
     },
     "output_type": "display_data"
    }
   ],
   "source": [
    "plot_train_test_errors(train_errors, test_errors, lambd_values)\n",
    "plot_regularization_path(lambd_values, beta_values)"
   ]
  },
  {
   "cell_type": "code",
   "execution_count": 197,
   "metadata": {},
   "outputs": [
    {
     "data": {
      "text/plain": [
       "-18.21856244618765"
      ]
     },
     "execution_count": 197,
     "metadata": {},
     "output_type": "execute_result"
    }
   ],
   "source": [
    "r_squared"
   ]
  },
  {
   "cell_type": "markdown",
   "metadata": {},
   "source": [
    "## Specify parameters [1]"
   ]
  },
  {
   "cell_type": "code",
   "execution_count": 415,
   "metadata": {},
   "outputs": [],
   "source": [
    "window_range = range(3,14)\n",
    "shift_range = range(1,14)\n",
    "alph_high_range = [0.6,0.7,0.8,0.9,0.95]\n",
    "alph_low_range = [0.1,0.2,0.3,0.4,0.5]\n",
    "x_variables = ['rolling_avg_pct_change']\n",
    "y_variables = ['forward_opportunity']\n",
    "dep_var = ['forward_21_opportunity']\n",
    "dep_var_type = \"sign\"\n",
    "### Specify what indicators to use\n",
    "### These variables should be iterable based on either a shift or a rolling window.It may be iterable multiple times\n",
    "\n",
    "    \n",
    "file_path = r\"C:\\Users\\hugo.lu\\repos\\repos_backup\\Strategy-creation\\cleaned_matrices\\technical_indicator_clean.csv\"\n",
    "pricing_data_string = r\"C:\\Users\\hugo.lu\\repos\\repos_backup\\Strategy-creation\\Raw data\\EURUSD\\2020-05-05_EURUSD_MIDPOINT_10 Y_1 day.csv\""
   ]
  },
  {
   "cell_type": "markdown",
   "metadata": {},
   "source": [
    "## Specify data"
   ]
  },
  {
   "cell_type": "code",
   "execution_count": 246,
   "metadata": {},
   "outputs": [],
   "source": [
    "data_in = pd.read_csv(filepath_or_buffer = file_path, index_col = 0)"
   ]
  },
  {
   "cell_type": "code",
   "execution_count": 247,
   "metadata": {},
   "outputs": [],
   "source": [
    "pricing_data = pd.read_csv(filepath_or_buffer = pricing_data_string, index_col = 0)"
   ]
  },
  {
   "cell_type": "code",
   "execution_count": 248,
   "metadata": {},
   "outputs": [],
   "source": [
    "failure_list = []\n",
    "for item in list(data_in.columns):\n",
    "    try:\n",
    "        data_in[item] = data_in[item].astype(\"float64\")\n",
    "    except:\n",
    "        failure_list.append(item)"
   ]
  },
  {
   "cell_type": "code",
   "execution_count": 249,
   "metadata": {},
   "outputs": [
    {
     "name": "stdout",
     "output_type": "stream",
     "text": [
      "Cast succeeded\n"
     ]
    }
   ],
   "source": [
    "if  len(failure_list) == 0:\n",
    "    print(\"Cast succeeded\")\n",
    "else:\n",
    "    print(\"failed items: \" + str(len(failure_list)))"
   ]
  },
  {
   "cell_type": "code",
   "execution_count": 250,
   "metadata": {},
   "outputs": [],
   "source": [
    "failure_list = []\n",
    "for item in list(data_in.columns):\n",
    "    try:\n",
    "        data_in[item] = data_in[item].astype(\"float64\")\n",
    "    except:\n",
    "        failure_list.append(item)"
   ]
  },
  {
   "cell_type": "code",
   "execution_count": 251,
   "metadata": {},
   "outputs": [
    {
     "name": "stdout",
     "output_type": "stream",
     "text": [
      "Cast succeeded\n"
     ]
    }
   ],
   "source": [
    "if  len(failure_list) == 0:\n",
    "    print(\"Cast succeeded\")\n",
    "else:\n",
    "    print(\"failed items: \" + str(len(failure_list)))"
   ]
  },
  {
   "cell_type": "markdown",
   "metadata": {},
   "source": [
    "### Parameters"
   ]
  },
  {
   "cell_type": "code",
   "execution_count": null,
   "metadata": {},
   "outputs": [],
   "source": []
  },
  {
   "cell_type": "markdown",
   "metadata": {},
   "source": [
    "## Clean pricing data"
   ]
  },
  {
   "cell_type": "code",
   "execution_count": 252,
   "metadata": {},
   "outputs": [],
   "source": [
    "data_columns = list(pricing_data.columns)\n",
    "pricing_data_copy = pricing_data.copy(deep = True)\n",
    "pricing_data_copy = pricing_data_copy.rename( columns = {\n",
    "    \n",
    "    'date': 'date',\n",
    "    'open':'price',\n",
    "    #'Ticker':'ticker'\n",
    "    \n",
    "})\n",
    "pricing_data_copy['ticker'] = \"EURUSD\"\n",
    "## Cast all relevant objects to floats\n",
    "\n",
    "float_list = ['price','close']\n",
    "\n",
    "for item in float_list:\n",
    "    pricing_data_copy[item] = pricing_data_copy[item].astype('float64')\n",
    "    ## Cast all relevant objects to dates\n",
    "\n",
    "float_list = ['date']\n",
    "for item in float_list:\n",
    "    pricing_data_copy[item] = pd.to_datetime(pricing_data_copy[item])"
   ]
  },
  {
   "cell_type": "markdown",
   "metadata": {},
   "source": [
    "### Calculate minimum necessary differentiation to get a stationary series"
   ]
  },
  {
   "cell_type": "code",
   "execution_count": 253,
   "metadata": {},
   "outputs": [],
   "source": [
    "\n",
    "#### d is the amount to fractionally difference\n",
    "def getFDWeights(d,lags):\n",
    "    # return the weights from the series expansion of the differencing operator\n",
    "    # for real orders d and up to lags coefficients\n",
    "    w=[1]\n",
    "    for k in range(1,lags):\n",
    "        w.append(-w[-1]*((d-k+1))/k)\n",
    "    w=np.array(w).reshape(-1,1) \n",
    "    return w\n"
   ]
  },
  {
   "cell_type": "code",
   "execution_count": 254,
   "metadata": {},
   "outputs": [],
   "source": [
    "column_list = []\n",
    "pricing_data_copy['price_lag_0'] = pricing_data_copy['price']\n",
    "column_list.append('price_lag_0')\n",
    "for a in range(0,9):\n",
    "        a += 1\n",
    "        pricing_data_copy['price_lag_%s' % a] = pricing_data_copy['price'].shift(a)\n",
    "        column_list.append('price_lag_%s' % a)\n",
    "working_cols = pricing_data_copy[column_list]\n",
    "working_cols = working_cols.dropna()\n",
    "working_cols.reset_index(inplace = True, drop = True)"
   ]
  },
  {
   "cell_type": "code",
   "execution_count": 255,
   "metadata": {},
   "outputs": [
    {
     "name": "stdout",
     "output_type": "stream",
     "text": [
      "Non stationary for: 0.01\n",
      "Non stationary for: 0.02\n",
      "Non stationary for: 0.03\n",
      "Non stationary for: 0.04\n",
      "Non stationary for: 0.05\n",
      "Non stationary for: 0.06\n",
      "Non stationary for: 0.07\n",
      "Non stationary for: 0.08\n",
      "Non stationary for: 0.09\n",
      "Non stationary for: 0.1\n",
      "Non stationary for: 0.11\n",
      "Non stationary for: 0.12\n",
      "Non stationary for: 0.13\n",
      "Non stationary for: 0.14\n",
      "Non stationary for: 0.15\n",
      "Non stationary for: 0.16\n",
      "Non stationary for: 0.17\n",
      "Non stationary for: 0.18\n",
      "Non stationary for: 0.19\n",
      "Non stationary for: 0.2\n",
      "Non stationary for: 0.21\n",
      "Non stationary for: 0.22\n",
      "Non stationary for: 0.23\n",
      "Non stationary for: 0.24\n",
      "Non stationary for: 0.25\n",
      "Non stationary for: 0.26\n",
      "Non stationary for: 0.27\n",
      "Non stationary for: 0.28\n",
      "Non stationary for: 0.29\n",
      "Non stationary for: 0.3\n",
      "Non stationary for: 0.31\n",
      "Non stationary for: 0.32\n",
      "Non stationary for: 0.33\n",
      "Non stationary for: 0.34\n",
      "Non stationary for: 0.35\n",
      "Non stationary for: 0.36\n",
      "Non stationary for: 0.37\n",
      "Non stationary for: 0.38\n",
      "Non stationary for: 0.39\n",
      "Non stationary for: 0.4\n",
      "Non stationary for: 0.41\n",
      "Non stationary for: 0.42\n",
      "Non stationary for: 0.43\n",
      "Non stationary for: 0.44\n",
      "Non stationary for: 0.45\n",
      "Non stationary for: 0.46\n",
      "Non stationary for: 0.47\n",
      "Non stationary for: 0.48\n",
      "Non stationary for: 0.49\n",
      "Non stationary for: 0.5\n",
      "Non stationary for: 0.51\n",
      "Non stationary for: 0.52\n",
      "Non stationary for: 0.53\n",
      "Non stationary for: 0.54\n",
      "Non stationary for: 0.55\n",
      "Non stationary for: 0.56\n",
      "Non stationary for: 0.57\n",
      "Non stationary for: 0.58\n",
      "Non stationary for: 0.59\n",
      "Non stationary for: 0.6\n",
      "Non stationary for: 0.61\n",
      "Non stationary for: 0.62\n",
      "Non stationary for: 0.63\n",
      "Non stationary for: 0.64\n",
      "Non stationary for: 0.65\n",
      "Non stationary for: 0.66\n",
      "Non stationary for: 0.67\n",
      "Non stationary for: 0.68\n",
      "Non stationary for: 0.69\n",
      "Non stationary for: 0.7\n",
      "Non stationary for: 0.71\n",
      "Non stationary for: 0.72\n",
      "Non stationary for: 0.73\n",
      "Non stationary for: 0.74\n",
      "Non stationary for: 0.75\n",
      "Non stationary for: 0.76\n",
      "Non stationary for: 0.77\n",
      "Non stationary for: 0.78\n",
      "Non stationary for: 0.79\n",
      "Non stationary for: 0.8\n",
      "Stationary for: 0.81\n"
     ]
    }
   ],
   "source": [
    "for item in range(1,100):\n",
    "    item = item/100\n",
    "    weights = getFDWeights(item,10)\n",
    "    weights_list=[]\n",
    "    for j in weights:\n",
    "        for i in j:\n",
    "            weights_list.append(i)\n",
    "    difference = working_cols*weights_list\n",
    "    difference = difference.sum(axis = 1)\n",
    "    X = difference\n",
    "    result = adfuller(X)\n",
    "    #print('ADF Statistic: %f' % result[0])\n",
    "    #print('p-value: %f' % result[1])\n",
    "    #print('Critical Values:')\n",
    "    #for key, value in result[4].items():\n",
    "    #    print('\\t%s: %.3f' % (key, value))\n",
    "    if result[0] < -3.434:\n",
    "        print(\"Stationary for: \" + str(item))\n",
    "        break\n",
    "    else:\n",
    "        print(\"Non stationary for: \" + str(item))\n",
    "    "
   ]
  },
  {
   "cell_type": "code",
   "execution_count": 256,
   "metadata": {},
   "outputs": [],
   "source": [
    "for j in weights:\n",
    "        for i in j:\n",
    "            weights_list.append(i)"
   ]
  },
  {
   "cell_type": "code",
   "execution_count": 257,
   "metadata": {},
   "outputs": [
    {
     "data": {
      "text/plain": [
       "2584"
      ]
     },
     "execution_count": 257,
     "metadata": {},
     "output_type": "execute_result"
    }
   ],
   "source": [
    "len(difference\n",
    "   )"
   ]
  },
  {
   "cell_type": "code",
   "execution_count": 258,
   "metadata": {},
   "outputs": [
    {
     "data": {
      "text/plain": [
       "2593"
      ]
     },
     "execution_count": 258,
     "metadata": {},
     "output_type": "execute_result"
    }
   ],
   "source": [
    "len(pricing_data_copy['price'])"
   ]
  },
  {
   "cell_type": "code",
   "execution_count": 259,
   "metadata": {},
   "outputs": [],
   "source": [
    "pricing_data_copy['price_dif'] = pricing_data_copy['price']-pricing_data_copy['price'].shift(1)"
   ]
  },
  {
   "cell_type": "code",
   "execution_count": 260,
   "metadata": {},
   "outputs": [],
   "source": [
    "pricing_data_trimmed = pricing_data_copy.copy(deep = True)"
   ]
  },
  {
   "cell_type": "code",
   "execution_count": 261,
   "metadata": {},
   "outputs": [],
   "source": [
    "pricing_data_trimmed = pricing_data_trimmed.iloc[(len(pricing_data_copy['price'])-len(difference)):,:]"
   ]
  },
  {
   "cell_type": "code",
   "execution_count": 262,
   "metadata": {},
   "outputs": [],
   "source": [
    "pricing_data_trimmed.reset_index(inplace = True, drop = True)"
   ]
  },
  {
   "cell_type": "code",
   "execution_count": 263,
   "metadata": {},
   "outputs": [],
   "source": [
    "pricing_data_trimmed['price_dif_est'] = difference"
   ]
  },
  {
   "cell_type": "code",
   "execution_count": 264,
   "metadata": {},
   "outputs": [],
   "source": [
    "### Note: Now that we have an estimte of the price fd'd by a factor of .8, this can be used to generate predictions for price\n",
    "### However, given that we have 10 lags then effectively there are len(m) equations and 10 variables that need to be \n",
    "### calculated in order to infer price.\n",
    "### .8 is not significantly idfferent from 1, so therefore we will take the first difference instead as it is more straightforward\n",
    "### to calculate the implied price that way"
   ]
  },
  {
   "cell_type": "code",
   "execution_count": 265,
   "metadata": {},
   "outputs": [
    {
     "name": "stdout",
     "output_type": "stream",
     "text": [
      "Stationary for: 1\n"
     ]
    }
   ],
   "source": [
    "\n",
    "item = 1\n",
    "weights = getFDWeights(item,10)\n",
    "weights_list=[]\n",
    "for j in weights:\n",
    "    for i in j:\n",
    "        weights_list.append(i)\n",
    "difference = working_cols*weights_list\n",
    "difference = difference.sum(axis = 1)\n",
    "X = difference\n",
    "result = adfuller(X)\n",
    "if result[0] < -3.434:\n",
    "    print(\"Stationary for: \" + str(item))"
   ]
  },
  {
   "cell_type": "markdown",
   "metadata": {},
   "source": [
    "### Calculate properties of FD"
   ]
  },
  {
   "cell_type": "code",
   "execution_count": 266,
   "metadata": {},
   "outputs": [],
   "source": [
    "first_difference = pricing_data_copy['price_dif']"
   ]
  },
  {
   "cell_type": "code",
   "execution_count": 267,
   "metadata": {},
   "outputs": [],
   "source": [
    "first_difference = first_difference.dropna()"
   ]
  },
  {
   "cell_type": "code",
   "execution_count": 268,
   "metadata": {},
   "outputs": [],
   "source": [
    "first_difference.reset_index(inplace = True, drop = True)"
   ]
  },
  {
   "cell_type": "code",
   "execution_count": 269,
   "metadata": {},
   "outputs": [],
   "source": [
    "## 1. Calculate mean and variance"
   ]
  },
  {
   "cell_type": "code",
   "execution_count": 270,
   "metadata": {},
   "outputs": [],
   "source": [
    "mean = first_difference.mean()\n",
    "std = first_difference.std()\n",
    "skew = first_difference.skew()\n",
    "kurtosis = first_difference.kurtosis()"
   ]
  },
  {
   "cell_type": "code",
   "execution_count": 271,
   "metadata": {},
   "outputs": [
    {
     "data": {
      "text/plain": [
       "<matplotlib.axes._subplots.AxesSubplot at 0x2a89d278d68>"
      ]
     },
     "execution_count": 271,
     "metadata": {},
     "output_type": "execute_result"
    },
    {
     "data": {
      "image/png": "[encoded data removed]",
      "text/plain": [
       "<Figure size 432x288 with 1 Axes>"
      ]
     },
     "metadata": {
      "needs_background": "light"
     },
     "output_type": "display_data"
    }
   ],
   "source": [
    "first_difference.hist(bins = 20)"
   ]
  },
  {
   "cell_type": "code",
   "execution_count": 272,
   "metadata": {},
   "outputs": [
    {
     "data": {
      "text/plain": [
       "2.3516833675048634"
      ]
     },
     "execution_count": 272,
     "metadata": {},
     "output_type": "execute_result"
    }
   ],
   "source": [
    "kurtosis"
   ]
  },
  {
   "cell_type": "code",
   "execution_count": 273,
   "metadata": {},
   "outputs": [
    {
     "name": "stdout",
     "output_type": "stream",
     "text": [
      "Statistics=0.973, p=0.000\n",
      "Sample does not look Gaussian (reject H0)\n"
     ]
    }
   ],
   "source": [
    "\n",
    "# seed the random number generator\n",
    "\n",
    "stat, p = shapiro(first_difference)\n",
    "print('Statistics=%.3f, p=%.3f' % (stat, p))\n",
    "# interpret\n",
    "alpha = 0.05\n",
    "if p > alpha:\n",
    "\tprint('Sample looks Gaussian (fail to reject H0)')\n",
    "else:\n",
    "\tprint('Sample does not look Gaussian (reject H0)')"
   ]
  },
  {
   "cell_type": "code",
   "execution_count": 274,
   "metadata": {},
   "outputs": [
    {
     "data": {
      "text/plain": [
       "(601.9511740761698, 0.0)"
      ]
     },
     "execution_count": 274,
     "metadata": {},
     "output_type": "execute_result"
    }
   ],
   "source": [
    "### Test skewness and kurtosis\n",
    "stats.jarque_bera(first_difference)\n"
   ]
  },
  {
   "cell_type": "code",
   "execution_count": 275,
   "metadata": {},
   "outputs": [],
   "source": [
    "### Instead let's try KDE"
   ]
  },
  {
   "cell_type": "code",
   "execution_count": 276,
   "metadata": {},
   "outputs": [
    {
     "data": {
      "text/plain": [
       "[<matplotlib.lines.Line2D at 0x2a89ed319e8>]"
      ]
     },
     "execution_count": 276,
     "metadata": {},
     "output_type": "execute_result"
    },
    {
     "data": {
      "image/png": "[encoded data removed]",
      "text/plain": [
       "<Figure size 432x288 with 1 Axes>"
      ]
     },
     "metadata": {
      "needs_background": "light"
     },
     "output_type": "display_data"
    }
   ],
   "source": [
    "x_d = np.linspace(-0.05, 0.05, 1000)\n",
    "x = np.array(first_difference)\n",
    "# instantiate and fit the KDE model\n",
    "kde = KernelDensity(bandwidth=0.003, kernel='gaussian')\n",
    "kde.fit(x[:, None])\n",
    "\n",
    "# score_samples returns the log of the probability density\n",
    "logprob = kde.score_samples(x_d[:, None])\n",
    "\n",
    "plt.fill_between(x_d, np.exp(logprob), alpha=0.5)\n",
    "plt.plot(x, np.full_like(x, -0.01), '|k', markeredgewidth=1)\n"
   ]
  },
  {
   "cell_type": "code",
   "execution_count": 277,
   "metadata": {},
   "outputs": [
    {
     "data": {
      "text/plain": [
       "<matplotlib.axes._subplots.AxesSubplot at 0x2a89eb554a8>"
      ]
     },
     "execution_count": 277,
     "metadata": {},
     "output_type": "execute_result"
    },
    {
     "data": {
      "image/png": "[encoded data removed]",
      "text/plain": [
       "<Figure size 432x288 with 1 Axes>"
      ]
     },
     "metadata": {
      "needs_background": "light"
     },
     "output_type": "display_data"
    }
   ],
   "source": [
    "#Visualisation:\n",
    "sns.distplot(first_difference, hist=True, kde=True, \n",
    "             bins=int(round((len(first_difference)/60))), color = 'darkblue', \n",
    "             hist_kws={'edgecolor':'black'},\n",
    "             kde_kws={'linewidth': 4})"
   ]
  },
  {
   "cell_type": "code",
   "execution_count": 278,
   "metadata": {},
   "outputs": [
    {
     "data": {
      "image/png": "[encoded data removed]",
      "text/plain": [
       "<Figure size 432x288 with 1 Axes>"
      ]
     },
     "metadata": {
      "needs_background": "light"
     },
     "output_type": "display_data"
    }
   ],
   "source": [
    "\n",
    "x = np.array(first_difference)\n",
    "xs = np.linspace(-0.05,0.05,1000)\n",
    "# expects n x p matrix with p features\n",
    "x.shape = (len(x), 1)\n",
    "xs.shape = (len(xs), 1)\n",
    "#### Question@ is this the correct KDE to use? Probably can be refined and generalised....\n",
    "kde = KernelDensity(bandwidth=0.003).fit(x)\n",
    "dens = np.exp(kde.score_samples(xs))\n",
    "plt.plot(xs, dens)\n",
    "pass"
   ]
  },
  {
   "cell_type": "code",
   "execution_count": 279,
   "metadata": {},
   "outputs": [],
   "source": [
    "probs = dens / sum(dens)\n",
    "xs_comma = np.reshape(xs,newshape = (len(xs),))"
   ]
  },
  {
   "cell_type": "code",
   "execution_count": 280,
   "metadata": {},
   "outputs": [],
   "source": [
    "mc = np.random.choice(xs_comma, size=10000, replace=True, p=probs)"
   ]
  },
  {
   "cell_type": "code",
   "execution_count": 281,
   "metadata": {},
   "outputs": [
    {
     "data": {
      "text/plain": [
       "<matplotlib.axes._subplots.AxesSubplot at 0x2a89ec67630>"
      ]
     },
     "execution_count": 281,
     "metadata": {},
     "output_type": "execute_result"
    },
    {
     "data": {
      "image/png": "[encoded data removed]",
      "text/plain": [
       "<Figure size 432x288 with 1 Axes>"
      ]
     },
     "metadata": {
      "needs_background": "light"
     },
     "output_type": "display_data"
    }
   ],
   "source": [
    "#Visualisation:\n",
    "sns.distplot(mc, hist=True, kde=True, \n",
    "             bins=int(round((len(first_difference)/60))), color = 'darkblue', \n",
    "             hist_kws={'edgecolor':'black'},\n",
    "             kde_kws={'linewidth': 4})"
   ]
  },
  {
   "cell_type": "code",
   "execution_count": 282,
   "metadata": {},
   "outputs": [],
   "source": [
    "new_df = pd.DataFrame(mc)\n",
    "###########"
   ]
  },
  {
   "cell_type": "code",
   "execution_count": 283,
   "metadata": {},
   "outputs": [
    {
     "data": {
      "text/plain": [
       "0   -0.000142\n",
       "dtype: float64"
      ]
     },
     "execution_count": 283,
     "metadata": {},
     "output_type": "execute_result"
    }
   ],
   "source": [
    "new_df.mean()#####"
   ]
  },
  {
   "cell_type": "code",
   "execution_count": 284,
   "metadata": {},
   "outputs": [
    {
     "name": "stderr",
     "output_type": "stream",
     "text": [
      "C:\\Users\\hugo.lu\\Anaconda3\\lib\\site-packages\\pandas\\core\\indexing.py:190: SettingWithCopyWarning: \n",
      "A value is trying to be set on a copy of a slice from a DataFrame\n",
      "\n",
      "See the caveats in the documentation: http://pandas.pydata.org/pandas-docs/stable/indexing.html#indexing-view-versus-copy\n",
      "  self._setitem_with_indexer(indexer, value)\n"
     ]
    }
   ],
   "source": [
    "new_df.iloc[0] = 0#\n",
    "new_df['price'] = 0##\n",
    "new_df['price'].iloc[0] = 1#\n",
    "new_df['price_calc'] = new_df['price'].cumsum() + new_df[0].cumsum()#"
   ]
  },
  {
   "cell_type": "code",
   "execution_count": null,
   "metadata": {},
   "outputs": [],
   "source": []
  },
  {
   "cell_type": "code",
   "execution_count": 285,
   "metadata": {},
   "outputs": [
    {
     "data": {
      "text/plain": [
       "[<matplotlib.lines.Line2D at 0x2a89ed698d0>]"
      ]
     },
     "execution_count": 285,
     "metadata": {},
     "output_type": "execute_result"
    },
    {
     "data": {
      "image/png": "[encoded data removed]",
      "text/plain": [
       "<Figure size 432x288 with 1 Axes>"
      ]
     },
     "metadata": {
      "needs_background": "light"
     },
     "output_type": "display_data"
    }
   ],
   "source": [
    "plt.plot(new_df['price_calc'],c=\"g\")\n",
    "plt.plot(pricing_data_copy['price'],c=\"r\")"
   ]
  },
  {
   "cell_type": "markdown",
   "metadata": {},
   "source": [
    "### Perform MC to train model"
   ]
  },
  {
   "cell_type": "code",
   "execution_count": 286,
   "metadata": {},
   "outputs": [],
   "source": [
    "### With a KDE of the pdf of the first difference, we can use this to train the model."
   ]
  },
  {
   "cell_type": "code",
   "execution_count": null,
   "metadata": {},
   "outputs": [],
   "source": []
  },
  {
   "cell_type": "code",
   "execution_count": 287,
   "metadata": {},
   "outputs": [],
   "source": [
    "#### Specify functions"
   ]
  },
  {
   "cell_type": "code",
   "execution_count": 288,
   "metadata": {},
   "outputs": [],
   "source": [
    "## Form of function = \"calc_\"+ indicator name in x / y variables.\n",
    "\n",
    "indicator_list = ['momentum','rolling_avg_pct_change','RSI','forward_opportunity','ema','ema_dif']\n",
    "\n",
    "def self_reference(f):\n",
    "    f.__defaults__ = f.__defaults__[:-1] + (f,)\n",
    "    return f\n",
    "\n",
    "@self_reference\n",
    "def calc_momentum(df,price,window,self=None):\n",
    "    df['last_%s_momentum' % window] = (df[price] / df[price].shift(window))-1\n",
    "    string = 'last_%s_momentum' % window\n",
    "    return df,string\n",
    "\n",
    "@self_reference\n",
    "def calc_rolling_avg_pct_change(df,price,window,shift,self=None):\n",
    "    string = \"rolling_\"+str(window)+\"_avg_\"+str(shift)+\"_period_pct_change\"\n",
    "    df[string] = df[price].rolling(window).mean()\n",
    "    df[string] = (df[string]/df[string].shift(shift))-1\n",
    "    \n",
    "    return df,string\n",
    "\n",
    "@self_reference\n",
    "def calc_rolling_avg(df,price,window,self=None):\n",
    "    df['rolling_%s_avg_price' % window] = df[price].rolling(window).mean()\n",
    "    string = 'rolling_%s_avg_price' % window\n",
    "    return df,string\n",
    " \n",
    "@self_reference    \n",
    "def calc_rolling_avg_price_dif(df,price,window,self=None):\n",
    "    df['rolling_%s_avg_price_dif' % window] = df[price] - df[price].rolling(window).mean()\n",
    "    string = 'rolling_%s_avg_price_dif' % window\n",
    "    return df,string\n",
    "\n",
    "@self_reference\n",
    "def calc_RSI(df,price,window,self=None):\n",
    "    random = df.copy(deep = True)\n",
    "    random['status'] = random[price] - random[price].shift(1)\n",
    "    random['status'] = random['status'].apply(lambda x: \"Up\" if x > 0 else \"Down\")\n",
    "    random['average_for_up'] = random['status'].apply(lambda x: 1 if x == \"Up\" else 0)\n",
    "    random['average_for_down'] = random['status'].apply(lambda x: 0 if x == \"Up\" else 1)\n",
    "    random['average_price_up'] = (random['price']-random['price'].shift(1)) * random['average_for_up']\n",
    "    random['average_price_down'] = (random['price']-random['price'].shift(1))* random['average_for_down']*-1\n",
    "    random['average_price_up'] = random['average_price_up'].apply(lambda x: None if x ==  0 else x )\n",
    "    random['average_price_down'] = random['average_price_down'].apply(lambda x: None if x == 0 else x )\n",
    "    random['last_%s_RSI' % window] = random['average_price_up'].rolling(window, min_periods =1).sum() / random['average_price_down'].rolling(window, min_periods =1).sum()\n",
    "    df['last_%s_RSI' % window] = 1 - 1/(1+random['last_%s_RSI' % window])\n",
    "    for item in range(0,window): ## Formula above will not give NANs for the first (window-1) terms as min_periods = 1.\n",
    "        df.at[item,'last_%s_RSI' % window] = None\n",
    "    output_string = \"last_\" + str(window)+\"_RSI\"\n",
    "    \n",
    "    return df,output_string\n",
    "\n",
    "@self_reference\n",
    "def calc_forward_opportunity(df,price,window,self=None):\n",
    "    df['forward_%s_opportunity' % window] = df[price].rolling(window).max()\n",
    "    df['forward_%s_opportunity' % window] = df['forward_%s_opportunity' % window].shift(-window) - df[price]\n",
    "    string = 'forward_%s_opportunity' % window\n",
    "    return df,string \n",
    "\n",
    "\n",
    "\n",
    "### specify function list; must be ordered:\n",
    "@self_reference\n",
    "def calc_ema(df,price,alph,self = None):\n",
    "    df['last_%s_EMA' % window ] = df[price].ewm(alpha=alph).mean()\n",
    "    string = 'last_%s_EMA' % window \n",
    "    return df,string\n",
    "\n",
    "@self_reference\n",
    "def calc_ema_cross(df,price,alph_high,alph_low,self = None):\n",
    "    rider = df.copy(deep = True)\n",
    "    rider['high'] =  rider[price].ewm(alpha=alph_high).mean()\n",
    "    rider['low'] = rider[price].ewm(alpha = alph_low).mean()\n",
    "    rider['dif'] = rider['high'] - rider['low']\n",
    "    rider['dif'] = rider['dif'].apply(lambda x: 1 if x>0 else 0)\n",
    "    rider['dif_lag'] = rider['dif'].shift(1)\n",
    "    rider['dif_lag'] = rider['dif_lag'].apply(lambda x: 1 if x>0 else 0)\n",
    "    rider['signal'] = rider['dif'] - rider['dif_lag']\n",
    "    \n",
    "    \n",
    "    string = str(alph_high) + \"_high_\" + str(alph_low) + \"_low_ema_cross\"\n",
    "    df[string] = rider['signal']\n",
    "    return df,string\n",
    "\n",
    "@self_reference\n",
    "def calc_ema_diff(df,price,alph_high,alph_low,self = None):\n",
    "    rider = df.copy(deep = True)\n",
    "    rider['high'] =  rider[price].ewm(alpha=alph_high).mean()\n",
    "    rider['low'] = rider[price].ewm(alpha = alph_low).mean()\n",
    "    rider['dif'] = rider['high'] - rider['low']\n",
    "    #print(\"xx\")\n",
    "    \n",
    "    string = str(alph_high) + \"_high_\" + str(alph_low) + \"_low_ema_dif\"\n",
    "    df[string] = rider['dif']\n",
    "    return df,string\n",
    "\n",
    "\n",
    "calc_momentum.type = \"window\"\n",
    "calc_rolling_avg_pct_change.type = \"window_shift\"\n",
    "calc_rolling_avg.type = \"window\"\n",
    "calc_rolling_avg_price_dif.type = \"window\"\n",
    "calc_RSI.type=\"window\"\n",
    "calc_forward_opportunity.type = \"window\"\n",
    "calc_ema.type = \"window\"\n",
    "calc_ema_cross.type = \"alpha\"\n",
    "calc_ema_diff.type = \"alpha\"\n",
    "\n",
    "\n"
   ]
  },
  {
   "cell_type": "code",
   "execution_count": 321,
   "metadata": {},
   "outputs": [],
   "source": [
    "### Specify what indicators to use\n",
    "\n",
    "all_variables = x_variables + y_variables\n",
    "x_dic = {}\n",
    "for item in x_variables:\n",
    "    x_dic[item] = eval(\"calc_\"+str(item))\n",
    "    \n",
    "y_dic = {}\n",
    "for item in y_variables:\n",
    "    y_dic[item] = eval(\"calc_\"+str(item))"
   ]
  },
  {
   "cell_type": "code",
   "execution_count": 322,
   "metadata": {},
   "outputs": [
    {
     "name": "stdout",
     "output_type": "stream",
     "text": [
      "forward_opportunity\n",
      "<function calc_forward_opportunity at 0x000002A89D261A60>\n"
     ]
    }
   ],
   "source": [
    "for a,b in y_dic.items():\n",
    "    print(a)\n",
    "    print(b)"
   ]
  },
  {
   "cell_type": "code",
   "execution_count": 291,
   "metadata": {},
   "outputs": [],
   "source": [
    "def calc_indicators(new_df,x_dic,y_dic,window_range,shift_range,alph_high_range,alph_low_range):\n",
    "    \n",
    "    x_variables_actual = []\n",
    "    y_variables_actual = []\n",
    "    print(\"Calculating x variables\")\n",
    "    for key,value in x_dic.items():\n",
    "        #print(\"calculating indicators for: \" + str(key))\n",
    "        if value.type == \"window\":\n",
    "            for item in window_range:\n",
    "\n",
    "                [new_df,b] = value(new_df,'price',item)\n",
    "                x_variables_actual.append(b)\n",
    "        elif value.type == \"window_shift\":\n",
    "            for item in window_range:\n",
    "                for jtem in shift_range:\n",
    "                    [new_df,b] = value(new_df,'price',item,jtem)\n",
    "                    x_variables_actual.append(b)\n",
    "        elif value.type == \"alpha\":\n",
    "                for a in alph_high_range:\n",
    "                    for c in alph_low_range:\n",
    "                        [new_df,b] = value(new_df,'price',a,c)\n",
    "                        x_variables_actual.append(b)\n",
    "        else:\n",
    "            print(\"Functions specified incorrectly\")\n",
    "            break\n",
    "\n",
    "    print(\"Calculating y variables\")\n",
    "    for key,value in y_dic.items():\n",
    "        #print(\"calculating indicators for: \" + str(key))\n",
    "        if value.type == \"window\":\n",
    "            for item in window_range:\n",
    "\n",
    "                [new_df,b] = value(new_df,'price',item)\n",
    "                y_variables_actual.append(b)\n",
    "        elif value.type == \"window_shift\":\n",
    "            for jtem in shift_range:\n",
    "                for item in window_range:\n",
    "                    [new_df,b] = value(new_df,'price',item,jtem)\n",
    "                    y_variables_actual.append(b)\n",
    "        else:\n",
    "            print(\"Functions specified incorrectly\")\n",
    "            break\n",
    "    return new_df,x_variables_actual,y_variables_actual"
   ]
  },
  {
   "cell_type": "code",
   "execution_count": 308,
   "metadata": {},
   "outputs": [],
   "source": [
    "def normalise_data(df,var_list):\n",
    "    rider = df.copy(deep = True)\n",
    "    data_mean = list(rider.mean())\n",
    "    data_std = list(rider.std())\n",
    "    rider = (rider - data_mean)/data_std\n",
    "    rider = rider[var_list]\n",
    "    df.loc[:,var_list] = rider.loc[:,var_list]\n",
    "    return df"
   ]
  },
  {
   "cell_type": "code",
   "execution_count": 293,
   "metadata": {},
   "outputs": [],
   "source": [
    "def delete_non_stationary_variables(df,x_variables_actual,y_variables_actual):\n",
    "    stationary_vars = []\n",
    "    \n",
    "    for item in list(df.columns):\n",
    "        if item == 'price':\n",
    "            print(\"Skip\")\n",
    "        else:\n",
    "            X = df[item].dropna()\n",
    "            result = adfuller(X)\n",
    "            #print('ADF Statistic: %f' % result[0])\n",
    "            #print('p-value: %f' % result[1])\n",
    "            #print('Critical Values:')\n",
    "            #for key, value in result[4].items():\n",
    "            #    print('\\t%s: %.3f' % (key, value))\n",
    "            if result[0] < -3.434:\n",
    "                #print(\"Stationary for: \" + str(item))\n",
    "                stationary_vars.append(item)\n",
    "            else:\n",
    "                print(\"Non stationary for: \" + str(item))\n",
    "                try:\n",
    "                    x_variables_actual.remove(item)\n",
    "                except:\n",
    "                    y_variables_actual.remove(item)\n",
    "    return df[stationary_vars],x_variables_actual,y_variables_actual"
   ]
  },
  {
   "cell_type": "code",
   "execution_count": 439,
   "metadata": {},
   "outputs": [],
   "source": [
    "### Lasso\n",
    "\n",
    "def loss_fn_lasso(X, Y, beta):\n",
    "    return cp.norm2(X @ beta - Y)**2\n",
    "\n",
    "def regularizer_lasso(beta):\n",
    "    return cp.norm1(beta)\n",
    "\n",
    "def objective_fn_lasso(X, Y, beta, lambd):\n",
    "    return loss_fn_lasso(X, Y, beta) + lambd * regularizer_lasso(beta)\n",
    "\n",
    "def mse_lasso(X, Y, beta):\n",
    "    return (1.0 / X.shape[0]) * loss_fn_lasso(X, Y, beta).value\n",
    "\n",
    "## Ridge\n",
    "\n",
    "def loss_fn_ridge(X, Y, beta):\n",
    "    return cp.pnorm(X @ beta - Y, p=2)**2\n",
    "\n",
    "def regularizer_ridge(beta):\n",
    "    return cp.pnorm(beta, p=2)**2\n",
    "\n",
    "def objective_fn_ridge(X, Y, beta, lambd):\n",
    "    return loss_fn_ridge(X, Y, beta) + lambd * regularizer_ridge(beta)\n",
    "\n",
    "def mse_ridge(X, Y, beta):\n",
    "    return (1.0 / X.shape[0]) * loss_fn_ridge(X, Y, beta).value\n",
    "\n",
    "\n",
    "## Elastic net\n",
    "\n",
    "def loss_fn_elastic_net(X, Y, beta):\n",
    "    return cp.pnorm(Y - X @ beta , p=2)**2\n",
    "\n",
    "def regularizer_elastic_net(beta,lambd,lambd2):\n",
    "    return (lambd2)*cp.pnorm(beta, p=2)**2 + (lambd)*cp.norm1(beta) \n",
    "\n",
    "\n",
    "def objective_fn_elastic_net(X, Y, beta, lambd,lambd2):\n",
    "    return loss_fn_elastic_net(X, Y, beta) + regularizer_elastic_net(beta,lambd,lambd2)\n",
    "\n",
    "def mse_elastic_net(X, Y, beta):\n",
    "    return (1.0 / X.shape[0]) * loss_fn_elastic_net(X, Y, beta).value\n",
    "\n",
    "\n",
    "\n"
   ]
  },
  {
   "cell_type": "code",
   "execution_count": 343,
   "metadata": {},
   "outputs": [],
   "source": [
    "def conduct_lasso(data_copy,x_variables_actual,dep_var):\n",
    "    x_variables_actual = list(set(x_variables_actual))\n",
    "    \n",
    "    regression_data = data_copy.copy(deep = True)\n",
    "    regression_data = regression_data[x_variables_actual+dep_var]\n",
    "    regression_data = regression_data.dropna()\n",
    "\n",
    "    m = len(regression_data)\n",
    "    n = len(x_variables_actual)\n",
    "    alpha = 0 ##Nests Lasso\n",
    "    X = np.array(regression_data[x_variables_actual])\n",
    "    if dep_var_type == \"sign\":\n",
    "        Y = np.array(regression_data[dep_var].iloc[:,0].apply(lambda x: 1 if x > 0 else 0))\n",
    "    else:    \n",
    "        Y = np.array(regression_data[dep_var].iloc[:,0].apply(lambda x: -x if x<0 else x))\n",
    "    X_train = X[:int(m/2),:]\n",
    "    Y_train = Y[:int(m/2)]\n",
    "    X_test = X[int(m/2):,:]\n",
    "    Y_test = Y[int(m/2):]\n",
    "\n",
    "    beta = cp.Variable(n)\n",
    "    lambd = cp.Parameter(nonneg=True)\n",
    "    lambd2 = cp.Parameter(nonneg=True)\n",
    "    print(\"a\")\n",
    "    problem = cp.Problem(cp.Minimize(objective_fn_elastic_net(X_train, Y_train, beta, lambd,lambd2)))\n",
    "    print(\"b\")\n",
    "    lambd_values = np.logspace(-2, 3, 50) ## Changing the lambda is equivalent to changing the t in order to observe different levels of regularisation\n",
    "    ## alpha = l2/(l1+l2)\n",
    "    ## so l2 = l1*alpha/(1-alpha)\n",
    "    lambd2_values = lambd_values*(alpha/(1-alpha))\n",
    "\n",
    "    train_errors = []\n",
    "    test_errors = []\n",
    "    beta_values = []\n",
    "    counter = 0\n",
    "    print(\"c\")\n",
    "    for count,v in enumerate(lambd_values):\n",
    "        lambd.value = v\n",
    "        lambd2.value = lambd2_values[count]\n",
    "        print(\"Values remaining: \" +str(len(lambd_values)-count))\n",
    "        problem.solve()\n",
    "        test_error = mse_elastic_net(X_test, Y_test, beta)\n",
    "        train_errors.append(mse_elastic_net(X_train, Y_train, beta))\n",
    "        test_errors.append(test_error)\n",
    "        beta_values.append(beta.value)\n",
    "        \n",
    "\n",
    "\n",
    "    opt_lambda = lambd_values[test_errors.index(min(test_errors))]\n",
    "    opt_beta = beta_values[test_errors.index(min(test_errors))]\n",
    "    y_pred = X_test@opt_beta\n",
    "    avg_ss = sum(((Y_test - Y_test.mean())**2)**(0.5))\n",
    "    pred_ss = sum(((Y_test - y_pred)**2)**(0.5))\n",
    "    r_squared = 1- (pred_ss/avg_ss)\n",
    "    return r_squared,opt_lambda,opt_beta"
   ]
  },
  {
   "cell_type": "code",
   "execution_count": 296,
   "metadata": {},
   "outputs": [],
   "source": [
    "\n",
    "\n",
    "def perform_mc_kde(x_values,probs,size,iterations):\n",
    "    output_params = pd.DataFrame(index= range(0,iterations))\n",
    "    output_values = pd.DataFrame()\n",
    "    output_params['mean'] = None\n",
    "    output_params['std'] = None\n",
    "    output_params['skew'] = None\n",
    "    output_params['kurtosis'] = None\n",
    "\n",
    "    for i in range(0,iterations):\n",
    "        mc = np.random.choice(x_values, size=size, replace=True, p=probs)\n",
    "        new_df = pd.DataFrame(mc)\n",
    "        ## Calculate params\n",
    "        mean = new_df[0].mean()\n",
    "        std = new_df[0].std()\n",
    "        skew = new_df[0].skew()\n",
    "        kurtosis = new_df[0].kurtosis()\n",
    "        output_params.at[i,'mean'] = mean\n",
    "        output_params.at[i,'std'] = std\n",
    "        output_params.at[i,'skew'] = skew\n",
    "        output_params.at[i,'kurtosis'] = kurtosis\n",
    "        ## Calculate values\n",
    "        new_df.iloc[0] = 0\n",
    "        new_df['price'] = 0\n",
    "        new_df['price'].iloc[0] = 1\n",
    "        new_df['price_calc'] = new_df['price'].cumsum() + new_df[0].cumsum()\n",
    "        output_values['price'] = new_df['price_calc']\n",
    "        print(\"Completed simulation: \" + str(i))\n",
    "    return output_params,output_values"
   ]
  },
  {
   "cell_type": "code",
   "execution_count": 408,
   "metadata": {},
   "outputs": [
    {
     "name": "stdout",
     "output_type": "stream",
     "text": [
      "Completed simulation: 0\n"
     ]
    }
   ],
   "source": [
    "[a,b]=perform_mc_kde(xs_comma,probs,1000,1)"
   ]
  },
  {
   "cell_type": "code",
   "execution_count": 409,
   "metadata": {},
   "outputs": [],
   "source": [
    "b_copy = b.copy(deep = True)"
   ]
  },
  {
   "cell_type": "code",
   "execution_count": 410,
   "metadata": {},
   "outputs": [
    {
     "name": "stdout",
     "output_type": "stream",
     "text": [
      "Calculating x variables\n",
      "Calculating y variables\n"
     ]
    }
   ],
   "source": [
    "[out,x_var_list,y_var_list] = calc_indicators(pricing_data_copy\n",
    "                                              ,x_dic,y_dic,window_range,shift_range,alph_high_range,alph_low_range)"
   ]
  },
  {
   "cell_type": "code",
   "execution_count": 405,
   "metadata": {},
   "outputs": [],
   "source": [
    "## Use this to decide whether or not the KDE has yielded good results. To be honest, the kurtosis and skew differences\n",
    "## do not look great. Let's press on in any case."
   ]
  },
  {
   "cell_type": "code",
   "execution_count": 412,
   "metadata": {},
   "outputs": [],
   "source": [
    "out = out[x_var_list+y_var_list]"
   ]
  },
  {
   "cell_type": "code",
   "execution_count": null,
   "metadata": {},
   "outputs": [],
   "source": []
  },
  {
   "cell_type": "code",
   "execution_count": 413,
   "metadata": {},
   "outputs": [
    {
     "name": "stderr",
     "output_type": "stream",
     "text": [
      "C:\\Users\\hugo.lu\\Anaconda3\\lib\\site-packages\\ipykernel_launcher.py:7: SettingWithCopyWarning: \n",
      "A value is trying to be set on a copy of a slice from a DataFrame\n",
      "\n",
      "See the caveats in the documentation: http://pandas.pydata.org/pandas-docs/stable/indexing.html#indexing-view-versus-copy\n",
      "  import sys\n"
     ]
    }
   ],
   "source": [
    "out = normalise_data(out,x_var_list+y_var_list)"
   ]
  },
  {
   "cell_type": "code",
   "execution_count": 414,
   "metadata": {
    "scrolled": false
   },
   "outputs": [],
   "source": [
    "[out,x_var_list,y_var_list] = delete_non_stationary_variables(out,x_var_list,y_var_list)"
   ]
  },
  {
   "cell_type": "code",
   "execution_count": 331,
   "metadata": {},
   "outputs": [
    {
     "data": {
      "text/plain": [
       "143"
      ]
     },
     "execution_count": 331,
     "metadata": {},
     "output_type": "execute_result"
    }
   ],
   "source": [
    "len(x_var_list)"
   ]
  },
  {
   "cell_type": "code",
   "execution_count": 333,
   "metadata": {},
   "outputs": [],
   "source": [
    "out_copy = out.copy(deep = True)"
   ]
  },
  {
   "cell_type": "code",
   "execution_count": 346,
   "metadata": {},
   "outputs": [
    {
     "name": "stdout",
     "output_type": "stream",
     "text": [
      "a\n",
      "b\n",
      "c\n",
      "Values remaining: 50\n",
      "Values remaining: 49\n",
      "Values remaining: 48\n",
      "Values remaining: 47\n",
      "Values remaining: 46\n",
      "Values remaining: 45\n",
      "Values remaining: 44\n",
      "Values remaining: 43\n",
      "Values remaining: 42\n",
      "Values remaining: 41\n",
      "Values remaining: 40\n",
      "Values remaining: 39\n",
      "Values remaining: 38\n",
      "Values remaining: 37\n",
      "Values remaining: 36\n",
      "Values remaining: 35\n",
      "Values remaining: 34\n",
      "Values remaining: 33\n",
      "Values remaining: 32\n",
      "Values remaining: 31\n",
      "Values remaining: 30\n",
      "Values remaining: 29\n",
      "Values remaining: 28\n",
      "Values remaining: 27\n",
      "Values remaining: 26\n",
      "Values remaining: 25\n",
      "Values remaining: 24\n",
      "Values remaining: 23\n",
      "Values remaining: 22\n",
      "Values remaining: 21\n",
      "Values remaining: 20\n",
      "Values remaining: 19\n",
      "Values remaining: 18\n",
      "Values remaining: 17\n",
      "Values remaining: 16\n",
      "Values remaining: 15\n",
      "Values remaining: 14\n",
      "Values remaining: 13\n",
      "Values remaining: 12\n",
      "Values remaining: 11\n",
      "Values remaining: 10\n",
      "Values remaining: 9\n",
      "Values remaining: 8\n",
      "Values remaining: 7\n",
      "Values remaining: 6\n",
      "Values remaining: 5\n",
      "Values remaining: 4\n",
      "Values remaining: 3\n",
      "Values remaining: 2\n",
      "Values remaining: 1\n"
     ]
    }
   ],
   "source": [
    "[one,two,three]=conduct_lasso(out_copy,x_var_list,['forward_7_opportunity'])"
   ]
  },
  {
   "cell_type": "code",
   "execution_count": 355,
   "metadata": {},
   "outputs": [],
   "source": [
    "Y = regression_data[dep_var].apply(lambda x: 1 if x > 0 else 0)"
   ]
  },
  {
   "cell_type": "code",
   "execution_count": 465,
   "metadata": {},
   "outputs": [],
   "source": [
    "dep_var_type = \"\"\n",
    "dep_var = \"forward_21_opportunity\""
   ]
  },
  {
   "cell_type": "code",
   "execution_count": 469,
   "metadata": {},
   "outputs": [
    {
     "data": {
      "text/plain": [
       "Index(['rolling_3_avg_1_period_pct_change',\n",
       "       'rolling_3_avg_2_period_pct_change',\n",
       "       'rolling_3_avg_3_period_pct_change',\n",
       "       'rolling_3_avg_4_period_pct_change',\n",
       "       'rolling_3_avg_5_period_pct_change',\n",
       "       'rolling_3_avg_6_period_pct_change',\n",
       "       'rolling_3_avg_7_period_pct_change',\n",
       "       'rolling_3_avg_8_period_pct_change',\n",
       "       'rolling_3_avg_9_period_pct_change',\n",
       "       'rolling_3_avg_10_period_pct_change',\n",
       "       ...\n",
       "       'forward_4_opportunity', 'forward_5_opportunity',\n",
       "       'forward_6_opportunity', 'forward_7_opportunity',\n",
       "       'forward_8_opportunity', 'forward_9_opportunity',\n",
       "       'forward_10_opportunity', 'forward_11_opportunity',\n",
       "       'forward_12_opportunity', 'forward_13_opportunity'],\n",
       "      dtype='object', length=154)"
      ]
     },
     "execution_count": 469,
     "metadata": {},
     "output_type": "execute_result"
    }
   ],
   "source": [
    "regression_data.columns"
   ]
  },
  {
   "cell_type": "code",
   "execution_count": 470,
   "metadata": {},
   "outputs": [
    {
     "name": "stdout",
     "output_type": "stream",
     "text": [
      "a\n",
      "b\n",
      "c\n",
      "Values remaining: 20\n",
      "Values remaining: 19\n",
      "Values remaining: 18\n",
      "Values remaining: 17\n",
      "Values remaining: 16\n",
      "Values remaining: 15\n",
      "Values remaining: 14\n",
      "Values remaining: 13\n",
      "Values remaining: 12\n",
      "Values remaining: 11\n",
      "Values remaining: 10\n",
      "Values remaining: 9\n",
      "Values remaining: 8\n",
      "Values remaining: 7\n",
      "Values remaining: 6\n",
      "Values remaining: 5\n",
      "Values remaining: 4\n",
      "Values remaining: 3\n",
      "Values remaining: 2\n",
      "Values remaining: 1\n"
     ]
    }
   ],
   "source": [
    "\n",
    "x_variables_actual = list(set(x_var_list))\n",
    "dep_var = \"forward_13_opportunity\"\n",
    "regression_data = out.copy(deep = True)\n",
    "regression_data = regression_data[x_variables_actual+[dep_var]]\n",
    "regression_data = regression_data.dropna()\n",
    "\n",
    "m = len(regression_data)\n",
    "n = len(x_variables_actual)\n",
    "alpha = 0 ##Nests Lasso\n",
    "X = np.array(regression_data[x_variables_actual])\n",
    "if dep_var_type == \"sign\":\n",
    "    Y = np.array(regression_data[dep_var].apply(lambda x: 1 if x > 0 else 0))\n",
    "else:    \n",
    "    Y = np.array(regression_data[dep_var].apply(lambda x: x if x<0 else x))\n",
    "    Y_mean = Y.mean()\n",
    "    Y_std = Y.std()\n",
    "    Y =(Y-Y_mean)/Y_std\n",
    "X_train = X[:int(m/2),:]\n",
    "Y_train = Y[:int(m/2)]\n",
    "X_test = X[int(m/2):,:]\n",
    "Y_test = Y[int(m/2):]\n",
    "\n",
    "beta = cp.Variable(n)\n",
    "lambd = cp.Parameter(nonneg=True)\n",
    "lambd2 = cp.Parameter(nonneg=True)\n",
    "print(\"a\")\n",
    "problem = cp.Problem(cp.Minimize(objective_fn_elastic_net(X_train, Y_train, beta, lambd,lambd2)))\n",
    "print(\"b\")\n",
    "lambd_values = np.logspace(-10, 5, 20) ## Changing the lambda is equivalent to changing the t in order to observe different levels of regularisation\n",
    "## alpha = l2/(l1+l2)\n",
    "## so l2 = l1*alpha/(1-alpha)\n",
    "lambd2_values = lambd_values*(alpha/(1-alpha))\n",
    "\n",
    "train_errors = []\n",
    "test_errors = []\n",
    "beta_values = []\n",
    "counter = 0\n",
    "print(\"c\")\n",
    "for count,v in enumerate(lambd_values):\n",
    "    lambd.value = v\n",
    "    lambd2.value = lambd2_values[count]\n",
    "    print(\"Values remaining: \" +str(len(lambd_values)-count))\n",
    "    problem.solve()\n",
    "    test_error = mse_elastic_net(X_test, Y_test, beta)\n",
    "    train_errors.append(mse_elastic_net(X_train, Y_train, beta))\n",
    "    test_errors.append(test_error)\n",
    "    beta_values.append(beta.value)\n",
    "\n",
    "\n",
    "\n",
    "opt_lambda = lambd_values[test_errors.index(min(test_errors))]\n",
    "opt_beta = beta_values[test_errors.index(min(test_errors))]\n",
    "y_pred = X_test@opt_beta\n",
    "avg_ss = sum(((Y_test - Y_test.mean())**2)**(0.5))\n",
    "pred_ss = sum(((Y_test - y_pred)**2)**(0.5))\n",
    "r_squared = 1- (pred_ss/avg_ss)\n"
   ]
  },
  {
   "cell_type": "code",
   "execution_count": 471,
   "metadata": {
    "scrolled": true
   },
   "outputs": [
    {
     "data": {
      "image/png": "[encoded data removed]",
      "text/plain": [
       "<Figure size 432x288 with 1 Axes>"
      ]
     },
     "metadata": {
      "needs_background": "light"
     },
     "output_type": "display_data"
    },
    {
     "data": {
      "image/png": "[encoded data removed]",
      "text/plain": [
       "<Figure size 432x288 with 1 Axes>"
      ]
     },
     "metadata": {
      "needs_background": "light"
     },
     "output_type": "display_data"
    }
   ],
   "source": [
    "plot_train_test_errors(train_errors, test_errors, lambd_values)\n",
    "plot_regularization_path(lambd_values, beta_values)"
   ]
  },
  {
   "cell_type": "markdown",
   "metadata": {},
   "source": [
    "## Conclusion"
   ]
  },
  {
   "cell_type": "code",
   "execution_count": null,
   "metadata": {},
   "outputs": [],
   "source": [
    "## Using the KDE estimates to estimate the parameters is not a good technique. As conjectured by the ML literature,\n",
    "## the backtesting does not provide an effective researching tool. However, the spirit of the simulations is\n",
    "## correct; the main problem with overfitting backtests to trading rules, is that the rule is\n",
    "## derived, subject to parameters e.g. take profit and stop loss limits. These are then calibrated to historical \n",
    "## data only which creates overfittingde PRado suggests we fit a price process\n",
    "## to the historical data (parameters we want to keep) and then use these to estimate the take profit and stop loss\n",
    "## pairs. So insofar we are using only the fundamental properties of the historical data they are acceptable as a backtest.\n",
    "\n",
    "\n",
    "## There are a number of limiting factors that we need to address in v2:\n",
    "## 1. "
   ]
  },
  {
   "cell_type": "code",
   "execution_count": null,
   "metadata": {},
   "outputs": [],
   "source": []
  },
  {
   "cell_type": "code",
   "execution_count": null,
   "metadata": {},
   "outputs": [],
   "source": []
  },
  {
   "cell_type": "markdown",
   "metadata": {},
   "source": [
    "## Specify functions to define trading behaviours"
   ]
  },
  {
   "cell_type": "code",
   "execution_count": null,
   "metadata": {},
   "outputs": [],
   "source": [
    "### This function invests the entire portfolio on a buy signal.\n",
    "### If the portfolio is invested, it ignores all other buy signals\n",
    "### If the portfolio hits a sell signal, it divests the entire portfolio\n",
    "### It returns the data frame, as well as a dataframe with the columns;\n",
    "### \"Action\",\"Amount\",\"Price_executed\"\n",
    "\n",
    "def all_in_trading_behaviour(df,price,status):\n",
    "    starting_capital = 1000\n",
    "    amount_in_stock = 0\n",
    "    buy_price = 0\n",
    "    sell_price = 0 \n",
    "    units = 0\n",
    "    trade_number = 0\n",
    "    output_list = []\n",
    "\n",
    "    df['capital_status'] = df[status].apply(lambda x: None if x ==\"Hold\" else x)\n",
    "    df['capital_status'] = df['capital_status'].fillna(method = 'ffill') \n",
    "    df.loc[(df['capital_status'].isna()),'capital_status'] = None\n",
    "    df['capital_invested'] = df['capital_status'].apply(lambda x: \"free\" if x == None else(\"invested\"if x == \"Buy\" else \"free\"))\n",
    "    df['capital_invested_previous'] = df['capital_invested'].shift(1)\n",
    "    df['trade_made'] = \"N\"\n",
    "    df['unit_balance'] = None\n",
    "    df['unit_value'] = None\n",
    "    for i in range(0,len(df)):\n",
    "        if i == 0 :\n",
    "            amount_in_stock = starting_capital\n",
    "        else:\n",
    "            row = df.iloc[i,:]\n",
    "            #print(row)\n",
    "            if row[\"capital_invested_previous\"] == \"free\" and row[\"capital_status\"] == None:\n",
    "                #amount_in_stock = starting_capital\n",
    "                df.at[i,'trade_made'] = \"N\"\n",
    "                df.at[i,'unit_balance'] = units\n",
    "                df.at[i,'unit_value'] = units*row['price']\n",
    "                print(\"Nothing bought\")\n",
    "            elif row[\"capital_invested_previous\"] == \"free\" and row[\"capital_status\"] == \"Buy\":\n",
    "                buy_price = row['price']\n",
    "                units = amount_in_stock / (buy_price+pip_margin)\n",
    "                trade_number +=1\n",
    "                df.at[i,'trade_made'] = \"Y\"\n",
    "                df.at[i,'unit_balance'] = units\n",
    "                df.at[i,'unit_value'] = units*row['price']\n",
    "                print(\"Units bought:\" + str(units))\n",
    "            elif row[\"capital_invested_previous\"] == \"invested\" and row[\"capital_status\"] == \"Sell\":\n",
    "                sell_price = row['price']\n",
    "                amount_in_stock = units*(sell_price-pip_margin)\n",
    "                units = 0\n",
    "                trade_number +=1\n",
    "                df.at[i,'trade_made'] = \"Y\"\n",
    "                df.at[i,'unit_balance'] = units\n",
    "                df.at[i,'unit_value'] = amount_in_stock\n",
    "                print(\"Units sold. Amount in stock: \" + str(amount_in_stock))\n",
    "            elif i == len(new_df)-1:\n",
    "                sell_price = row['price']\n",
    "                if units > 0:\n",
    "                    amount_in_stock = units*(sell_price-pip_margin)\n",
    "                    units = 0\n",
    "                    trade_number +=1\n",
    "                    df.at[i,'trade_made'] = \"Y\"\n",
    "                    df.at[i,'unit_balance'] = units\n",
    "                    df.at[i,'unit_value'] = amount_in_stock\n",
    "                print(\"End\")\n",
    "    output_list.append([item,amount_in_stock,trade_number]) \n",
    "    \n",
    "    return df,output_list,df[['trade_made','unit_balance','unit_value']]\n",
    "\n"
   ]
  },
  {
   "cell_type": "code",
   "execution_count": null,
   "metadata": {},
   "outputs": [],
   "source": [
    "### This function invests a fraction of the portfolio on a buy signal.\n",
    "### If the portfolio is invested, it ignores all other buy signals\n",
    "### If the portfolio hits a sell signal, it divests the entire portfolio\n",
    "### It returns the data frame, as well as a dataframe with the columns;\n",
    "### \"Action\",\"Amount\",\"Price_executed\"\n",
    "###  portfolio left = 1-(buy_num*frac)\n",
    "### total_count = 1/frac\n",
    "### total_count - buy_count = number left\n",
    "### frac = 1/number_left\n",
    "\n",
    "\n",
    "def fixed_proportion_trading_behaviour(df,price,status,date,buy_frac,sell_frac):\n",
    "    starting_capital = 1000\n",
    "    amount_in_stock = 0\n",
    "    units = 0 \n",
    "    trade_number = 0\n",
    "    output_list = []\n",
    "    net_buy_number = 0\n",
    "    buy_num_exp = 1/buy_frac\n",
    "    sell_num_exp = 1/ sell_frac\n",
    "    \n",
    "    \n",
    "    #### You need an iterable and then you fill in the iterable onto the column\n",
    "    \n",
    "    df['capital_status_ffill'] = df[status].apply(lambda x: None if x ==\"Hold\" else x)\n",
    "    df['capital_status_ffill'] = df['capital_status_ffill'].fillna(method = 'ffill') \n",
    "    \n",
    "    df['trade_made'] = \"N\"\n",
    "    df['unit_balance'] = 0\n",
    "    df['unit_value'] = 0\n",
    "    df['amount_in_stock'] = 0\n",
    "   \n",
    "    for i in range(0,len(df)):\n",
    "        row = df.iloc[i,:]\n",
    "        if i == 0 : ## If at the start, set everything to zero\n",
    "            amount_in_stock = starting_capital\n",
    "            df.at[i,'trade_made'] = \"N\"\n",
    "            units = 0\n",
    "            df.at[i,'unit_balance'] = units\n",
    "            df.at[i,'unit_value'] = units * row['price']\n",
    "            df.at[i,'amount_in_stock'] = amount_in_stock\n",
    "            \n",
    "            \n",
    "        else:\n",
    "           \n",
    "            \n",
    "            if amount_in_stock > 0 and row[status] == \"Buy\": ### If there is a buy status\n",
    "                print(\"Starting buy\")\n",
    "                df.at[i,'trade_made'] = \"Y\"\n",
    "                \n",
    "                units += (1/(buy_num_exp - net_buy_number))*amount_in_stock/(row['price'] + pip_margin)\n",
    "                \n",
    "                df.at[i,'unit_balance'] = units\n",
    "                df.at[i,'unit_value'] = units * row['price']\n",
    "                \n",
    "                amount_in_stock -= (1/(buy_num_exp - net_buy_number))*amount_in_stock\n",
    "                \n",
    "                df.at[i,'amount_in_stock'] = amount_in_stock\n",
    "             \n",
    "                trade_number += 1\n",
    "                net_buy_number += 1\n",
    "                \n",
    "            elif units > 0 and row[status] == \"Sell\": ### If there is a sell status\n",
    "                print(\"Starting sell\")\n",
    "                df.at[i,'trade_made'] = \"Y\"\n",
    "                \n",
    "                amount_in_stock += (1/(net_buy_number))*units*(row['price'] - pip_margin) ## update outgoing (amount in stock) first\n",
    "                df.at[i,'amount_in_stock'] = amount_in_stock ## units not updated yet\n",
    "                \n",
    "                units -= (1/(net_buy_number))*units ## decrease units\n",
    "                \n",
    "                df.at[i,'unit_balance'] = units ## update units\n",
    "                \n",
    "                df.at[i,'unit_value'] = units * row['price'] ## update unit values\n",
    "             \n",
    "                trade_number += 1\n",
    "                net_buy_number -= 1\n",
    "            elif i == len(new_df)-1:\n",
    "                \n",
    "                amount_in_stock += units*(row['price']-pip_margin)\n",
    "                units = 0\n",
    "                trade_number +=1\n",
    "                net_buy_number -= 1\n",
    "                df.at[i,'trade_made'] = \"Y\"\n",
    "                df.at[i,'unit_balance'] = units\n",
    "                df.at[i,'unit_value'] = units * row['price']\n",
    "                df.at[i,'amount_in_stock'] = amount_in_stock\n",
    "                print(\"End\")\n",
    "            else:\n",
    "                df.at[i,'unit_balance'] = units\n",
    "                df.at[i,'unit_value'] = units * row['price']\n",
    "                df.at[i,'amount_in_stock'] = amount_in_stock\n",
    "                \n",
    "    output_list.append([item,amount_in_stock,trade_number,net_buy_number]) \n",
    "    returns_list = []\n",
    "    \n",
    "    first_date = df[df[status] == \"Buy\"][date].min()\n",
    "    last_date = df[date].max()\n",
    "    duration = (last_date - first_date).days\n",
    "    returns = ((df['amount_in_stock'][len(df)-1] / starting_capital)**(1/duration))**365 - 1\n",
    "    \n",
    "    return df,output_list,returns\n"
   ]
  },
  {
   "cell_type": "markdown",
   "metadata": {},
   "source": [
    "## Specify regression functions"
   ]
  },
  {
   "cell_type": "markdown",
   "metadata": {},
   "source": [
    "## Specify regression performance functions"
   ]
  },
  {
   "cell_type": "code",
   "execution_count": null,
   "metadata": {},
   "outputs": [],
   "source": [
    "def conduct_lasso(data_copy,dep_var):\n",
    "    \n",
    "    regression_data = data_copy.copy(deep = True)\n",
    "    regression_data = regression_data[sub_all_var_list]\n",
    "    regression_data = regression_data.dropna()\n",
    "\n",
    "    m = len(regression_data)\n",
    "    n = len(sub_x_variable_actual_list)\n",
    "    alpha = 0 ##Nests Lasso\n",
    "    X = np.array(regression_data[sub_x_variable_actual_list])\n",
    "    Y = np.array(regression_data[dep_var])\n",
    "    X_train = X[:int(m/2),:]\n",
    "    Y_train = Y[:int(m/2)]\n",
    "    X_test = X[int(m/2):,:]\n",
    "    Y_test = Y[int(m/2):]\n",
    "\n",
    "    beta = cp.Variable(n)\n",
    "    lambd = cp.Parameter(nonneg=True)\n",
    "    lambd2 = cp.Parameter(nonneg=True)\n",
    "    problem = cp.Problem(cp.Minimize(objective_fn_elastic_net(X_train, Y_train, beta, lambd,lambd2)))\n",
    "    lambd_values = np.logspace(-2, 3, 50) ## Changing the lambda is equivalent to changing the t in order to observe different levels of regularisation\n",
    "    ## alpha = l2/(l1+l2)\n",
    "    ## so l2 = l1*alpha/(1-alpha)\n",
    "    lambd2_values = lambd_values*(alpha/(1-alpha))\n",
    "\n",
    "    train_errors = []\n",
    "    test_errors = []\n",
    "    beta_values = []\n",
    "    counter = 0\n",
    "    for count,v in enumerate(lambd_values):\n",
    "        lambd.value = v\n",
    "        lambd2.value = lambd2_values[count]\n",
    "\n",
    "        problem.solve()\n",
    "        test_error = mse_elastic_net(X_test, Y_test, beta)\n",
    "        train_errors.append(mse_elastic_net(X_train, Y_train, beta))\n",
    "        test_errors.append(test_error)\n",
    "        beta_values.append(beta.value)\n",
    "\n",
    "\n",
    "    opt_lambda = lambd_values[test_errors.index(min(test_errors))]\n",
    "    opt_beta = beta_values[test_errors.index(min(test_errors))]\n",
    "    y_pred = X_test@opt_beta\n",
    "    avg_ss = sum(((Y_test - Y_test.mean())**2)**(0.5))\n",
    "    pred_ss = sum(((Y_test - y_pred)**2)**(0.5))\n",
    "    r_squared = 1- (pred_ss/avg_ss)\n",
    "    return r_squared,opt_lambda,opt_beta"
   ]
  },
  {
   "cell_type": "code",
   "execution_count": null,
   "metadata": {},
   "outputs": [],
   "source": [
    "m = len(regression_data)\n",
    "n = len(sub_x_variable_actual_list)\n",
    "alpha = 0\n",
    "X = np.array(regression_data[sub_x_variable_actual_list])\n",
    "Y = np.array(regression_data['forward_7_opportunity'])\n",
    "X_train = X[:int(m/2),:]\n",
    "Y_train = Y[:int(m/2)]\n",
    "X_test = X[int(m/2):,:]\n",
    "Y_test = Y[int(m/2):]\n",
    "\n",
    "beta = cp.Variable(n)\n",
    "lambd = cp.Parameter(nonneg=True)\n",
    "lambd2 = cp.Parameter(nonneg=True)\n",
    "problem = cp.Problem(cp.Minimize(objective_fn_elastic_net(X_train, Y_train, beta, lambd,lambd2)))\n",
    "lambd_values = np.logspace(-2, 3, 50) ## Changing the lambda is equivalent to changing the t in order to observe different levels of regularisation\n",
    "## alpha = l2/(l1+l2)\n",
    "## so l2 = l1*alpha/(1-alpha)\n",
    "lambd2_values = lambd_values*(alpha/(1-alpha))\n",
    "\n",
    "train_errors = []\n",
    "test_errors = []\n",
    "beta_values = []\n",
    "counter = 0\n",
    "for count,v in enumerate(lambd_values):\n",
    "    lambd.value = v\n",
    "    lambd2.value = lambd2_values[count]\n",
    "    \n",
    "    problem.solve()\n",
    "    test_error = mse_elastic_net(X_test, Y_test, beta)\n",
    "    train_errors.append(mse_elastic_net(X_train, Y_train, beta))\n",
    "    test_errors.append(test_error)\n",
    "    beta_values.append(beta.value)\n",
    "\n",
    "\n",
    "opt_lambda = lambd_values[test_errors.index(min(test_errors))]\n",
    "opt_beta = beta_values[test_errors.index(min(test_errors))]\n",
    "y_pred = X_test@opt_beta\n",
    "avg_ss = sum(((Y_test - Y_test.mean())**2)**(0.5))\n",
    "pred_ss = sum(((Y_test - y_pred)**2)**(0.5))\n",
    "r_squared = 1- (pred_ss/avg_ss)\n",
    "#plot_train_test_errors(train_errors, test_errors, lambd_values)\n",
    "#plot_regularization_path(lambd_values, beta_values)"
   ]
  },
  {
   "cell_type": "code",
   "execution_count": 398,
   "metadata": {},
   "outputs": [
    {
     "data": {
      "image/png": "[encoded data removed]",
      "text/plain": [
       "<Figure size 432x288 with 1 Axes>"
      ]
     },
     "metadata": {
      "needs_background": "light"
     },
     "output_type": "display_data"
    },
    {
     "data": {
      "image/png": "[encoded data removed]",
      "text/plain": [
       "<Figure size 432x288 with 1 Axes>"
      ]
     },
     "metadata": {
      "needs_background": "light"
     },
     "output_type": "display_data"
    }
   ],
   "source": [
    "plot_train_test_errors(train_errors, test_errors, lambd_values)\n",
    "plot_regularization_path(lambd_values, beta_values)"
   ]
  },
  {
   "cell_type": "code",
   "execution_count": null,
   "metadata": {},
   "outputs": [],
   "source": [
    "r_squared"
   ]
  },
  {
   "cell_type": "markdown",
   "metadata": {},
   "source": [
    "## Specify plotters for regressions"
   ]
  },
  {
   "cell_type": "code",
   "execution_count": 396,
   "metadata": {},
   "outputs": [],
   "source": [
    "def plot_regularization_path(lambd_values, beta_values):\n",
    "    num_coeffs = len(beta_values[0])\n",
    "    for i in range(num_coeffs):\n",
    "        plt.plot(lambd_values, [wi[i] for wi in beta_values])\n",
    "    plt.xlabel(r\"$\\lambda$\", fontsize=16)\n",
    "    plt.xscale(\"log\")\n",
    "    plt.title(\"Regularization Path\")\n",
    "    plt.show()\n",
    "\n",
    "def plot_train_test_errors(train_errors, test_errors, lambd_values):\n",
    "    plt.plot(lambd_values, train_errors, label=\"Train error\")\n",
    "    plt.plot(lambd_values, test_errors, label=\"Test error\")\n",
    "    plt.xscale(\"log\")\n",
    "    plt.legend(loc=\"upper left\")\n",
    "    plt.xlabel(r\"$\\lambda$\", fontsize=16)\n",
    "    plt.title(\"Mean Squared Error (MSE)\")\n",
    "    plt.show()\n"
   ]
  },
  {
   "cell_type": "code",
   "execution_count": 397,
   "metadata": {},
   "outputs": [],
   "source": [
    "def generate_data(m=100, n=20, sigma=5, density=0.2):\n",
    "        \"Generates data matrix X and observations Y.\"\n",
    "        np.random.seed(1)\n",
    "        beta_star = np.random.randn(n)\n",
    "        idxs = np.random.choice(range(n), int((1-density)*n), replace=False)\n",
    "        for idx in idxs:\n",
    "            beta_star[idx] = 0\n",
    "        X = np.random.randn(m,n)\n",
    "        Y = X.dot(beta_star) + np.random.normal(0, sigma, size=m)\n",
    "        return X, Y, beta_star\n"
   ]
  },
  {
   "cell_type": "markdown",
   "metadata": {},
   "source": [
    "## Set up and clean data [ 2]"
   ]
  },
  {
   "cell_type": "code",
   "execution_count": null,
   "metadata": {},
   "outputs": [],
   "source": [
    "data_columns = list(data_in.columns)\n",
    "data_copy = data_in.copy(deep = True)\n",
    "data_copy = data_copy.rename( columns = {\n",
    "    \n",
    "    'date': 'date',\n",
    "    'open':'price',\n",
    "    #'Ticker':'ticker'\n",
    "    \n",
    "})\n",
    "data_copy['ticker'] = \"EURUSD\""
   ]
  },
  {
   "cell_type": "code",
   "execution_count": null,
   "metadata": {},
   "outputs": [],
   "source": [
    "## Cast all relevant objects to floats\n",
    "\n",
    "float_list = ['price','close']\n",
    "\n",
    "for item in float_list:\n",
    "    data_copy[item] = data_copy[item].astype('float64')"
   ]
  },
  {
   "cell_type": "code",
   "execution_count": null,
   "metadata": {},
   "outputs": [],
   "source": [
    "## Cast all relevant objects to dates\n",
    "\n",
    "float_list = ['date']\n",
    "for item in float_list:\n",
    "    data_copy[item] = pd.to_datetime(data_copy[item])"
   ]
  },
  {
   "cell_type": "markdown",
   "metadata": {},
   "source": [
    "## Calculate output variables"
   ]
  },
  {
   "cell_type": "code",
   "execution_count": null,
   "metadata": {},
   "outputs": [],
   "source": [
    "x_variables_actual = []\n",
    "y_variables_actual = []\n",
    "for item in window_range:\n",
    "    for key,value in x_dic.items():\n",
    "        #print(\"calculating indicators for: \" + str(key))\n",
    "        if value.type == \"window\":\n",
    "            \n",
    "            [data_copy,b] = value(data_copy,'price',item)\n",
    "            x_variables_actual.append(b)\n",
    "        elif value.type == \"window_shift\":\n",
    "            for jtem in shift_range:\n",
    "                [data_copy,b] = value(data_copy,'price',item,jtem)\n",
    "                x_variables_actual.append(b)\n",
    "        else:\n",
    "            print(\"Functions specified incorrectly\")\n",
    "            break\n",
    "            \n",
    "for item in window_range:\n",
    "    for key,value in y_dic.items():\n",
    "        #print(\"calculating indicators for: \" + str(key))\n",
    "        if value.type == \"window\":\n",
    "            \n",
    "            [data_copy,b] = value(data_copy,'price',item)\n",
    "            y_variables_actual.append(b)\n",
    "        elif value.type == \"window_shift\":\n",
    "            for jtem in shift_range:\n",
    "                [data_copy,b] = value(data_copy,'price',item,jtem)\n",
    "                y_variables_actual.append(b)\n",
    "        else:\n",
    "            print(\"Functions specified incorrectly\")\n",
    "            break"
   ]
  },
  {
   "cell_type": "code",
   "execution_count": null,
   "metadata": {},
   "outputs": [],
   "source": [
    "data_copy.iloc[:10]"
   ]
  },
  {
   "cell_type": "markdown",
   "metadata": {},
   "source": [
    "## Specify backtest algorithm"
   ]
  },
  {
   "cell_type": "code",
   "execution_count": null,
   "metadata": {},
   "outputs": [],
   "source": [
    "## Define lists of variables we are interested in\n",
    "\n",
    "sub_x_variable_actual_list = []\n",
    "for x in window_range:\n",
    "    string = \"last_%s_momentum\" % x\n",
    "    sub_x_variable_actual_list.append(string)\n",
    "    string = \"last_%s_RSI\" % x\n",
    "    sub_x_variable_actual_list.append(string)\n",
    "    for item in shift_range:\n",
    "        string = \"rolling_\"+str(x)+\"_avg_\"+str(item)+\"_period_pct_change\"\n",
    "        sub_x_variable_actual_list.append(string)\n",
    "\n",
    "sub_all_var_list = []\n",
    "sub_all_var_list = sub_x_variable_actual_list\n",
    "sub_all_var_list.append('forward_7_opportunity')\n",
    "dep_var = 'forward_7_opportunity'\n",
    "## Generate output matrices\n",
    "\n",
    "\n",
    "output_df = data_copy.copy(deep = True)\n",
    "output_df = output_df[['date']]\n",
    "output_df['lasso_R_squared'] = None\n",
    "output_df['lasso_lambd_opt'] = None\n",
    "output_df['lasso_beta_values'] = None\n",
    "\n",
    "\n",
    "## iterate through items\n",
    "for counter,day in enumerate(range(0,len(data_copy))):\n",
    "    print(\"Calculating for: \" + str(counter))\n",
    "    if day > (max(window_range)+min_data_points):\n",
    "        if round(day/10,1) == round(day/10,0): ## Takes too long to do each one, so run one in ten\n",
    "            test_data = data_copy.iloc[:counter]\n",
    "            [a,b,c] = conduct_lasso(test_data,dep_var)\n",
    "            output_df.at[counter,'lasso_R_squared'] = a\n",
    "            output_df.at[counter,'lasso_lambd_opt'] = b\n",
    "            output_df.at[counter,'lasso_beta_values'] = c\n",
    "            print(\"Completed for iteration: \" + str(counter))\n",
    "        \n",
    "            \n",
    "    else:\n",
    "        print(\"Ignoring row\")\n",
    "        \n",
    "        \n",
    "        \n"
   ]
  },
  {
   "cell_type": "code",
   "execution_count": null,
   "metadata": {},
   "outputs": [],
   "source": [
    "betas = output_df['lasso_beta_values'].dropna()\n",
    "beta_lag = output_df['lasso_beta_values'].dropna().shift(1)"
   ]
  },
  {
   "cell_type": "code",
   "execution_count": null,
   "metadata": {},
   "outputs": [],
   "source": [
    "difference = betas - beta_lag"
   ]
  },
  {
   "cell_type": "code",
   "execution_count": null,
   "metadata": {},
   "outputs": [],
   "source": [
    "difference = (difference**2)**(0.5)"
   ]
  },
  {
   "cell_type": "code",
   "execution_count": null,
   "metadata": {},
   "outputs": [],
   "source": [
    "difference = difference.apply(lambda x: sum(x)).dropna()"
   ]
  },
  {
   "cell_type": "code",
   "execution_count": null,
   "metadata": {},
   "outputs": [],
   "source": [
    "difference = difference.rolling(20).mean()"
   ]
  },
  {
   "cell_type": "code",
   "execution_count": null,
   "metadata": {},
   "outputs": [],
   "source": [
    "plt.plot(difference)"
   ]
  },
  {
   "cell_type": "code",
   "execution_count": null,
   "metadata": {},
   "outputs": [],
   "source": [
    "#### Lasso\n",
    "\n",
    "regression_data.reset_index(drop = True, inplace = True)\n",
    "m = len(regression_data)\n",
    "n = len(sub_x_variable_actual_list)\n",
    "X = np.array(regression_data[sub_x_variable_actual_list])\n",
    "Y = np.array(regression_data['forward_7_opportunity'])\n",
    "X_train = X[:int(m/2),:]\n",
    "Y_train = Y[:int(m/2)]\n",
    "X_test = X[int(m/2):,:]\n",
    "Y_test = Y[int(m/2):]\n",
    "\n",
    "beta = cp.Variable(n)\n",
    "lambd = cp.Parameter(nonneg=True)\n",
    "problem = cp.Problem(cp.Minimize(objective_fn_lasso(X_train, Y_train, beta, lambd)))\n",
    "lambd_values = np.logspace(-2, 3, 50) ## Changing the lambda is equivalent to changing the t in order to observe different levels of regularisation\n",
    "train_errors = []\n",
    "test_errors = []\n",
    "beta_values = []\n",
    "counter = 0\n",
    "for v in lambd_values:\n",
    "    lambd.value = v\n",
    "    problem.solve()\n",
    "    test_error = mse_lasso(X_test, Y_test, beta)\n",
    "    train_errors.append(mse_lasso(X_train, Y_train, beta))\n",
    "    test_errors.append(test_error)\n",
    "    beta_values.append(beta.value)\n",
    "\n",
    "\n",
    "opt_lambda = lambd_values[test_errors.index(min(test_errors))]\n",
    "opt_beta = beta_values[test_errors.index(min(test_errors))]\n",
    "y_pred = X_test@opt_beta\n",
    "avg_ss = sum(((Y_test - Y_test.mean())**2)**(0.5))\n",
    "pred_ss = sum(((Y_test - y_pred)**2)**(0.5))\n",
    "r_squared = 1- (pred_ss/avg_ss)\n",
    "#plot_train_test_errors(train_errors, test_errors, lambd_values)\n",
    "#plot_regularization_path(lambd_values, beta_values)"
   ]
  },
  {
   "cell_type": "code",
   "execution_count": null,
   "metadata": {},
   "outputs": [],
   "source": []
  },
  {
   "cell_type": "code",
   "execution_count": null,
   "metadata": {},
   "outputs": [],
   "source": [
    "new_df = pd.DataFrame(data = (y_pred,Y_test) ,index = None)"
   ]
  },
  {
   "cell_type": "code",
   "execution_count": null,
   "metadata": {},
   "outputs": [],
   "source": [
    "opt_lambda"
   ]
  },
  {
   "cell_type": "code",
   "execution_count": null,
   "metadata": {},
   "outputs": [],
   "source": [
    "#### Ridge\n",
    "\n",
    "#regression_data = data_copy.dropna()\n",
    "#regression_data.reset_index(drop = True, inplace = True)\n",
    "m = len(regression_data)\n",
    "n = len(sub_x_variable_actual_list)\n",
    "X = np.array(regression_data[sub_x_variable_actual_list])\n",
    "Y = np.array(regression_data['forward_7_opportunity'])\n",
    "X_train = X[:int(m/2),:]\n",
    "Y_train = Y[:int(m/2)]\n",
    "X_test = X[int(m/2):,:]\n",
    "Y_test = Y[int(m/2):]\n",
    "\n",
    "beta = cp.Variable(n)\n",
    "lambd = cp.Parameter(nonneg=True)\n",
    "problem = cp.Problem(cp.Minimize(objective_fn_ridge(X_train, Y_train, beta, lambd)))\n",
    "lambd_values = np.logspace(-2, 3, 50) ## Changing the lambda is equivalent to changing the t in order to observe different levels of regularisation\n",
    "train_errors = []\n",
    "test_errors = []\n",
    "beta_values = []\n",
    "counter = 0\n",
    "for v in lambd_values:\n",
    "    lambd.value = v\n",
    "    problem.solve()\n",
    "    test_error = mse_ridge(X_test, Y_test, beta)\n",
    "    train_errors.append(mse_ridge(X_train, Y_train, beta))\n",
    "    test_errors.append(test_error)\n",
    "    beta_values.append(beta.value)\n",
    "\n",
    "\n",
    "opt_lambda = lambd_values[test_errors.index(min(test_errors))]\n",
    "opt_beta = beta_values[test_errors.index(min(test_errors))]\n",
    "y_pred = X_test@opt_beta\n",
    "avg_ss = sum(((Y_test - Y_test.mean())**2)**(0.5))\n",
    "pred_ss = sum(((Y_test - y_pred)**2)**(0.5))\n",
    "r_squared = 1- (pred_ss/avg_ss)\n",
    "#plot_train_test_errors(train_errors, test_errors, lambd_values)\n",
    "#plot_regularization_path(lambd_values, beta_values)"
   ]
  },
  {
   "cell_type": "code",
   "execution_count": null,
   "metadata": {},
   "outputs": [],
   "source": [
    "plot_train_test_errors(train_errors, test_errors, lambd_values)\n",
    "plot_regularization_path(lambd_values, beta_values)"
   ]
  },
  {
   "cell_type": "code",
   "execution_count": null,
   "metadata": {},
   "outputs": [],
   "source": [
    "#### elastic_net\n",
    "\n",
    "#regression_data = data_copy.dropna()\n",
    "#regression_data.reset_index(drop = True, inplace = True)\n",
    "m = len(regression_data)\n",
    "n = len(sub_x_variable_actual_list)\n",
    "X = np.array(regression_data[sub_x_variable_actual_list])\n",
    "Y = np.array(regression_data['forward_7_opportunity'])\n",
    "X_train = X[:int(m/2),:]\n",
    "Y_train = Y[:int(m/2)]\n",
    "X_test = X[int(m/2):,:]\n",
    "Y_test = Y[int(m/2):]\n",
    "\n",
    "beta = cp.Variable(n)\n",
    "lambd = cp.Parameter(nonneg=True)\n",
    "problem = cp.Problem(cp.Minimize(objective_fn_elastic_net(X_train, Y_train, beta, lambd)))\n",
    "lambd_values = np.logspace(-2, 3, 50) ## Changing the lambda is equivalent to changing the t in order to observe different levels of regularisation\n",
    "train_errors = []\n",
    "test_errors = []\n",
    "beta_values = []\n",
    "counter = 0\n",
    "for v in lambd_values:\n",
    "    lambd.value = v\n",
    "    problem.solve()\n",
    "    test_error = mse_elastic_net(X_test, Y_test, beta)\n",
    "    train_errors.append(mse_elastic_net(X_train, Y_train, beta))\n",
    "    test_errors.append(test_error)\n",
    "    beta_values.append(beta.value)\n",
    "\n",
    "\n",
    "opt_lambda = lambd_values[test_errors.index(min(test_errors))]\n",
    "opt_beta = beta_values[test_errors.index(min(test_errors))]\n",
    "y_pred = X_test@opt_beta\n",
    "avg_ss = sum(((Y_test - Y_test.mean())**2)**(0.5))\n",
    "pred_ss = sum(((Y_test - y_pred)**2)**(0.5))\n",
    "r_squared = 1- (pred_ss/avg_ss)\n",
    "#plot_train_test_errors(train_errors, test_errors, lambd_values)\n",
    "#plot_regularization_path(lambd_values, beta_values)"
   ]
  },
  {
   "cell_type": "code",
   "execution_count": null,
   "metadata": {},
   "outputs": [],
   "source": [
    "\n",
    "###########################REDEFINE TO BE BASED OFF PREVIOUS INDICATORS\n",
    "\n",
    "##Redefine x variables to choose only necessary ones\n",
    "x_variables = ['short_23_momentum',                                     #### When positive\n",
    "               'last_14_RSI',                                          #### When above a certain level\n",
    "               'rolling_7_day_price_avg_difference',                   #### When positive / negative\n",
    "               \n",
    "               'price']                                                #### when above or below\n",
    "\n",
    "\n",
    "### Add in moving average buy status and p value\n",
    "data_copy = is_positive_signal(data_copy,'rolling_21_day_price_avg_difference',1,60,1.6)\n",
    "### Add in short momentum buy status and p value\n",
    "data_copy =  is_positive_signal(data_copy,'short_23_momentum',1,60,1.6)\n",
    "### Add in RSI buy status and p value\n",
    "data_copy = upper_lower_bound_signal(data_copy,'last_14_RSI',0.7,0.3,1,60,1.6)\n",
    "### Add in price differential and p value\n",
    "data_copy = non_normal_and_negative_signal(data_copy,'price',7,60,1.6)"
   ]
  },
  {
   "cell_type": "markdown",
   "metadata": {},
   "source": [
    "### Graph rider"
   ]
  },
  {
   "cell_type": "code",
   "execution_count": null,
   "metadata": {},
   "outputs": [],
   "source": [
    "new_df = data_copy.copy(deep = True)\n",
    "data1 = new_df['price']\n",
    "data2 = data_copy['status_price'].apply(lambda x: 1 if x == \"Buy\" else (-1 if x == \"Sell\" else 0))\n",
    "new_df['data_buy'] = data_copy['status_price'].apply(lambda x: 1 if x == \"Buy\" else None)\n",
    "new_df['data_buy'] = new_df['data_buy']*new_df['price']\n",
    "new_df['data_sell'] = data_copy['status_price'].apply(lambda x: 1 if x == \"Sell\" else None)\n",
    "new_df['data_sell'] = new_df['data_sell']*new_df['price']\n",
    "data2 = new_df['data_buy']\n",
    "data3 = new_df['data_sell']#\n",
    "fig, ax1 = plt.subplots()\n",
    "fig.set_size_inches(18.5, 10.5)\n",
    "ax1.scatter(new_df['date'], data2, c='green')\n",
    "ax1.scatter(new_df['date'], data3, c='red')\n",
    "ax1.plot(new_df['date'],data1)\n",
    "\n",
    "ax2 = ax1.twinx()  # instantiate a second axes that shares the same x-axis\n",
    "\n",
    "color = 'tab:blue'\n",
    "ax2.set_ylabel('sin', color=color)  # we already handled the x-label with ax1\n",
    "ax2.plot(new_df['date'], new_df['previous_7_pct_change'], color='purple')\n",
    "ax2.tick_params(axis='y', labelcolor='purple')\n",
    "\n",
    "\n",
    "\n",
    "plt.show()\n"
   ]
  },
  {
   "cell_type": "code",
   "execution_count": null,
   "metadata": {},
   "outputs": [],
   "source": [
    "new_df = data_copy.copy(deep = True)\n",
    "data1 = new_df['price']\n",
    "data2 = data_copy['status_last_14_RSI'].apply(lambda x: 1 if x == \"Buy\" else (-1 if x == \"Sell\" else 0))\n",
    "new_df['data_buy'] = data_copy['status_last_14_RSI'].apply(lambda x: 1 if x == \"Buy\" else None)\n",
    "new_df['data_buy'] = new_df['data_buy']*new_df['price']\n",
    "new_df['data_sell'] = data_copy['status_last_14_RSI'].apply(lambda x: 1 if x == \"Sell\" else None)\n",
    "new_df['data_sell'] = new_df['data_sell']*new_df['price']\n",
    "data2 = new_df['data_buy']\n",
    "data3 = new_df['data_sell']#\n",
    "fig, ax1 = plt.subplots()\n",
    "fig.set_size_inches(18.5, 10.5)\n",
    "ax1.scatter(new_df['date'], data2, c='green')\n",
    "ax1.scatter(new_df['date'], data3, c='red')\n",
    "ax1.plot(new_df['date'],data1)\n",
    "\n",
    "ax2 = ax1.twinx()  # instantiate a second axes that shares the same x-axis\n",
    "\n",
    "color = 'tab:blue'\n",
    "ax2.set_ylabel('sin', color=color)  # we already handled the x-label with ax1\n",
    "ax2.plot(new_df['date'], new_df['last_14_RSI'], color='purple')\n",
    "ax2.tick_params(axis='y', labelcolor='purple')\n",
    "\n",
    "\n",
    "\n",
    "plt.show()\n"
   ]
  },
  {
   "cell_type": "code",
   "execution_count": null,
   "metadata": {},
   "outputs": [],
   "source": [
    "new_df = data_copy.copy(deep = True)\n",
    "data1 = new_df['price']\n",
    "data2 = data_copy['status_short_23_momentum'].apply(lambda x: 1 if x == \"Buy\" else (-1 if x == \"Sell\" else 0))\n",
    "new_df['data_buy'] = data_copy['status_short_23_momentum'].apply(lambda x: 1 if x == \"Buy\" else None)\n",
    "new_df['data_buy'] = new_df['data_buy']*new_df['price']\n",
    "new_df['data_sell'] = data_copy['status_short_23_momentum'].apply(lambda x: 1 if x == \"Sell\" else None)\n",
    "new_df['data_sell'] = new_df['data_sell']*new_df['price']\n",
    "data2 = new_df['data_buy']\n",
    "data3 = new_df['data_sell']#\n",
    "fig, ax1 = plt.subplots()\n",
    "fig.set_size_inches(18.5, 10.5)\n",
    "ax1.scatter(new_df['date'], data2, c='green')\n",
    "ax1.scatter(new_df['date'], data3, c='red')\n",
    "ax1.plot(new_df['date'],data1)\n",
    "\n",
    "ax2 = ax1.twinx()  # instantiate a second axes that shares the same x-axis\n",
    "\n",
    "color = 'tab:blue'\n",
    "ax2.set_ylabel('sin', color=color)  # we already handled the x-label with ax1\n",
    "ax2.plot(new_df['date'], new_df['short_23_momentum'], color='purple')\n",
    "ax2.tick_params(axis='y', labelcolor='purple')\n",
    "\n",
    "plt.show()\n"
   ]
  },
  {
   "cell_type": "code",
   "execution_count": null,
   "metadata": {},
   "outputs": [],
   "source": [
    "new_df = data_copy.copy(deep = True)\n",
    "data1 = new_df['price']\n",
    "#data2 = data_copy['status_rolling_21_day_price_avg_difference'].apply(lambda x: 1 if x == \"Buy\" else (-1 if x == \"Sell\" else 0))\n",
    "new_df['data_buy'] = data_copy['status_rolling_21_day_price_avg_difference'].apply(lambda x: 1 if x == \"Buy\" else None)\n",
    "new_df['data_buy'] = new_df['data_buy']*new_df['price']\n",
    "new_df['data_sell'] = data_copy['status_rolling_21_day_price_avg_difference'].apply(lambda x: 1 if x == \"Sell\" else None)\n",
    "new_df['data_sell'] = new_df['data_sell']*new_df['price']\n",
    "data2 = new_df['data_buy']\n",
    "data3 = new_df['data_sell']#\n",
    "fig, ax1 = plt.subplots()\n",
    "fig.set_size_inches(18.5, 10.5)\n",
    "plt.scatter(new_df['date'], data2, c='green')\n",
    "plt.scatter(new_df['date'], data3, c='red')\n",
    "plt.plot(new_df['date'],data1)\n",
    "plt.plot(new_df['date'],new_df['price'].rolling(21).mean(), c = \"blue\")\n",
    "\n",
    "\n",
    "plt.show()\n"
   ]
  }
 ],
 "metadata": {
  "kernelspec": {
   "display_name": "Python 3",
   "language": "python",
   "name": "python3"
  },
  "language_info": {
   "codemirror_mode": {
    "name": "ipython",
    "version": 3
   },
   "file_extension": ".py",
   "mimetype": "text/x-python",
   "name": "python",
   "nbconvert_exporter": "python",
   "pygments_lexer": "ipython3",
   "version": "3.7.3"
  }
 },
 "nbformat": 4,
 "nbformat_minor": 2
}
