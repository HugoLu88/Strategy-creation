{
 "cells": [
  {
   "cell_type": "markdown",
   "metadata": {},
   "source": [
    "### Description"
   ]
  },
  {
   "cell_type": "code",
   "execution_count": 1,
   "metadata": {},
   "outputs": [],
   "source": [
    "### This code simulates examples to test some ideas such as:\n",
    "## 1. Double check that normalising data does not affect model predictability\n",
    "## 2. Double check KDE simulation is effective"
   ]
  },
  {
   "cell_type": "markdown",
   "metadata": {},
   "source": [
    "### Imports"
   ]
  },
  {
   "cell_type": "code",
   "execution_count": 1,
   "metadata": {},
   "outputs": [],
   "source": [
    "import pandas as pd\n",
    "\n",
    "import numpy as np\n",
    "from datetime import datetime\n",
    "import xlsxwriter\n",
    "import string\n",
    "import os\n",
    "import re\n",
    "import matplotlib.pyplot as plt\n",
    "from statsmodels.tsa.stattools import adfuller\n",
    "import statsmodels.api as sm\n",
    "from scipy import stats\n",
    "from numpy.random import seed\n",
    "from numpy.random import randn\n",
    "from scipy.stats import shapiro\n",
    "from sklearn.neighbors import KernelDensity\n",
    "import seaborn as sns\n",
    "import cvxpy as cp"
   ]
  },
  {
   "cell_type": "markdown",
   "metadata": {},
   "source": [
    "### Functions"
   ]
  },
  {
   "cell_type": "code",
   "execution_count": 10,
   "metadata": {},
   "outputs": [],
   "source": [
    "### Lasso\n",
    "\n",
    "def loss_fn_lasso(X, Y, beta):\n",
    "    return cp.norm2(X @ beta - Y)**2\n",
    "\n",
    "def regularizer_lasso(beta):\n",
    "    return cp.norm1(beta)\n",
    "\n",
    "def objective_fn_lasso(X, Y, beta, lambd):\n",
    "    return loss_fn_lasso(X, Y, beta) + lambd * regularizer_lasso(beta)\n",
    "\n",
    "def mse_lasso(X, Y, beta):\n",
    "    return (1.0 / X.shape[0]) * loss_fn_lasso(X, Y, beta).value\n",
    "\n",
    "## Ridge\n",
    "\n",
    "def loss_fn_ridge(X, Y, beta):\n",
    "    return cp.pnorm(X @ beta - Y, p=2)**2\n",
    "\n",
    "def regularizer_ridge(beta):\n",
    "    return cp.pnorm(beta, p=2)**2\n",
    "\n",
    "def objective_fn_ridge(X, Y, beta, lambd):\n",
    "    return loss_fn_ridge(X, Y, beta) + lambd * regularizer_ridge(beta)\n",
    "\n",
    "def mse_ridge(X, Y, beta):\n",
    "    return (1.0 / X.shape[0]) * loss_fn_ridge(X, Y, beta).value\n",
    "\n",
    "\n",
    "## Elastic net\n",
    "\n",
    "def loss_fn_elastic_net(X, Y, beta):\n",
    "    return cp.pnorm(Y - X @ beta , p=2)**2\n",
    "\n",
    "def regularizer_elastic_net(beta,lambd,lambd2):\n",
    "    return (lambd2)*cp.pnorm(beta, p=2)**2 + (lambd)*cp.norm1(beta) \n",
    "\n",
    "\n",
    "def objective_fn_elastic_net(X, Y, beta, lambd,lambd2):\n",
    "    return loss_fn_elastic_net(X, Y, beta) + regularizer_elastic_net(beta,lambd,lambd2)\n",
    "\n",
    "def mse_elastic_net(X, Y, beta):\n",
    "    return (1.0 / X.shape[0]) * loss_fn_elastic_net(X, Y, beta).value\n",
    "\n",
    "\n",
    "\n"
   ]
  },
  {
   "cell_type": "code",
   "execution_count": 331,
   "metadata": {},
   "outputs": [],
   "source": [
    "def plot_regularization_path(lambd_values, beta_values):\n",
    "    num_coeffs = len(beta_values[0])\n",
    "    for i in range(num_coeffs):\n",
    "        plt.plot(lambd_values, [wi[i] for wi in beta_values])\n",
    "    plt.xlabel(r\"$\\lambda$\", fontsize=16)\n",
    "    plt.xscale(\"log\")\n",
    "    plt.title(\"Regularization Path\")\n",
    "    plt.show()\n",
    "\n",
    "def plot_train_test_errors(train_errors, test_errors, lambd_values):\n",
    "    plt.plot(lambd_values, train_errors, label=\"Train error\")\n",
    "    plt.plot(lambd_values, test_errors, label=\"Test error\")\n",
    "    plt.xscale(\"log\")\n",
    "    plt.legend(loc=\"upper left\")\n",
    "    plt.xlabel(r\"$\\lambda$\", fontsize=16)\n",
    "    plt.title(\"Mean Squared Error (MSE)\")\n",
    "    plt.show()\n"
   ]
  },
  {
   "cell_type": "markdown",
   "metadata": {},
   "source": [
    "## Test normalisation"
   ]
  },
  {
   "cell_type": "code",
   "execution_count": 378,
   "metadata": {},
   "outputs": [],
   "source": [
    "X1 = np.random.normal(1,0.5,1000)\n",
    "error = np.random.normal(0,3,1000)                 \n",
    "X2 = 0.3*X1 \n",
    "\n",
    "Y = 2*X1+error+0.2*X2+100\n",
    "## Normalise \n",
    "Y = (Y - Y.mean())/Y.std()\n",
    "X1 = (X1 - X1.mean())/X1.std()\n",
    "X2 = (X2 - X2.mean())/X2.std()"
   ]
  },
  {
   "cell_type": "code",
   "execution_count": 379,
   "metadata": {},
   "outputs": [
    {
     "data": {
      "text/plain": [
       "<matplotlib.collections.PathCollection at 0x220dc46d400>"
      ]
     },
     "execution_count": 379,
     "metadata": {},
     "output_type": "execute_result"
    },
    {
     "data": {
      "image/png": "[encoded data removed]",
      "text/plain": [
       "<Figure size 432x288 with 1 Axes>"
      ]
     },
     "metadata": {
      "needs_background": "light"
     },
     "output_type": "display_data"
    }
   ],
   "source": [
    "plt.scatter(X1,Y)"
   ]
  },
  {
   "cell_type": "code",
   "execution_count": 380,
   "metadata": {},
   "outputs": [
    {
     "data": {
      "text/plain": [
       "(1000,)"
      ]
     },
     "execution_count": 380,
     "metadata": {},
     "output_type": "execute_result"
    }
   ],
   "source": [
    "np.shape(X1)"
   ]
  },
  {
   "cell_type": "code",
   "execution_count": 381,
   "metadata": {},
   "outputs": [
    {
     "data": {
      "text/plain": [
       "(1000, 2)"
      ]
     },
     "execution_count": 381,
     "metadata": {},
     "output_type": "execute_result"
    }
   ],
   "source": [
    "np.shape(X)"
   ]
  },
  {
   "cell_type": "code",
   "execution_count": 382,
   "metadata": {},
   "outputs": [
    {
     "name": "stdout",
     "output_type": "stream",
     "text": [
      "a\n",
      "b\n",
      "c\n"
     ]
    }
   ],
   "source": [
    "X1 = np.reshape(X1, newshape = (len(X1),1))\n",
    "X2 = np.reshape(X2, newshape = (len(X2),1))\n",
    "X = np.hstack((X1,X2))\n",
    "m = len(X)\n",
    "n = 2\n",
    "\n",
    "X_train = X[:int(m/2),:]\n",
    "Y_train = Y[:int(m/2)]\n",
    "X_test = X[int(m/2):,:]\n",
    "Y_test = Y[int(m/2):]\n",
    "alpha = 0\n",
    "beta = cp.Variable(n)\n",
    "lambd = cp.Parameter(nonneg=True)\n",
    "lambd2 = cp.Parameter(nonneg=True)\n",
    "print(\"a\")\n",
    "problem = cp.Problem(cp.Minimize(objective_fn_elastic_net(X_train, Y_train, beta, lambd,lambd2)))\n",
    "print(\"b\")\n",
    "lambd_values = np.logspace(-2, 3, 50) ## Changing the lambda is equivalent to changing the t in order to observe different levels of regularisation\n",
    "## alpha = l2/(l1+l2)\n",
    "## so l2 = l1*alpha/(1-alpha)\n",
    "lambd2_values = lambd_values*(alpha/(1-alpha))\n",
    "\n",
    "train_errors = []\n",
    "test_errors = []\n",
    "beta_values = []\n",
    "counter = 0\n",
    "print(\"c\")\n",
    "for count,v in enumerate(lambd_values):\n",
    "    lambd.value = v\n",
    "    lambd2.value = lambd2_values[count]\n",
    "    #print(\"Values remaining: \" +str(len(lambd_values)-count))\n",
    "    problem.solve()\n",
    "    test_error = mse_elastic_net(X_test, Y_test, beta)\n",
    "    train_errors.append(mse_elastic_net(X_train, Y_train, beta))\n",
    "    test_errors.append(test_error)\n",
    "    beta_values.append(beta.value)\n",
    "\n",
    "\n",
    "\n",
    "opt_lambda = lambd_values[test_errors.index(min(test_errors))]\n",
    "opt_beta = beta_values[test_errors.index(min(test_errors))]\n",
    "y_pred = X_test@opt_beta\n",
    "avg_ss = sum(((Y_test - Y_test.mean())**2)**(0.5))\n",
    "pred_ss = sum(((Y_test - y_pred)**2)**(0.5))\n",
    "r_squared = 1- (pred_ss/avg_ss)\n"
   ]
  },
  {
   "cell_type": "code",
   "execution_count": 383,
   "metadata": {},
   "outputs": [
    {
     "data": {
      "text/plain": [
       "array([0.17366576, 0.17366576])"
      ]
     },
     "execution_count": 383,
     "metadata": {},
     "output_type": "execute_result"
    }
   ],
   "source": [
    "opt_beta\n",
    "## From this - we can see that the Lasso effectively recovers the coefficient although the regression is high due to the large \n",
    "## amount of noise"
   ]
  },
  {
   "cell_type": "code",
   "execution_count": 384,
   "metadata": {},
   "outputs": [
    {
     "data": {
      "text/plain": [
       "0.0672858281786104"
      ]
     },
     "execution_count": 384,
     "metadata": {},
     "output_type": "execute_result"
    }
   ],
   "source": [
    "r_squared"
   ]
  },
  {
   "cell_type": "code",
   "execution_count": 385,
   "metadata": {},
   "outputs": [
    {
     "data": {
      "image/png": "[encoded data removed]",
      "text/plain": [
       "<Figure size 432x288 with 1 Axes>"
      ]
     },
     "metadata": {
      "needs_background": "light"
     },
     "output_type": "display_data"
    },
    {
     "data": {
      "image/png": "[encoded data removed]",
      "text/plain": [
       "<Figure size 432x288 with 1 Axes>"
      ]
     },
     "metadata": {
      "needs_background": "light"
     },
     "output_type": "display_data"
    }
   ],
   "source": [
    "plot_train_test_errors(train_errors, test_errors, lambd_values)\n",
    "plot_regularization_path(lambd_values, beta_values)"
   ]
  },
  {
   "cell_type": "markdown",
   "metadata": {},
   "source": [
    "#### Test vs normalised variables"
   ]
  },
  {
   "cell_type": "code",
   "execution_count": 277,
   "metadata": {},
   "outputs": [],
   "source": [
    "## Now, see if normalisation makes a difference\n",
    "X1 = np.random.normal(10,0.5,10000\n",
    "                    )\n",
    "X2 = np.random.uniform(0,0.1,10000)\n",
    "error = np.random.normal(0,0.4,10000)\n",
    "Y = X1+0.2*X2\n",
    "X1_mean = X1.mean()\n",
    "X1_std = X1.std()\n",
    "X2_mean = X2.mean()\n",
    "X2_std = X2.std()\n",
    "X1 = (X1-X1_mean)#/X1_std\n",
    "X2 = (X2-X2_mean)#/X2_std\n",
    "Y = Y - Y.mean()"
   ]
  },
  {
   "cell_type": "code",
   "execution_count": 278,
   "metadata": {},
   "outputs": [
    {
     "name": "stdout",
     "output_type": "stream",
     "text": [
      "a\n",
      "b\n",
      "c\n"
     ]
    }
   ],
   "source": [
    "X1 = np.reshape(X1, newshape = (len(X1),1))\n",
    "X2 = np.reshape(X2, newshape = (len(X2),1))\n",
    "X = np.hstack((X1,X2))\n",
    "m = len(X)\n",
    "n = 2\n",
    "\n",
    "X_train = X[:int(m/2),:]\n",
    "Y_train = Y[:int(m/2)]\n",
    "X_test = X[int(m/2):,:]\n",
    "Y_test = Y[int(m/2):]\n",
    "alpha = 0\n",
    "beta = cp.Variable(n)\n",
    "lambd = cp.Parameter(nonneg=True)\n",
    "lambd2 = cp.Parameter(nonneg=True)\n",
    "print(\"a\")\n",
    "problem = cp.Problem(cp.Minimize(objective_fn_elastic_net(X_train, Y_train, beta, lambd,lambd2)))\n",
    "print(\"b\")\n",
    "lambd_values = np.logspace(-2, 3, 50) ## Changing the lambda is equivalent to changing the t in order to observe different levels of regularisation\n",
    "## alpha = l2/(l1+l2)\n",
    "## so l2 = l1*alpha/(1-alpha)\n",
    "lambd2_values = lambd_values*(alpha/(1-alpha))\n",
    "\n",
    "train_errors = []\n",
    "test_errors = []\n",
    "beta_values = []\n",
    "counter = 0\n",
    "print(\"c\")\n",
    "for count,v in enumerate(lambd_values):\n",
    "    lambd.value = v\n",
    "    lambd2.value = lambd2_values[count]\n",
    "    #print(\"Values remaining: \" +str(len(lambd_values)-count))\n",
    "    problem.solve()\n",
    "    test_error = mse_elastic_net(X_test, Y_test, beta)\n",
    "    train_errors.append(mse_elastic_net(X_train, Y_train, beta))\n",
    "    test_errors.append(test_error)\n",
    "    beta_values.append(beta.value)\n",
    "\n",
    "\n",
    "\n",
    "opt_lambda = lambd_values[test_errors.index(min(test_errors))]\n",
    "opt_beta = beta_values[test_errors.index(min(test_errors))]\n",
    "y_pred = X_test@opt_beta\n",
    "avg_ss = sum(((Y_test - Y_test.mean())**2)**(0.5))\n",
    "pred_ss = sum(((Y_test - y_pred)**2)**(0.5))\n",
    "r_squared = 1- (pred_ss/avg_ss)\n"
   ]
  },
  {
   "cell_type": "code",
   "execution_count": 279,
   "metadata": {
    "scrolled": true
   },
   "outputs": [
    {
     "data": {
      "image/png": "[encoded data removed]",
      "text/plain": [
       "<Figure size 432x288 with 1 Axes>"
      ]
     },
     "metadata": {
      "needs_background": "light"
     },
     "output_type": "display_data"
    },
    {
     "data": {
      "image/png": "[encoded data removed]",
      "text/plain": [
       "<Figure size 432x288 with 1 Axes>"
      ]
     },
     "metadata": {
      "needs_background": "light"
     },
     "output_type": "display_data"
    }
   ],
   "source": [
    "plot_train_test_errors(train_errors, test_errors, lambd_values)\n",
    "plot_regularization_path(lambd_values, beta_values)"
   ]
  },
  {
   "cell_type": "code",
   "execution_count": 280,
   "metadata": {
    "scrolled": true
   },
   "outputs": [
    {
     "name": "stdout",
     "output_type": "stream",
     "text": [
      "[0.99999406 0.19877535]\n",
      "0.9999241610144813\n"
     ]
    }
   ],
   "source": [
    "print(opt_beta)\n",
    "print(r_squared)"
   ]
  },
  {
   "cell_type": "markdown",
   "metadata": {},
   "source": [
    "### Conclusion"
   ]
  },
  {
   "cell_type": "code",
   "execution_count": null,
   "metadata": {},
   "outputs": [],
   "source": [
    "## Due to the need to regularise data before use, the lasso will fail if there is or are one of the following:\n",
    "## 1. an normalised item\n",
    "## 2. a constant relationship in the presence of nothing being normalised\n",
    "\n",
    "## without normalisation, the propensity to under-fit the test set is very high. This is because the ability to \n",
    "## train well on the training set will be limited since there is no constant term to aid the Lasso. As the lambda\n",
    "## term increases, the betas that are already struggling to work will be shrunk even further, so the model will\n",
    "## just get worse.\n",
    "## When these ill-fit parameters are applied on the test set, due to the inability to train properly, these may fit the\n",
    "## test set even worse / better; but worse ex-hypothesi when the test and training set look similar.\n",
    "## hence, as the lambdas increase, the model will become better at predicting since the parameters are so ill fit, \n",
    "## and the regularisaiton term also will decrease.\n",
    "\n",
    "## The flow is: model misspecification causes inability to train on training set\n",
    "## Ill-fitted parameters mean regularisation strictly decreases test set error through both dimensions (X/Y and reg.)\n"
   ]
  },
  {
   "cell_type": "markdown",
   "metadata": {},
   "source": [
    "# Kernel density estimate"
   ]
  },
  {
   "cell_type": "code",
   "execution_count": 281,
   "metadata": {},
   "outputs": [],
   "source": [
    "### This is going to test to see if KDE does actually accurately reproduce pricing data"
   ]
  },
  {
   "cell_type": "code",
   "execution_count": 283,
   "metadata": {},
   "outputs": [],
   "source": [
    "\n",
    "    \n",
    "file_path = r\"C:\\Users\\hugo.lu\\repos\\repos_backup\\Strategy-creation\\cleaned_matrices\\technical_indicator_clean.csv\"\n",
    "pricing_data_string = r\"C:\\Users\\hugo.lu\\repos\\repos_backup\\Strategy-creation\\Raw data\\EURUSD\\2020-05-05_EURUSD_MIDPOINT_10 Y_1 day.csv\""
   ]
  },
  {
   "cell_type": "code",
   "execution_count": 284,
   "metadata": {},
   "outputs": [],
   "source": [
    "pricing_data = pd.read_csv(filepath_or_buffer = pricing_data_string, index_col = 0)"
   ]
  },
  {
   "cell_type": "code",
   "execution_count": 291,
   "metadata": {},
   "outputs": [],
   "source": [
    "close = pricing_data['close']\n",
    "first_difference =(close- close.shift(1)).dropna()"
   ]
  },
  {
   "cell_type": "code",
   "execution_count": 294,
   "metadata": {},
   "outputs": [
    {
     "data": {
      "text/plain": [
       "<matplotlib.axes._subplots.AxesSubplot at 0x220dc52b208>"
      ]
     },
     "execution_count": 294,
     "metadata": {},
     "output_type": "execute_result"
    },
    {
     "data": {
      "image/png": "[encoded data removed]",
      "text/plain": [
       "<Figure size 432x288 with 1 Axes>"
      ]
     },
     "metadata": {
      "needs_background": "light"
     },
     "output_type": "display_data"
    }
   ],
   "source": [
    "first_difference.hist()"
   ]
  },
  {
   "cell_type": "code",
   "execution_count": 293,
   "metadata": {},
   "outputs": [
    {
     "data": {
      "text/plain": [
       "[<matplotlib.lines.Line2D at 0x220db0c6da0>]"
      ]
     },
     "execution_count": 293,
     "metadata": {},
     "output_type": "execute_result"
    },
    {
     "data": {
      "image/png": "[encoded data removed]",
      "text/plain": [
       "<Figure size 432x288 with 1 Axes>"
      ]
     },
     "metadata": {
      "needs_background": "light"
     },
     "output_type": "display_data"
    }
   ],
   "source": [
    "\n",
    "x = np.array(first_difference)\n",
    "xs = np.linspace(-0.05,0.05,1000)\n",
    "# expects n x p matrix with p features\n",
    "x.shape = (len(x), 1)\n",
    "xs.shape = (len(xs), 1)\n",
    "#### Question@ is this the correct KDE to use? Probably can be refined and generalised....\n",
    "kde = KernelDensity(bandwidth=0.003).fit(x)\n",
    "dens = np.exp(kde.score_samples(xs))\n",
    "plt.plot(xs, dens)\n"
   ]
  },
  {
   "cell_type": "code",
   "execution_count": 295,
   "metadata": {},
   "outputs": [],
   "source": [
    "probs = dens / sum(dens)\n",
    "xs_comma = np.reshape(xs,newshape = (len(xs),))"
   ]
  },
  {
   "cell_type": "code",
   "execution_count": 296,
   "metadata": {},
   "outputs": [],
   "source": [
    "mc = np.random.choice(xs_comma, size=10000, replace=True, p=probs)"
   ]
  },
  {
   "cell_type": "code",
   "execution_count": 300,
   "metadata": {},
   "outputs": [
    {
     "data": {
      "text/plain": [
       "(array([3.000e+00, 1.100e+01, 1.800e+01, 3.500e+01, 7.000e+01, 1.490e+02,\n",
       "        2.880e+02, 6.230e+02, 1.189e+03, 1.871e+03, 2.149e+03, 1.697e+03,\n",
       "        1.010e+03, 4.810e+02, 2.170e+02, 1.120e+02, 3.900e+01, 2.700e+01,\n",
       "        9.000e+00, 2.000e+00]),\n",
       " array([-0.03658659, -0.03306306, -0.02953954, -0.02601602, -0.02249249,\n",
       "        -0.01896897, -0.01544545, -0.01192192, -0.0083984 , -0.00487487,\n",
       "        -0.00135135,  0.00217217,  0.0056957 ,  0.00921922,  0.01274274,\n",
       "         0.01626627,  0.01978979,  0.02331331,  0.02683684,  0.03036036,\n",
       "         0.03388388]),\n",
       " <a list of 20 Patch objects>)"
      ]
     },
     "execution_count": 300,
     "metadata": {},
     "output_type": "execute_result"
    },
    {
     "data": {
      "image/png": "[encoded data removed]",
      "text/plain": [
       "<Figure size 432x288 with 1 Axes>"
      ]
     },
     "metadata": {
      "needs_background": "light"
     },
     "output_type": "display_data"
    }
   ],
   "source": [
    "plt.hist(mc,bins = 20)"
   ]
  },
  {
   "cell_type": "code",
   "execution_count": 305,
   "metadata": {},
   "outputs": [
    {
     "data": {
      "text/plain": [
       "<matplotlib.axes._subplots.AxesSubplot at 0x220ddbe3a90>"
      ]
     },
     "execution_count": 305,
     "metadata": {},
     "output_type": "execute_result"
    },
    {
     "data": {
      "image/png": "[encoded data removed]",
      "text/plain": [
       "<Figure size 432x288 with 1 Axes>"
      ]
     },
     "metadata": {
      "needs_background": "light"
     },
     "output_type": "display_data"
    }
   ],
   "source": [
    "#Visualisation:\n",
    "sns.distplot(mc, hist=True, kde=True, \n",
    "             bins=int(round((len(first_difference)/60))), color = 'darkblue', \n",
    "             hist_kws={'edgecolor':'black'},\n",
    "             kde_kws={'linewidth': 4})"
   ]
  },
  {
   "cell_type": "code",
   "execution_count": 393,
   "metadata": {},
   "outputs": [
    {
     "data": {
      "text/plain": [
       "[<matplotlib.lines.Line2D at 0x220e17e1518>]"
      ]
     },
     "execution_count": 393,
     "metadata": {},
     "output_type": "execute_result"
    },
    {
     "data": {
      "image/png": "[encoded data removed]",
      "text/plain": [
       "<Figure size 432x288 with 1 Axes>"
      ]
     },
     "metadata": {
      "needs_background": "light"
     },
     "output_type": "display_data"
    }
   ],
   "source": [
    "plt.plot(first_difference.rolling(120).std())"
   ]
  },
  {
   "cell_type": "code",
   "execution_count": 392,
   "metadata": {},
   "outputs": [
    {
     "name": "stdout",
     "output_type": "stream",
     "text": [
      "Stationary for: \n"
     ]
    }
   ],
   "source": [
    "result = adfuller(first_difference)\n",
    "    #print('ADF Statistic: %f' % result[0])\n",
    "#print('p-value: %f' % result[1])\n",
    "#print('Critical Values:')\n",
    "#for key, value in result[4].items():\n",
    "#    print('\\t%s: %.3f' % (key, value))\n",
    "if result[0] < -3.434:\n",
    "    print(\"Stationary for: \" )\n",
    "    \n",
    "else:\n",
    "    print(\"Non stationary for: \" )\n"
   ]
  },
  {
   "cell_type": "code",
   "execution_count": 394,
   "metadata": {},
   "outputs": [
    {
     "data": {
      "text/plain": [
       "(-51.68564000589435,\n",
       " 0.0,\n",
       " 0,\n",
       " 2591,\n",
       " {'1%': -3.4328763567780456,\n",
       "  '5%': -2.8626561482371278,\n",
       "  '10%': -2.5673641660121183},\n",
       " -18347.333943882724)"
      ]
     },
     "execution_count": 394,
     "metadata": {},
     "output_type": "execute_result"
    }
   ],
   "source": [
    "#### although the parameters are changing significantly, it is not significant enough to reject stationarity.\n",
    "result"
   ]
  },
  {
   "cell_type": "code",
   "execution_count": 397,
   "metadata": {},
   "outputs": [],
   "source": [
    "forward_opportunity = close.rolling(21).max()\n",
    "forward_opportunity = forward_opportunity.shift(-21)\n",
    "forward_opportunity = forward_opportunity.dropna() "
   ]
  },
  {
   "cell_type": "code",
   "execution_count": 398,
   "metadata": {},
   "outputs": [
    {
     "name": "stdout",
     "output_type": "stream",
     "text": [
      "Non stationary for: \n"
     ]
    }
   ],
   "source": [
    "result = adfuller(forward_opportunity)\n",
    "    #print('ADF Statistic: %f' % result[0])\n",
    "#print('p-value: %f' % result[1])\n",
    "#print('Critical Values:')\n",
    "#for key, value in result[4].items():\n",
    "#    print('\\t%s: %.3f' % (key, value))\n",
    "if result[0] < -3.434:\n",
    "    print(\"Stationary for: \" )\n",
    "    \n",
    "else:\n",
    "    print(\"Non stationary for: \" )\n"
   ]
  },
  {
   "cell_type": "code",
   "execution_count": 399,
   "metadata": {},
   "outputs": [
    {
     "data": {
      "text/plain": [
       "(-1.166282956572105,\n",
       " 0.6879292288746389,\n",
       " 11,\n",
       " 2560,\n",
       " {'1%': -3.4329069801374077,\n",
       "  '5%': -2.862669671881199,\n",
       "  '10%': -2.5673713661193847},\n",
       " -22332.784690983186)"
      ]
     },
     "execution_count": 399,
     "metadata": {},
     "output_type": "execute_result"
    }
   ],
   "source": [
    "result"
   ]
  },
  {
   "cell_type": "markdown",
   "metadata": {},
   "source": [
    "### Regularisation"
   ]
  },
  {
   "cell_type": "code",
   "execution_count": 1,
   "metadata": {},
   "outputs": [],
   "source": [
    "## Consider a random numpy array"
   ]
  },
  {
   "cell_type": "code",
   "execution_count": 36,
   "metadata": {},
   "outputs": [],
   "source": [
    "import numpy as np\n",
    "import pandas as pd\n",
    "import matplotlib as plt"
   ]
  },
  {
   "cell_type": "code",
   "execution_count": 62,
   "metadata": {},
   "outputs": [],
   "source": [
    "array = np.random.normal(0,3,1000)"
   ]
  },
  {
   "cell_type": "code",
   "execution_count": 63,
   "metadata": {},
   "outputs": [
    {
     "data": {
      "text/plain": [
       "(array([ 11.,  28., 101., 175., 205., 255., 131.,  63.,  23.,   8.]),\n",
       " array([-8.8960871 , -7.03530575, -5.17452441, -3.31374306, -1.45296171,\n",
       "         0.40781964,  2.26860098,  4.12938233,  5.99016368,  7.85094503,\n",
       "         9.71172637]),\n",
       " <a list of 10 Patch objects>)"
      ]
     },
     "execution_count": 63,
     "metadata": {},
     "output_type": "execute_result"
    },
    {
     "data": {
      "image/png": "[encoded data removed]",
      "text/plain": [
       "<Figure size 432x288 with 1 Axes>"
      ]
     },
     "metadata": {
      "needs_background": "light"
     },
     "output_type": "display_data"
    }
   ],
   "source": [
    "plt.pyplot.hist(array)"
   ]
  },
  {
   "cell_type": "code",
   "execution_count": 64,
   "metadata": {},
   "outputs": [],
   "source": [
    "## Suppose we regularise, and then apply a function, and then regularise again"
   ]
  },
  {
   "cell_type": "code",
   "execution_count": 65,
   "metadata": {},
   "outputs": [],
   "source": [
    "reg1 = (array - array.mean())/array.std()\n",
    "#reg1 = reg1/array.std()"
   ]
  },
  {
   "cell_type": "code",
   "execution_count": 66,
   "metadata": {},
   "outputs": [
    {
     "data": {
      "text/plain": [
       "(array([ 11.,  28., 101., 175., 205., 255., 131.,  63.,  23.,   8.]),\n",
       " array([-2.90518971, -2.30246483, -1.69973996, -1.09701509, -0.49429021,\n",
       "         0.10843466,  0.71115953,  1.31388441,  1.91660928,  2.51933416,\n",
       "         3.12205903]),\n",
       " <a list of 10 Patch objects>)"
      ]
     },
     "execution_count": 66,
     "metadata": {},
     "output_type": "execute_result"
    },
    {
     "data": {
      "image/png": "[encoded data removed]",
      "text/plain": [
       "<Figure size 432x288 with 1 Axes>"
      ]
     },
     "metadata": {
      "needs_background": "light"
     },
     "output_type": "display_data"
    }
   ],
   "source": [
    "plt.pyplot.hist(reg1)"
   ]
  },
  {
   "cell_type": "code",
   "execution_count": 67,
   "metadata": {},
   "outputs": [
    {
     "data": {
      "image/png": "[encoded data removed]",
      "text/plain": [
       "<Figure size 432x288 with 1 Axes>"
      ]
     },
     "metadata": {
      "needs_background": "light"
     },
     "output_type": "display_data"
    }
   ],
   "source": [
    "reg1 = pd.DataFrame(reg1)\n",
    "reg1 = reg1.iloc[:,0]\n",
    "reg1 = reg1.apply(lambda x: -x if x < 0 else x)\n",
    "plt.pyplot.hist(reg1)\n",
    "reg1 = (reg1 - reg1.mean())/reg1.std()\n"
   ]
  },
  {
   "cell_type": "code",
   "execution_count": 68,
   "metadata": {},
   "outputs": [
    {
     "data": {
      "text/plain": [
       "<matplotlib.axes._subplots.AxesSubplot at 0x23f4bc23ba8>"
      ]
     },
     "execution_count": 68,
     "metadata": {},
     "output_type": "execute_result"
    },
    {
     "data": {
      "image/png": "[encoded data removed]",
      "text/plain": [
       "<Figure size 432x288 with 1 Axes>"
      ]
     },
     "metadata": {
      "needs_background": "light"
     },
     "output_type": "display_data"
    }
   ],
   "source": [
    "reg1.hist()"
   ]
  },
  {
   "cell_type": "code",
   "execution_count": 69,
   "metadata": {},
   "outputs": [],
   "source": [
    "## Suppose instead, we apply the function first and then regularise\n",
    "reg2 = array"
   ]
  },
  {
   "cell_type": "code",
   "execution_count": 70,
   "metadata": {},
   "outputs": [
    {
     "data": {
      "image/png": "[encoded data removed]",
      "text/plain": [
       "<Figure size 432x288 with 1 Axes>"
      ]
     },
     "metadata": {
      "needs_background": "light"
     },
     "output_type": "display_data"
    }
   ],
   "source": [
    "reg2 = pd.DataFrame(reg2)\n",
    "reg2 = reg2.iloc[:,0]\n",
    "reg2 = reg2.apply(lambda x: -x if x < 0 else x)\n",
    "plt.pyplot.hist(reg2)\n",
    "reg2 = (reg2 - reg2.mean())/reg2.std()"
   ]
  },
  {
   "cell_type": "code",
   "execution_count": 71,
   "metadata": {},
   "outputs": [
    {
     "data": {
      "text/plain": [
       "<matplotlib.axes._subplots.AxesSubplot at 0x23f4bd6a860>"
      ]
     },
     "execution_count": 71,
     "metadata": {},
     "output_type": "execute_result"
    },
    {
     "data": {
      "image/png": "[encoded data removed]",
      "text/plain": [
       "<Figure size 432x288 with 1 Axes>"
      ]
     },
     "metadata": {
      "needs_background": "light"
     },
     "output_type": "display_data"
    }
   ],
   "source": [
    "reg2.hist()"
   ]
  },
  {
   "cell_type": "code",
   "execution_count": 78,
   "metadata": {},
   "outputs": [
    {
     "data": {
      "text/plain": [
       "39.018079459193345"
      ]
     },
     "execution_count": 78,
     "metadata": {},
     "output_type": "execute_result"
    }
   ],
   "source": [
    "sum(np.absolute(reg1-reg2)) ## So the two are not equivalent."
   ]
  }
 ],
 "metadata": {
  "kernelspec": {
   "display_name": "Python 3",
   "language": "python",
   "name": "python3"
  },
  "language_info": {
   "codemirror_mode": {
    "name": "ipython",
    "version": 3
   },
   "file_extension": ".py",
   "mimetype": "text/x-python",
   "name": "python",
   "nbconvert_exporter": "python",
   "pygments_lexer": "ipython3",
   "version": "3.7.3"
  }
 },
 "nbformat": 4,
 "nbformat_minor": 2
}
